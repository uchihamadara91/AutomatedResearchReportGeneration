{
 "cells": [
  {
   "cell_type": "code",
   "execution_count": 1,
   "id": "9740f4bf",
   "metadata": {},
   "outputs": [
    {
     "name": "stdout",
     "output_type": "stream",
     "text": [
      "4,3,2,1,Ho jaye Shuru!!!\n"
     ]
    }
   ],
   "source": [
    "print(\"4,3,2,1,Ho jaye Shuru!!!\")"
   ]
  },
  {
   "cell_type": "code",
   "execution_count": 2,
   "id": "0ca9a118",
   "metadata": {},
   "outputs": [
    {
     "name": "stderr",
     "output_type": "stream",
     "text": [
      "{\"timestamp\": \"2025-10-14T15:48:46.150313Z\", \"level\": \"info\", \"event\": \"OPENAI_API_KEY loaded from environment\"}\n",
      "{\"timestamp\": \"2025-10-14T15:48:46.150313Z\", \"level\": \"info\", \"event\": \"GOOGLE_API_KEY loaded from environment\"}\n",
      "{\"timestamp\": \"2025-10-14T15:48:46.150313Z\", \"level\": \"info\", \"event\": \"GROQ_API_KEY loaded from environment\"}\n",
      "{\"timestamp\": \"2025-10-14T15:48:46.150313Z\", \"level\": \"warning\", \"event\": \"ASTRA_DB_API_ENDPOINT is missing from environment\"}\n",
      "{\"timestamp\": \"2025-10-14T15:48:46.150313Z\", \"level\": \"warning\", \"event\": \"ASTRA_DB_APPLICATION_TOKEN is missing from environment\"}\n",
      "{\"timestamp\": \"2025-10-14T15:48:46.157314Z\", \"level\": \"warning\", \"event\": \"ASTRA_DB_KEYSPACE is missing from environment\"}\n",
      "{\"config_keys\": [\"astra_db\", \"embedding_model\", \"retriever\", \"llm\"], \"timestamp\": \"2025-10-14T15:48:46.159839Z\", \"level\": \"info\", \"event\": \"YAML config loaded\"}\n"
     ]
    }
   ],
   "source": [
    "from research_and_analyst.utils.model_loader import ModelLoader\n",
    "model_loader = ModelLoader()"
   ]
  },
  {
   "cell_type": "code",
   "execution_count": 3,
   "id": "fe7a4a0c",
   "metadata": {},
   "outputs": [
    {
     "name": "stderr",
     "output_type": "stream",
     "text": [
      "{\"provider\": \"openai\", \"model\": \"gpt-4o\", \"timestamp\": \"2025-10-14T15:48:46.164221Z\", \"level\": \"info\", \"event\": \"Loading LLM\"}\n"
     ]
    }
   ],
   "source": [
    "llm = model_loader.load_llm()"
   ]
  },
  {
   "cell_type": "code",
   "execution_count": 4,
   "id": "6fa0db7e",
   "metadata": {},
   "outputs": [
    {
     "name": "stderr",
     "output_type": "stream",
     "text": [
      "HTTP Request: POST https://api.openai.com/v1/chat/completions \"HTTP/1.1 200 OK\"\n"
     ]
    },
    {
     "data": {
      "text/plain": [
       "AIMessage(content=\"Yes, I'm active! How can I assist you today?\", additional_kwargs={'refusal': None}, response_metadata={'token_usage': {'completion_tokens': 12, 'prompt_tokens': 10, 'total_tokens': 22, 'completion_tokens_details': {'accepted_prediction_tokens': 0, 'audio_tokens': 0, 'reasoning_tokens': 0, 'rejected_prediction_tokens': 0}, 'prompt_tokens_details': {'audio_tokens': 0, 'cached_tokens': 0}}, 'model_name': 'gpt-4o-2024-08-06', 'system_fingerprint': 'fp_eb3c3cb84d', 'id': 'chatcmpl-CQbYV4Tuh24wmatdG5TZDTQX6ptv5', 'service_tier': 'default', 'finish_reason': 'stop', 'logprobs': None}, id='run--65c2f242-de06-4b5d-9f25-1cf717661237-0', usage_metadata={'input_tokens': 10, 'output_tokens': 12, 'total_tokens': 22, 'input_token_details': {'audio': 0, 'cache_read': 0}, 'output_token_details': {'audio': 0, 'reasoning': 0}})"
      ]
     },
     "execution_count": 4,
     "metadata": {},
     "output_type": "execute_result"
    }
   ],
   "source": [
    "llm.invoke(\"Uactive?\")"
   ]
  },
  {
   "cell_type": "code",
   "execution_count": 5,
   "id": "143578cd",
   "metadata": {},
   "outputs": [],
   "source": [
    "from typing import List\n",
    "from typing_extensions import TypedDict\n",
    "from pydantic import BaseModel, Field"
   ]
  },
  {
   "cell_type": "code",
   "execution_count": 6,
   "id": "418a065b",
   "metadata": {},
   "outputs": [],
   "source": [
    "from langgraph.graph import StateGraph, START, END\n",
    "from langchain_core.messages import AIMessage, HumanMessage, SystemMessage\n",
    "from langgraph.checkpoint.memory import MemorySaver\n"
   ]
  },
  {
   "cell_type": "code",
   "execution_count": 7,
   "id": "cb2ab19c",
   "metadata": {},
   "outputs": [],
   "source": [
    "class Analyst(BaseModel):\n",
    "    name: str = Field(description=\"Name of the analyst\")\n",
    "    role: str = Field(description=\"Role of the analyst in the context of the topic\")\n",
    "    affiliation: str = Field(description=\"Primary affiliation of the analyst\")\n",
    "    description: str = Field(description=\"Description of the analyst focus, concerns and motives\")\n",
    "\n",
    "    @property\n",
    "    def persona(self) ->str:\n",
    "        return f\"Name: {self.name}\\nRole: {self.role}\\nAffiliation: {self.affiliation}\\nDescription: {self.description}\\n\"\n",
    "    "
   ]
  },
  {
   "cell_type": "code",
   "execution_count": 8,
   "id": "dc5eba78",
   "metadata": {},
   "outputs": [],
   "source": [
    "class Perspectives(BaseModel):\n",
    "    analysts: List[Analyst] = Field(description=\"Comprehenssive list of analysts with their roles and affiliations\")"
   ]
  },
  {
   "cell_type": "code",
   "execution_count": 9,
   "id": "b1714fcb",
   "metadata": {},
   "outputs": [],
   "source": [
    "class GenerateAnalystState(TypedDict):\n",
    "    topic: str # research topic\n",
    "    max_analysts: int #number of analyst\n",
    "    human_analyst_feedback: str #human feedback\n",
    "    analysts: List[Analyst] # Analyst asking questions"
   ]
  },
  {
   "cell_type": "code",
   "execution_count": 10,
   "id": "45dacd0a",
   "metadata": {},
   "outputs": [],
   "source": [
    "analyst_instructions=\"\"\"You are tasked with creating a set of AI analyst personas. Follow these instructions carefully:\n",
    "\n",
    "1. First, review the research topic:\n",
    "{topic}\n",
    "        \n",
    "2. Examine any editorial feedback that has been optionally provided to guide creation of the analysts: \n",
    "        \n",
    "{human_analyst_feedback}\n",
    "    \n",
    "3. Determine the most interesting themes based upon documents and / or feedback above.\n",
    "                    \n",
    "4. Pick the top {max_analysts} themes.\n",
    "\n",
    "5. Assign one analyst to each theme.\"\"\""
   ]
  },
  {
   "cell_type": "code",
   "execution_count": 11,
   "id": "a1625e14",
   "metadata": {},
   "outputs": [
    {
     "name": "stdout",
     "output_type": "stream",
     "text": [
      "['You are tasked with creating a set of AI analyst personas. Follow these instructions carefully:\\n\\n1. First, review the research topic:\\nAstrology\\n\\n2. Examine any editorial feedback that has been optionally provided to guide creation of the analysts: \\n\\nBaisc astrology topics with astrophysics\\n\\n3. Determine the most interesting themes based upon documents and / or feedback above.\\n\\n4. Pick the top 4 themes.\\n\\n5. Assign one analyst to each theme.', 'Generate the set of analystics']\n"
     ]
    }
   ],
   "source": [
    "print([analyst_instructions.format(\n",
    "    topic=\"Astrology\",\n",
    "    max_analysts=4,\n",
    "    human_analyst_feedback=\"Baisc astrology topics with astrophysics\"\n",
    ")] + [\"Generate the set of analystics\"])"
   ]
  },
  {
   "cell_type": "code",
   "execution_count": 12,
   "id": "4c10561e",
   "metadata": {},
   "outputs": [],
   "source": [
    "def create_analyst(state: GenerateAnalystState):\n",
    "    \"\"\"\n",
    "    Fuction to create required analyst\n",
    "    \"\"\"\n",
    "\n",
    "    topic = state[\"topic\"]\n",
    "    max_analysts = state[\"max_analysts\"]\n",
    "    human_analayst_feedback = state.get(\"human_analyst_feedback\", \"\")\n",
    "\n",
    "    structured_llm = llm.with_structured_output(Perspectives)\n",
    "\n",
    "    system_messages = analyst_instructions.format(\n",
    "        topic=topic,\n",
    "        max_analysts=max_analysts,\n",
    "        human_analyst_feedback=human_analayst_feedback  \n",
    "    )\n",
    "\n",
    "    analysts = structured_llm.invoke([SystemMessage(content=system_messages)]+ [HumanMessage(content=\"Generate the set of analysts\")])\n",
    "    print(\"-*\" * 50)\n",
    "    print(analysts)\n",
    "    print(\"-*\" * 50)\n",
    "    print(analysts.analysts[0])\n",
    "    return {\"analysts\": analysts.analysts}"
   ]
  },
  {
   "cell_type": "code",
   "execution_count": 13,
   "id": "e319afab",
   "metadata": {},
   "outputs": [
    {
     "name": "stderr",
     "output_type": "stream",
     "text": [
      "HTTP Request: POST https://api.openai.com/v1/chat/completions \"HTTP/1.1 200 OK\"\n"
     ]
    },
    {
     "name": "stdout",
     "output_type": "stream",
     "text": [
      "-*-*-*-*-*-*-*-*-*-*-*-*-*-*-*-*-*-*-*-*-*-*-*-*-*-*-*-*-*-*-*-*-*-*-*-*-*-*-*-*-*-*-*-*-*-*-*-*-*-*\n",
      "analysts=[Analyst(name='Dr. Celeste Orion', role='Astrological Historian', affiliation='Institute of Cosmic Studies', description=\"Dr. Celeste Orion focuses on the historical development of astrology and its impact on various cultures throughout history. She is particularly interested in how astrological beliefs have shaped societal norms and influenced decision-making processes in different eras. Her work aims to provide a comprehensive understanding of astrology's role in human history, separating myth from documented influence.\"), Analyst(name='Professor Leo Astra', role='Astrology and Psychology Researcher', affiliation='University of Metaphysical Sciences', description='Professor Leo Astra explores the psychological aspects of astrology, examining why people are drawn to astrological beliefs and how these beliefs affect their mental well-being. His research delves into the cognitive biases that may lead individuals to find personal meaning in astrological readings, as well as the potential therapeutic benefits of astrology as a tool for self-reflection and personal growth.')]\n",
      "-*-*-*-*-*-*-*-*-*-*-*-*-*-*-*-*-*-*-*-*-*-*-*-*-*-*-*-*-*-*-*-*-*-*-*-*-*-*-*-*-*-*-*-*-*-*-*-*-*-*\n",
      "name='Dr. Celeste Orion' role='Astrological Historian' affiliation='Institute of Cosmic Studies' description=\"Dr. Celeste Orion focuses on the historical development of astrology and its impact on various cultures throughout history. She is particularly interested in how astrological beliefs have shaped societal norms and influenced decision-making processes in different eras. Her work aims to provide a comprehensive understanding of astrology's role in human history, separating myth from documented influence.\"\n"
     ]
    },
    {
     "data": {
      "text/plain": [
       "{'analysts': [Analyst(name='Dr. Celeste Orion', role='Astrological Historian', affiliation='Institute of Cosmic Studies', description=\"Dr. Celeste Orion focuses on the historical development of astrology and its impact on various cultures throughout history. She is particularly interested in how astrological beliefs have shaped societal norms and influenced decision-making processes in different eras. Her work aims to provide a comprehensive understanding of astrology's role in human history, separating myth from documented influence.\"),\n",
       "  Analyst(name='Professor Leo Astra', role='Astrology and Psychology Researcher', affiliation='University of Metaphysical Sciences', description='Professor Leo Astra explores the psychological aspects of astrology, examining why people are drawn to astrological beliefs and how these beliefs affect their mental well-being. His research delves into the cognitive biases that may lead individuals to find personal meaning in astrological readings, as well as the potential therapeutic benefits of astrology as a tool for self-reflection and personal growth.')]}"
      ]
     },
     "execution_count": 13,
     "metadata": {},
     "output_type": "execute_result"
    }
   ],
   "source": [
    "create_analyst(\n",
    "    {'topic': 'astrology',\n",
    "    'max_analysts': 2,\n",
    "    'human_analyst_feedback': 'give the real info'}\n",
    "    )"
   ]
  },
  {
   "cell_type": "code",
   "execution_count": 14,
   "id": "8d8566ee",
   "metadata": {},
   "outputs": [],
   "source": [
    "def human_feedback(state: GenerateAnalystState):\n",
    "    \"\"\" No-op node that should be interrupted on \"\"\"\n",
    "    pass"
   ]
  },
  {
   "cell_type": "code",
   "execution_count": 15,
   "id": "fb0f9d33",
   "metadata": {},
   "outputs": [],
   "source": [
    "def should_continue(state: GenerateAnalystState):\n",
    "    \"\"\" Return the next node to execute \"\"\"\n",
    "    feedback = (state.get(\"human_analyst_feedback\") or \"\").strip().lower()\n",
    "    if feedback and feedback not in [\"\", \"none\", \"skip\", \"done\", \"continue\"]:\n",
    "        return \"create_analyst\"\n",
    "    return END"
   ]
  },
  {
   "cell_type": "markdown",
   "id": "46ea59c1",
   "metadata": {},
   "source": [
    "# First Workflow"
   ]
  },
  {
   "cell_type": "code",
   "execution_count": 16,
   "id": "b27f24e3",
   "metadata": {},
   "outputs": [],
   "source": [
    "builder = StateGraph(GenerateAnalystState)"
   ]
  },
  {
   "cell_type": "code",
   "execution_count": 17,
   "id": "b7c93cad",
   "metadata": {},
   "outputs": [
    {
     "data": {
      "text/plain": [
       "<langgraph.graph.state.StateGraph at 0x218e8905690>"
      ]
     },
     "execution_count": 17,
     "metadata": {},
     "output_type": "execute_result"
    }
   ],
   "source": [
    "builder.add_node(\"create_analyst\", create_analyst)\n",
    "builder.add_node(\"human_feedback\",human_feedback)"
   ]
  },
  {
   "cell_type": "code",
   "execution_count": 18,
   "id": "1f755099",
   "metadata": {},
   "outputs": [
    {
     "data": {
      "text/plain": [
       "<langgraph.graph.state.StateGraph at 0x218e8905690>"
      ]
     },
     "execution_count": 18,
     "metadata": {},
     "output_type": "execute_result"
    }
   ],
   "source": [
    "builder.add_edge(START, \"create_analyst\")\n",
    "builder.add_edge(\"create_analyst\", \"human_feedback\")\n",
    "builder.add_conditional_edges(\"human_feedback\",\n",
    "                              should_continue,\n",
    "                              [\"create_analyst\",\n",
    "                               END])"
   ]
  },
  {
   "cell_type": "code",
   "execution_count": 19,
   "id": "e1beb071",
   "metadata": {},
   "outputs": [],
   "source": [
    "memory = MemorySaver()"
   ]
  },
  {
   "cell_type": "code",
   "execution_count": 20,
   "id": "32c7058f",
   "metadata": {},
   "outputs": [],
   "source": [
    "graph = builder.compile(interrupt_before= [\"human_feedback\"], checkpointer=memory)"
   ]
  },
  {
   "cell_type": "code",
   "execution_count": 21,
   "id": "5f944aa8",
   "metadata": {},
   "outputs": [
    {
     "data": {
      "image/png": "[encoded data removed]",
      "text/plain": [
       "<IPython.core.display.Image object>"
      ]
     },
     "metadata": {},
     "output_type": "display_data"
    }
   ],
   "source": [
    "from IPython.display import Image, display\n",
    "display(Image(graph.get_graph(xray=1).draw_mermaid_png()))"
   ]
  },
  {
   "cell_type": "code",
   "execution_count": 22,
   "id": "4054caec",
   "metadata": {},
   "outputs": [],
   "source": [
    "topic = \"The benefit of astrology in modern world\""
   ]
  },
  {
   "cell_type": "code",
   "execution_count": 23,
   "id": "ce2ab355",
   "metadata": {},
   "outputs": [],
   "source": [
    "max_analysts = 2"
   ]
  },
  {
   "cell_type": "code",
   "execution_count": 24,
   "id": "f57b76d7",
   "metadata": {},
   "outputs": [],
   "source": [
    "thread = {\"configurable\": {\"thread_id\":1}}"
   ]
  },
  {
   "cell_type": "code",
   "execution_count": 25,
   "id": "06161e2d",
   "metadata": {},
   "outputs": [
    {
     "name": "stderr",
     "output_type": "stream",
     "text": [
      "HTTP Request: POST https://api.openai.com/v1/chat/completions \"HTTP/1.1 200 OK\"\n"
     ]
    },
    {
     "name": "stdout",
     "output_type": "stream",
     "text": [
      "-*-*-*-*-*-*-*-*-*-*-*-*-*-*-*-*-*-*-*-*-*-*-*-*-*-*-*-*-*-*-*-*-*-*-*-*-*-*-*-*-*-*-*-*-*-*-*-*-*-*\n",
      "analysts=[Analyst(name='Dr. Celeste Harmon', role='Astrology and Mental Health Researcher', affiliation='Institute of Psychological Sciences', description='Dr. Harmon focuses on the psychological benefits of astrology, particularly how it can be used as a tool for self-reflection and personal growth. She is interested in how astrology can provide individuals with a framework for understanding their emotions and behaviors, potentially leading to improved mental health outcomes. Her research explores the therapeutic aspects of astrology and its role in modern psychological practices.'), Analyst(name='Professor Leo Zhang', role='Cultural Studies Expert', affiliation='Department of Cultural Studies, Global University', description='Professor Zhang examines the cultural significance of astrology in the modern world, analyzing how it has been integrated into contemporary society and its impact on cultural identity. He is particularly interested in the resurgence of astrology among younger generations and its role in digital culture. His work explores how astrology serves as a cultural touchstone, providing a sense of community and belonging in an increasingly fragmented world.')]\n",
      "-*-*-*-*-*-*-*-*-*-*-*-*-*-*-*-*-*-*-*-*-*-*-*-*-*-*-*-*-*-*-*-*-*-*-*-*-*-*-*-*-*-*-*-*-*-*-*-*-*-*\n",
      "name='Dr. Celeste Harmon' role='Astrology and Mental Health Researcher' affiliation='Institute of Psychological Sciences' description='Dr. Harmon focuses on the psychological benefits of astrology, particularly how it can be used as a tool for self-reflection and personal growth. She is interested in how astrology can provide individuals with a framework for understanding their emotions and behaviors, potentially leading to improved mental health outcomes. Her research explores the therapeutic aspects of astrology and its role in modern psychological practices.'\n",
      "Nmae: Dr. Celeste Harmon\n",
      "Affiliation: Institute of Psychological Sciences\n",
      "Role: Astrology and Mental Health Researcher\n",
      "Description: Dr. Harmon focuses on the psychological benefits of astrology, particularly how it can be used as a tool for self-reflection and personal growth. She is interested in how astrology can provide individuals with a framework for understanding their emotions and behaviors, potentially leading to improved mental health outcomes. Her research explores the therapeutic aspects of astrology and its role in modern psychological practices.\n",
      "--------------------------------------------------\n",
      "Nmae: Professor Leo Zhang\n",
      "Affiliation: Department of Cultural Studies, Global University\n",
      "Role: Cultural Studies Expert\n",
      "Description: Professor Zhang examines the cultural significance of astrology in the modern world, analyzing how it has been integrated into contemporary society and its impact on cultural identity. He is particularly interested in the resurgence of astrology among younger generations and its role in digital culture. His work explores how astrology serves as a cultural touchstone, providing a sense of community and belonging in an increasingly fragmented world.\n",
      "--------------------------------------------------\n"
     ]
    }
   ],
   "source": [
    "for event in graph.stream({\"topic\":topic,\n",
    "                           \"max_analysts\":max_analysts},\n",
    "                           thread,\n",
    "                           stream_mode=\"values\"):\n",
    "    analysts = event.get('analysts', '')\n",
    "\n",
    "    if analysts:\n",
    "        for analyst in analysts:\n",
    "            print(f\"Nmae: {analyst.name}\")\n",
    "            print(f\"Affiliation: {analyst.affiliation}\")\n",
    "            print(f\"Role: {analyst.role}\")\n",
    "            print(f\"Description: {analyst.description}\")\n",
    "            print(\"-\" *50)\n"
   ]
  },
  {
   "cell_type": "code",
   "execution_count": 26,
   "id": "799bda66",
   "metadata": {},
   "outputs": [],
   "source": [
    "state = graph.get_state(thread)"
   ]
  },
  {
   "cell_type": "code",
   "execution_count": 27,
   "id": "ddc58e71",
   "metadata": {},
   "outputs": [
    {
     "data": {
      "text/plain": [
       "StateSnapshot(values={'topic': 'The benefit of astrology in modern world', 'max_analysts': 2, 'analysts': [Analyst(name='Dr. Celeste Harmon', role='Astrology and Mental Health Researcher', affiliation='Institute of Psychological Sciences', description='Dr. Harmon focuses on the psychological benefits of astrology, particularly how it can be used as a tool for self-reflection and personal growth. She is interested in how astrology can provide individuals with a framework for understanding their emotions and behaviors, potentially leading to improved mental health outcomes. Her research explores the therapeutic aspects of astrology and its role in modern psychological practices.'), Analyst(name='Professor Leo Zhang', role='Cultural Studies Expert', affiliation='Department of Cultural Studies, Global University', description='Professor Zhang examines the cultural significance of astrology in the modern world, analyzing how it has been integrated into contemporary society and its impact on cultural identity. He is particularly interested in the resurgence of astrology among younger generations and its role in digital culture. His work explores how astrology serves as a cultural touchstone, providing a sense of community and belonging in an increasingly fragmented world.')]}, next=('human_feedback',), config={'configurable': {'thread_id': '1', 'checkpoint_ns': '', 'checkpoint_id': '1f0a9155-239a-686a-8001-79c227ca78bd'}}, metadata={'source': 'loop', 'step': 1, 'parents': {}}, created_at='2025-10-14T15:49:08.740311+00:00', parent_config={'configurable': {'thread_id': '1', 'checkpoint_ns': '', 'checkpoint_id': '1f0a9154-e439-6817-8000-c5c80122dafd'}}, tasks=(PregelTask(id='50e6aa20-1255-bd6b-2ad4-4d804a0ada1b', name='human_feedback', path=('__pregel_pull', 'human_feedback'), error=None, interrupts=(), state=None, result=None),), interrupts=())"
      ]
     },
     "execution_count": 27,
     "metadata": {},
     "output_type": "execute_result"
    }
   ],
   "source": [
    "state"
   ]
  },
  {
   "cell_type": "code",
   "execution_count": 28,
   "id": "5746bbd1",
   "metadata": {},
   "outputs": [
    {
     "data": {
      "text/plain": [
       "{'topic': 'The benefit of astrology in modern world',\n",
       " 'max_analysts': 2,\n",
       " 'analysts': [Analyst(name='Dr. Celeste Harmon', role='Astrology and Mental Health Researcher', affiliation='Institute of Psychological Sciences', description='Dr. Harmon focuses on the psychological benefits of astrology, particularly how it can be used as a tool for self-reflection and personal growth. She is interested in how astrology can provide individuals with a framework for understanding their emotions and behaviors, potentially leading to improved mental health outcomes. Her research explores the therapeutic aspects of astrology and its role in modern psychological practices.'),\n",
       "  Analyst(name='Professor Leo Zhang', role='Cultural Studies Expert', affiliation='Department of Cultural Studies, Global University', description='Professor Zhang examines the cultural significance of astrology in the modern world, analyzing how it has been integrated into contemporary society and its impact on cultural identity. He is particularly interested in the resurgence of astrology among younger generations and its role in digital culture. His work explores how astrology serves as a cultural touchstone, providing a sense of community and belonging in an increasingly fragmented world.')]}"
      ]
     },
     "execution_count": 28,
     "metadata": {},
     "output_type": "execute_result"
    }
   ],
   "source": [
    "state.values"
   ]
  },
  {
   "cell_type": "code",
   "execution_count": 29,
   "id": "25627f66",
   "metadata": {},
   "outputs": [
    {
     "data": {
      "text/plain": [
       "('human_feedback',)"
      ]
     },
     "execution_count": 29,
     "metadata": {},
     "output_type": "execute_result"
    }
   ],
   "source": [
    "state.next"
   ]
  },
  {
   "cell_type": "code",
   "execution_count": 30,
   "id": "327d2d47",
   "metadata": {},
   "outputs": [
    {
     "data": {
      "text/plain": [
       "dict_items([('1', defaultdict(<class 'dict'>, {'': {'1f0a9154-e434-69b1-bfff-1575cce739cd': (('msgpack', b'\\x86\\xa1v\\x04\\xa2ts\\xd9 2025-10-14T15:49:02.092536+00:00\\xa2id\\xd9$1f0a9154-e434-69b1-bfff-1575cce739cd\\xb0channel_versions\\x81\\xa9__start__\\xd9300000000000000000000000000000001.0.3877634396930908\\xadversions_seen\\x81\\xa9__input__\\x80\\xb0updated_channels\\x91\\xa9__start__'), ('msgpack', b'\\x83\\xa6source\\xa5input\\xa4step\\xff\\xa7parents\\x80'), None), '1f0a9154-e439-6817-8000-c5c80122dafd': (('msgpack', b'\\x86\\xa1v\\x04\\xa2ts\\xd9 2025-10-14T15:49:02.094543+00:00\\xa2id\\xd9$1f0a9154-e439-6817-8000-c5c80122dafd\\xb0channel_versions\\x84\\xa9__start__\\xd9400000000000000000000000000000002.0.17831061276023508\\xa5topic\\xd9400000000000000000000000000000002.0.17831061276023508\\xacmax_analysts\\xd9400000000000000000000000000000002.0.17831061276023508\\xb8branch:to:create_analyst\\xd9400000000000000000000000000000002.0.17831061276023508\\xadversions_seen\\x82\\xa9__input__\\x80\\xa9__start__\\x81\\xa9__start__\\xd9300000000000000000000000000000001.0.3877634396930908\\xb0updated_channels\\x93\\xb8branch:to:create_analyst\\xacmax_analysts\\xa5topic'), ('msgpack', b'\\x83\\xa6source\\xa4loop\\xa4step\\x00\\xa7parents\\x80'), '1f0a9154-e434-69b1-bfff-1575cce739cd'), '1f0a9155-239a-686a-8001-79c227ca78bd': (('msgpack', b'\\x86\\xa1v\\x04\\xa2ts\\xd9 2025-10-14T15:49:08.740311+00:00\\xa2id\\xd9$1f0a9155-239a-686a-8001-79c227ca78bd\\xb0channel_versions\\x86\\xa9__start__\\xd9400000000000000000000000000000002.0.17831061276023508\\xa5topic\\xd9400000000000000000000000000000002.0.17831061276023508\\xacmax_analysts\\xd9400000000000000000000000000000002.0.17831061276023508\\xb8branch:to:create_analyst\\xd9200000000000000000000000000000003.0.890656993285088\\xa8analysts\\xd9200000000000000000000000000000003.0.890656993285088\\xb8branch:to:human_feedback\\xd9200000000000000000000000000000003.0.890656993285088\\xadversions_seen\\x83\\xa9__input__\\x80\\xa9__start__\\x81\\xa9__start__\\xd9300000000000000000000000000000001.0.3877634396930908\\xaecreate_analyst\\x81\\xb8branch:to:create_analyst\\xd9400000000000000000000000000000002.0.17831061276023508\\xb0updated_channels\\x92\\xa8analysts\\xb8branch:to:human_feedback'), ('msgpack', b'\\x83\\xa6source\\xa4loop\\xa4step\\x01\\xa7parents\\x80'), '1f0a9154-e439-6817-8000-c5c80122dafd')}}))])"
      ]
     },
     "execution_count": 30,
     "metadata": {},
     "output_type": "execute_result"
    }
   ],
   "source": [
    "memory.storage.items()"
   ]
  },
  {
   "cell_type": "code",
   "execution_count": 31,
   "id": "c172d4a1",
   "metadata": {},
   "outputs": [
    {
     "data": {
      "text/plain": [
       "{'configurable': {'thread_id': '1',\n",
       "  'checkpoint_ns': '',\n",
       "  'checkpoint_id': '1f0a9155-239a-686a-8001-79c227ca78bd'}}"
      ]
     },
     "execution_count": 31,
     "metadata": {},
     "output_type": "execute_result"
    }
   ],
   "source": [
    "state.config"
   ]
  },
  {
   "cell_type": "code",
   "execution_count": 32,
   "id": "df51c03d",
   "metadata": {},
   "outputs": [
    {
     "data": {
      "text/plain": [
       "{'configurable': {'thread_id': '1',\n",
       "  'checkpoint_ns': '',\n",
       "  'checkpoint_id': '1f0a9155-242e-6bb3-8002-1c6ea0d64533'}}"
      ]
     },
     "execution_count": 32,
     "metadata": {},
     "output_type": "execute_result"
    }
   ],
   "source": [
    "graph.update_state(thread,\n",
    "                   {\"human_analyst_feedback\":\"add something from human mind that is affected by planet positions\"},as_node=\"human_feedback\"\n",
    "                   )"
   ]
  },
  {
   "cell_type": "code",
   "execution_count": 33,
   "id": "37678271",
   "metadata": {},
   "outputs": [
    {
     "name": "stdout",
     "output_type": "stream",
     "text": [
      "Name: Dr. Celeste Harmon\n",
      "Affiliation: Institute of Psychological Sciences\n",
      "Role: Astrology and Mental Health Researcher\n",
      "Description: Dr. Harmon focuses on the psychological benefits of astrology, particularly how it can be used as a tool for self-reflection and personal growth. She is interested in how astrology can provide individuals with a framework for understanding their emotions and behaviors, potentially leading to improved mental health outcomes. Her research explores the therapeutic aspects of astrology and its role in modern psychological practices.\n",
      "--------------------------------------------------\n",
      "Name: Professor Leo Zhang\n",
      "Affiliation: Department of Cultural Studies, Global University\n",
      "Role: Cultural Studies Expert\n",
      "Description: Professor Zhang examines the cultural significance of astrology in the modern world, analyzing how it has been integrated into contemporary society and its impact on cultural identity. He is particularly interested in the resurgence of astrology among younger generations and its role in digital culture. His work explores how astrology serves as a cultural touchstone, providing a sense of community and belonging in an increasingly fragmented world.\n",
      "--------------------------------------------------\n"
     ]
    },
    {
     "name": "stderr",
     "output_type": "stream",
     "text": [
      "HTTP Request: POST https://api.openai.com/v1/chat/completions \"HTTP/1.1 200 OK\"\n"
     ]
    },
    {
     "name": "stdout",
     "output_type": "stream",
     "text": [
      "-*-*-*-*-*-*-*-*-*-*-*-*-*-*-*-*-*-*-*-*-*-*-*-*-*-*-*-*-*-*-*-*-*-*-*-*-*-*-*-*-*-*-*-*-*-*-*-*-*-*\n",
      "analysts=[Analyst(name='Dr. Celeste Harmon', role='Astrological Psychologist', affiliation='Institute of Cosmic Psychology', description='Dr. Celeste Harmon focuses on the psychological benefits of astrology in the modern world. She explores how planetary positions can influence human emotions and behaviors, providing insights into personal development and mental well-being. Her work aims to bridge the gap between traditional astrological beliefs and contemporary psychological practices, emphasizing the potential for astrology to offer comfort and guidance in times of uncertainty.'), Analyst(name='Professor Leo Vega', role='Cultural Historian', affiliation='University of New Age Studies', description='Professor Leo Vega examines the cultural and historical significance of astrology in the modern world. He investigates how astrology has been integrated into contemporary society, influencing everything from fashion to technology. His research highlights the enduring appeal of astrology as a tool for self-reflection and its role in shaping cultural identities. Professor Vega is particularly interested in how astrology can foster a sense of connection and community in an increasingly digital and fragmented world.')]\n",
      "-*-*-*-*-*-*-*-*-*-*-*-*-*-*-*-*-*-*-*-*-*-*-*-*-*-*-*-*-*-*-*-*-*-*-*-*-*-*-*-*-*-*-*-*-*-*-*-*-*-*\n",
      "name='Dr. Celeste Harmon' role='Astrological Psychologist' affiliation='Institute of Cosmic Psychology' description='Dr. Celeste Harmon focuses on the psychological benefits of astrology in the modern world. She explores how planetary positions can influence human emotions and behaviors, providing insights into personal development and mental well-being. Her work aims to bridge the gap between traditional astrological beliefs and contemporary psychological practices, emphasizing the potential for astrology to offer comfort and guidance in times of uncertainty.'\n",
      "Name: Dr. Celeste Harmon\n",
      "Affiliation: Institute of Cosmic Psychology\n",
      "Role: Astrological Psychologist\n",
      "Description: Dr. Celeste Harmon focuses on the psychological benefits of astrology in the modern world. She explores how planetary positions can influence human emotions and behaviors, providing insights into personal development and mental well-being. Her work aims to bridge the gap between traditional astrological beliefs and contemporary psychological practices, emphasizing the potential for astrology to offer comfort and guidance in times of uncertainty.\n",
      "--------------------------------------------------\n",
      "Name: Professor Leo Vega\n",
      "Affiliation: University of New Age Studies\n",
      "Role: Cultural Historian\n",
      "Description: Professor Leo Vega examines the cultural and historical significance of astrology in the modern world. He investigates how astrology has been integrated into contemporary society, influencing everything from fashion to technology. His research highlights the enduring appeal of astrology as a tool for self-reflection and its role in shaping cultural identities. Professor Vega is particularly interested in how astrology can foster a sense of connection and community in an increasingly digital and fragmented world.\n",
      "--------------------------------------------------\n"
     ]
    }
   ],
   "source": [
    "for event in graph.stream({\"topic\":topic,\n",
    "              \"max_analysts\":max_analysts},\n",
    "             thread,\n",
    "             stream_mode= \"values\"):\n",
    "    analysts = event.get('analysts', '')\n",
    "    \n",
    "    if analysts:\n",
    "        for analyst in analysts:\n",
    "            print(f\"Name: {analyst.name}\")\n",
    "            print(f\"Affiliation: {analyst.affiliation}\")\n",
    "            print(f\"Role: {analyst.role}\")\n",
    "            print(f\"Description: {analyst.description}\")\n",
    "            print(\"-\" * 50)  "
   ]
  },
  {
   "cell_type": "code",
   "execution_count": 34,
   "id": "15a58134",
   "metadata": {},
   "outputs": [],
   "source": [
    "state = graph.get_state(thread)"
   ]
  },
  {
   "cell_type": "code",
   "execution_count": 35,
   "id": "c70e1055",
   "metadata": {},
   "outputs": [
    {
     "data": {
      "text/plain": [
       "StateSnapshot(values={'topic': 'The benefit of astrology in modern world', 'max_analysts': 2, 'human_analyst_feedback': 'add something from human mind that is affected by planet positions', 'analysts': [Analyst(name='Dr. Celeste Harmon', role='Astrological Psychologist', affiliation='Institute of Cosmic Psychology', description='Dr. Celeste Harmon focuses on the psychological benefits of astrology in the modern world. She explores how planetary positions can influence human emotions and behaviors, providing insights into personal development and mental well-being. Her work aims to bridge the gap between traditional astrological beliefs and contemporary psychological practices, emphasizing the potential for astrology to offer comfort and guidance in times of uncertainty.'), Analyst(name='Professor Leo Vega', role='Cultural Historian', affiliation='University of New Age Studies', description='Professor Leo Vega examines the cultural and historical significance of astrology in the modern world. He investigates how astrology has been integrated into contemporary society, influencing everything from fashion to technology. His research highlights the enduring appeal of astrology as a tool for self-reflection and its role in shaping cultural identities. Professor Vega is particularly interested in how astrology can foster a sense of connection and community in an increasingly digital and fragmented world.')]}, next=('human_feedback',), config={'configurable': {'thread_id': '1', 'checkpoint_ns': '', 'checkpoint_id': '1f0a9155-580d-6dc9-8005-2de07c04aeae'}}, metadata={'source': 'loop', 'step': 5, 'parents': {}}, created_at='2025-10-14T15:49:14.240148+00:00', parent_config={'configurable': {'thread_id': '1', 'checkpoint_ns': '', 'checkpoint_id': '1f0a9155-2446-666f-8004-2a2b714dad49'}}, tasks=(PregelTask(id='4c7fbace-7a9c-fd9d-e13e-02577a32ca08', name='human_feedback', path=('__pregel_pull', 'human_feedback'), error=None, interrupts=(), state=None, result=None),), interrupts=())"
      ]
     },
     "execution_count": 35,
     "metadata": {},
     "output_type": "execute_result"
    }
   ],
   "source": [
    "state"
   ]
  },
  {
   "cell_type": "code",
   "execution_count": 36,
   "id": "27fa5c1d",
   "metadata": {},
   "outputs": [
    {
     "data": {
      "text/plain": [
       "('human_feedback',)"
      ]
     },
     "execution_count": 36,
     "metadata": {},
     "output_type": "execute_result"
    }
   ],
   "source": [
    "state.next"
   ]
  },
  {
   "cell_type": "code",
   "execution_count": 37,
   "id": "ca9799bd",
   "metadata": {},
   "outputs": [
    {
     "data": {
      "text/plain": [
       "{'topic': 'The benefit of astrology in modern world',\n",
       " 'max_analysts': 2,\n",
       " 'human_analyst_feedback': 'add something from human mind that is affected by planet positions',\n",
       " 'analysts': [Analyst(name='Dr. Celeste Harmon', role='Astrological Psychologist', affiliation='Institute of Cosmic Psychology', description='Dr. Celeste Harmon focuses on the psychological benefits of astrology in the modern world. She explores how planetary positions can influence human emotions and behaviors, providing insights into personal development and mental well-being. Her work aims to bridge the gap between traditional astrological beliefs and contemporary psychological practices, emphasizing the potential for astrology to offer comfort and guidance in times of uncertainty.'),\n",
       "  Analyst(name='Professor Leo Vega', role='Cultural Historian', affiliation='University of New Age Studies', description='Professor Leo Vega examines the cultural and historical significance of astrology in the modern world. He investigates how astrology has been integrated into contemporary society, influencing everything from fashion to technology. His research highlights the enduring appeal of astrology as a tool for self-reflection and its role in shaping cultural identities. Professor Vega is particularly interested in how astrology can foster a sense of connection and community in an increasingly digital and fragmented world.')]}"
      ]
     },
     "execution_count": 37,
     "metadata": {},
     "output_type": "execute_result"
    }
   ],
   "source": [
    "state.values"
   ]
  },
  {
   "cell_type": "code",
   "execution_count": 38,
   "id": "e6f9058d",
   "metadata": {},
   "outputs": [],
   "source": [
    "# If we are satisfied, then we simply supply no feedback\n",
    "further_feedack = \"\""
   ]
  },
  {
   "cell_type": "code",
   "execution_count": 39,
   "id": "227b3132",
   "metadata": {},
   "outputs": [],
   "source": [
    "# 1) Get the latest state (you're paused at 'human_feedback')\n",
    "state = graph.get_state(thread)\n",
    "\n",
    "# 2) Use the exact config from that state (it already has thread_id, checkpoint_ns, checkpoint_id)\n",
    "cfg = state.config"
   ]
  },
  {
   "cell_type": "code",
   "execution_count": 40,
   "id": "dcb1a5cf",
   "metadata": {},
   "outputs": [
    {
     "data": {
      "text/plain": [
       "{'configurable': {'thread_id': '1',\n",
       "  'checkpoint_ns': '',\n",
       "  'checkpoint_id': '1f0a9155-58cd-6dbd-8006-e5af315f873a'}}"
      ]
     },
     "execution_count": 40,
     "metadata": {},
     "output_type": "execute_result"
    }
   ],
   "source": [
    "# 3) Update feedback at the 'human_feedback' node\n",
    "#    Tip: if your TypedDict says `human_analyst_feedback: str`, prefer \"\" (empty string) over None\n",
    "graph.update_state(cfg, {\"human_analyst_feedback\": \"\"}, as_node=\"human_feedback\")"
   ]
  },
  {
   "cell_type": "code",
   "execution_count": 41,
   "id": "37362e45",
   "metadata": {},
   "outputs": [
    {
     "name": "stdout",
     "output_type": "stream",
     "text": [
      "()\n"
     ]
    }
   ],
   "source": [
    "# 4) Verify it moved to END\n",
    "final_state = graph.get_state(thread)\n",
    "print(final_state.next)  # should be (END,)"
   ]
  },
  {
   "cell_type": "code",
   "execution_count": 42,
   "id": "dd08dc75",
   "metadata": {},
   "outputs": [],
   "source": [
    "analysts = final_state.values.get('analysts')"
   ]
  },
  {
   "cell_type": "code",
   "execution_count": 43,
   "id": "4e610be4",
   "metadata": {},
   "outputs": [
    {
     "data": {
      "text/plain": [
       "[Analyst(name='Dr. Celeste Harmon', role='Astrological Psychologist', affiliation='Institute of Cosmic Psychology', description='Dr. Celeste Harmon focuses on the psychological benefits of astrology in the modern world. She explores how planetary positions can influence human emotions and behaviors, providing insights into personal development and mental well-being. Her work aims to bridge the gap between traditional astrological beliefs and contemporary psychological practices, emphasizing the potential for astrology to offer comfort and guidance in times of uncertainty.'),\n",
       " Analyst(name='Professor Leo Vega', role='Cultural Historian', affiliation='University of New Age Studies', description='Professor Leo Vega examines the cultural and historical significance of astrology in the modern world. He investigates how astrology has been integrated into contemporary society, influencing everything from fashion to technology. His research highlights the enduring appeal of astrology as a tool for self-reflection and its role in shaping cultural identities. Professor Vega is particularly interested in how astrology can foster a sense of connection and community in an increasingly digital and fragmented world.')]"
      ]
     },
     "execution_count": 43,
     "metadata": {},
     "output_type": "execute_result"
    }
   ],
   "source": [
    "analysts"
   ]
  },
  {
   "cell_type": "code",
   "execution_count": 44,
   "id": "8a343954",
   "metadata": {},
   "outputs": [
    {
     "name": "stdout",
     "output_type": "stream",
     "text": [
      "Name: Dr. Celeste Harmon\n",
      "Affiliation: Institute of Cosmic Psychology\n",
      "Role: Astrological Psychologist\n",
      "Description: Dr. Celeste Harmon focuses on the psychological benefits of astrology in the modern world. She explores how planetary positions can influence human emotions and behaviors, providing insights into personal development and mental well-being. Her work aims to bridge the gap between traditional astrological beliefs and contemporary psychological practices, emphasizing the potential for astrology to offer comfort and guidance in times of uncertainty.\n",
      "--------------------------------------------------\n",
      "Name: Professor Leo Vega\n",
      "Affiliation: University of New Age Studies\n",
      "Role: Cultural Historian\n",
      "Description: Professor Leo Vega examines the cultural and historical significance of astrology in the modern world. He investigates how astrology has been integrated into contemporary society, influencing everything from fashion to technology. His research highlights the enduring appeal of astrology as a tool for self-reflection and its role in shaping cultural identities. Professor Vega is particularly interested in how astrology can foster a sense of connection and community in an increasingly digital and fragmented world.\n",
      "--------------------------------------------------\n"
     ]
    }
   ],
   "source": [
    "for analyst in analysts:\n",
    "    print(f\"Name: {analyst.name}\")\n",
    "    print(f\"Affiliation: {analyst.affiliation}\")\n",
    "    print(f\"Role: {analyst.role}\")\n",
    "    print(f\"Description: {analyst.description}\")\n",
    "    print(\"-\" * 50) "
   ]
  },
  {
   "cell_type": "markdown",
   "id": "bd4272d2",
   "metadata": {},
   "source": [
    "# Second Workflow"
   ]
  },
  {
   "cell_type": "code",
   "execution_count": 45,
   "id": "a1707b10",
   "metadata": {},
   "outputs": [
    {
     "name": "stdout",
     "output_type": "stream",
     "text": [
      "LangChain is a software framework that helps facilitate the integration of large language models (LLMs) into applications. As a language model integration framework, LangChain's use-cases largely overlap with those of language models in general, including document analysis and summarization, chatbots, and code analysis.\n",
      "\n",
      "\n",
      "== History ==\n",
      "LangChain was launched in October 2022 as an open source project by Harrison Chase, while working at machine learning startup Robust Intelligence. In April 2023, \n"
     ]
    }
   ],
   "source": [
    "from langchain_community.document_loaders import WikipediaLoader\n",
    "\n",
    "docs = WikipediaLoader(query=\"langgraph\").load()\n",
    "print(docs[0].page_content[:500])"
   ]
  },
  {
   "cell_type": "code",
   "execution_count": 46,
   "id": "a924ca50",
   "metadata": {},
   "outputs": [],
   "source": [
    "from dotenv import load_dotenv\n",
    "load_dotenv()\n",
    "import os\n",
    "os.environ[\"SERPER_API_KEY\"] = os.getenv(\"SERPER_API_KEY\")"
   ]
  },
  {
   "cell_type": "code",
   "execution_count": 47,
   "id": "0fd73262",
   "metadata": {},
   "outputs": [
    {
     "data": {
      "text/plain": [
       "\"The trouble with astrology is that it gives explanations or analysis of personality that can apply to almost anybody. It's Barnum effect. Try ... 11. Astrologists can't point out any new research in the past 3,000 years. A science with the scientific research is a misnamed endeavor. Astrology is about empowerment and awareness, not fate or fortune-telling. It's a tool that can offer profound insights into who you are and how you can grow. Science is based on what is observed. The only facts in astrology are that there are planets. The rest of it is entirely made up. It uses the ... Astrology largely exploits people's tendencies to buy into generic descriptions of themselves. Modern astrophycists have pointed out that, ... “Astrology is rubbish”, this is because there is no evidence that celestial objects can affect our lives, events and emotions in the way that is claimed. Astrology is a pseudoscience because it lacks scientific evidence, is not testable, doesn't refine ideas, and doesn't use scientific data. Here are some of the most common misunderstandings many folks have about astrology. Myth #1: You have a singular zodiac sign, and that alone defines your chart. However, with the development of the times, many people have misunderstood astrology, even viewing it as superstition or pseudoscience. Astrological charts have fated events but the way or time in which we reach these events does come down to the individual's healing journey up ...\""
      ]
     },
     "execution_count": 47,
     "metadata": {},
     "output_type": "execute_result"
    }
   ],
   "source": [
    "from langchain_community.utilities import GoogleSerperAPIWrapper\n",
    "serper = GoogleSerperAPIWrapper()\n",
    "serper.run(\"Why astrology is misunderstood?\")"
   ]
  },
  {
   "cell_type": "code",
   "execution_count": 48,
   "id": "0241bdb7",
   "metadata": {},
   "outputs": [],
   "source": [
    "from langchain_community.tools.tavily_search import TavilySearchResults"
   ]
  },
  {
   "cell_type": "code",
   "execution_count": 49,
   "id": "70252ecd",
   "metadata": {},
   "outputs": [],
   "source": [
    "from dotenv import load_dotenv\n",
    "import os\n",
    "load_dotenv()\n",
    "os.environ[\"TAVILY_API_KEY\"] = os.getenv(\"TAVILY_API_KEY\")"
   ]
  },
  {
   "cell_type": "code",
   "execution_count": 50,
   "id": "543bd71d",
   "metadata": {},
   "outputs": [
    {
     "name": "stderr",
     "output_type": "stream",
     "text": [
      "C:\\Users\\shank\\AppData\\Local\\Temp\\ipykernel_14668\\13742946.py:1: LangChainDeprecationWarning: The class `TavilySearchResults` was deprecated in LangChain 0.3.25 and will be removed in 1.0. An updated version of the class exists in the :class:`~langchain-tavily package and should be used instead. To use it run `pip install -U :class:`~langchain-tavily` and import as `from :class:`~langchain_tavily import TavilySearch``.\n",
      "  tavily_search = TavilySearchResults()\n"
     ]
    }
   ],
   "source": [
    "tavily_search = TavilySearchResults()"
   ]
  },
  {
   "cell_type": "code",
   "execution_count": 51,
   "id": "f1125f99",
   "metadata": {},
   "outputs": [
    {
     "data": {
      "text/plain": [
       "[{'title': 'Astrology - Wikipedia',\n",
       "  'url': 'https://en.wikipedia.org/wiki/Astrology',\n",
       "  'content': 'Astrology is a range of divinatory practices, recognized as pseudoscientific since the 18th century, that propose that information about human affairs and terrestrial events may be discerned by studying the apparent positions of celestial objects. Different cultures have employed forms of astrology since at least the 2nd millennium BCE, these practices having originated in calendrical systems used to predict seasonal shifts and to interpret celestial cycles as signs of divine communications. [...] Throughout most of its history, astrology was considered a scholarly tradition. It was accepted in political and academic contexts, and was connected with other studies, such as astronomy, alchemy, meteorology, and medicine. At the end of the 17th century, new scientific concepts in astronomy and physics (such as heliocentrism and Newtonian mechanics) called astrology into question. Astrology thus lost its academic and theoretical standing, and common belief in astrology has largely declined. [...] Along with tarot divination, astrology is one of the core studies of Western esotericism, and as such has influenced systems of magical \"Magic (paranormal)\") belief not only among Western esotericists and Hermeticists, but also belief systems such as Wicca, which have borrowed from or been influenced by the Western esoteric tradition. Tanya Luhrmann has said that \"all magicians know something about astrology,\" and refers to a table of correspondences in Starhawk\\'s The Spiral Dance, organised by',\n",
       "  'score': 0.9257218},\n",
       " {'title': 'Astrology - Prediction, Divination, Forecasting - Britannica',\n",
       "  'url': 'https://www.britannica.com/topic/astrology/Purposes-of-astrology',\n",
       "  'content': 'The original purpose of astrology, on the other hand, was to inform the individual of the course of his life on the basis of the positions of the planets and of the zodiacal signs (the 12 astrological constellations) at the moment of his birth or conception. From this science, called genethlialogy (casting nativities, often called birth charts), were developed the fundamental techniques of astrology. The main subdivisions of astrology that developed after genethlialogy are general, catarchic, [...] General astrology studies the relationship of the significant celestial moments (e.g., the times of vernal equinoxes, eclipses, or planetary conjunctions) to social groups, nations, or all of humanity. It answers, by astrological means, questions formerly posed in Mesopotamia to the bāru. [...] Astrology” (commonly called the Tetrabiblos, or “Four Books”), by Ptolemy, a Greek astronomer of the 2nd century ce; the first book of an astrological compendium, by Hephaestion of Thebes, a Greco-Egyptian astrologer of the 5th century ce; and the On Signs of John Lydus, a Byzantine bureaucrat of the 6th century. Yet another channel of transmission to the Greeks was through the Magusaeans of Asia Minor, a group of Persian settlers influenced by Babylonian ideas. Their teachings are preserved in',\n",
       "  'score': 0.7135319},\n",
       " {'title': 'Significance of Horoscope in Astrology',\n",
       "  'url': 'https://www.melooha.com/blog/astrology-horoscope',\n",
       "  'content': \"Astrology, with roots dating back thousands of years, remains a timeless practice embraced by individuals seeking profound insights into their lives, relationships, and destinies. Central to this ancient art is the horoscope, functioning as a personalized snapshot that captures the celestial positions at a specific moment—typically an individual's time of birth. The horoscope is like a cosmic photo taken at birth, showing where the stars and planets were at that moment. Despite debates among [...] In the Western horoscope, also known as Western Astrology, the tropical zodiac forms the basis. This system revolves around the Sun's position and consists of twelve signs, each associated ith specific personality traits. The emphasis is on transits and progressions, providing insights into an individual's character and life events. [...] On the other hand, the Indian horoscope, or Vedic Astrology, follows the sidereal zodiac, considering the actual positions of stars. It features twelve signs, aligning with star constellations, and placing significant importance on the Moon sign. The predictive techniques involve dashas (planetary periods), yogas (to unite), and gochara (transits).\",\n",
       "  'score': 0.70799106},\n",
       " {'title': 'The Psychology Behind Why We Care about Astrology - Verywell Mind',\n",
       "  'url': 'https://www.verywellmind.com/the-psychology-behind-why-we-care-about-astrology-5217929',\n",
       "  'content': 'Does a Full Moon Actually Affect Our Behavior?\\n\\nWhat Is Astrology?\\n\\nAstrology is the study of how the positions of the stars and planets are believed to affect human lives. The first organized astrological system appeared in the Old Babylonian period more than 2,000 years ago.2 [...] In astrology, people are assigned a specific sign based on their date of birth. These are also referred to as zodiac signs, the zodiac being a belt of the sky where the paths of the sun, moon, and planets are said to move. It is divided into 12 constellations, each representing roughly a month’s time with the “year” beginning at the Northern Hemisphere spring equinox.\\n\\nThe zodiac signs are: [...] Astrology can offer comfort during uncertain times by helping people make sense of complex life events.\\n   It is popular because it welcomes everyone, especially when traditional institutions fail to offer meaning.',\n",
       "  'score': 0.6914979},\n",
       " {'title': 'Did You Know? The Influence of Astrology on the ... - UNESCO',\n",
       "  'url': 'https://en.unesco.org/silkroad/content/did-you-know-influence-astrology-science-astronomy-along-silk-roads',\n",
       "  'content': 'predict events based on the influence of these celestial bodies. The practice probably began as soon as humans first started to observe astronomical cycles, with some of the earliest evidence dating from the 3rd millennium BCE. Throughout much of history, and up until the 17th century, astrology was considered an academic discipline across much of Eurasia. In fact, astrology was commonly accepted in political and cultural circles with astrological concepts applied in other fields including [...] generally no longer considered sciences, such as alchemy, but which nether the less form an important part of the shared heritage and legacy of these routes and which played important roles in the development of the sciences. A key example of such a discipline is astrology, a broad field concerned with the search for meaning and predictive information in the sky.  Through closely observing and monitoring the location of the stars and planets, astrology sought to understand human behaviour and [...] Despite its eventual rejection as a science, astrology nether the less played an important role in the history of the development science along the Silk Roads, forming a regular part of what was known as ‘natural philosophy’. The belief in the influence of the celestial bodies motivated scholars throughout history to spend a considerable amount of time carefully observing the night sky, the stars, and the planets, often doing so with incredible detail and accuracy in the belief that this made',\n",
       "  'score': 0.683948}]"
      ]
     },
     "execution_count": 51,
     "metadata": {},
     "output_type": "execute_result"
    }
   ],
   "source": [
    "tavily_search.invoke(\"Astrology\")"
   ]
  },
  {
   "cell_type": "code",
   "execution_count": 52,
   "id": "5a67cdad",
   "metadata": {},
   "outputs": [],
   "source": [
    "import operator\n",
    "from typing import Annotated\n",
    "from langgraph.graph import MessagesState\n",
    "\n",
    "class InterviewState(MessagesState):\n",
    "    max_num_turns: int # Number turns of conversation\n",
    "    context: Annotated[list, operator.add] # Source docs\n",
    "    analyst: Analyst # Analyst asking questions\n",
    "    interview: str # Interview transcript\n",
    "    sections: list # Final key we duplicate in outer state for send() API\n",
    "\n",
    "\n",
    "class SearchQuery(BaseModel):\n",
    "    search_query: str = Field(None, description=\"Search query for retrieval\")"
   ]
  },
  {
   "cell_type": "code",
   "execution_count": 53,
   "id": "91162551",
   "metadata": {},
   "outputs": [],
   "source": [
    "question_instructions = \"\"\"You are an analyst tasked with interviewing an expert to learn about a specific topic. \n",
    "\n",
    "Your goal is boil down to interesting and specific insights related to your topic.\n",
    "\n",
    "1. Interesting: Insights that people will find surprising or non-obvious.\n",
    "        \n",
    "2. Specific: Insights that avoid generalities and include specific examples from the expert.\n",
    "\n",
    "Here is your topic of focus and set of goals: {goals}\n",
    "        \n",
    "Begin by introducing yourself using a name that fits your persona, and then ask your question.\n",
    "\n",
    "Continue to ask questions to drill down and refine your understanding of the topic.\n",
    "        \n",
    "When you are satisfied with your understanding, complete the interview with: \"Thank you so much for your help!\"\n",
    "\n",
    "Remember to stay in character throughout your response, reflecting the persona and goals provided to you.\"\"\""
   ]
  },
  {
   "cell_type": "code",
   "execution_count": 54,
   "id": "94b60985",
   "metadata": {},
   "outputs": [
    {
     "name": "stdout",
     "output_type": "stream",
     "text": [
      "Name: Professor Leo Vega\n",
      "Role: Cultural Historian\n",
      "Affiliation: University of New Age Studies\n",
      "Description: Professor Leo Vega examines the cultural and historical significance of astrology in the modern world. He investigates how astrology has been integrated into contemporary society, influencing everything from fashion to technology. His research highlights the enduring appeal of astrology as a tool for self-reflection and its role in shaping cultural identities. Professor Vega is particularly interested in how astrology can foster a sense of connection and community in an increasingly digital and fragmented world.\n",
      "\n"
     ]
    }
   ],
   "source": [
    "print(analyst.persona)"
   ]
  },
  {
   "cell_type": "code",
   "execution_count": 55,
   "id": "b7c0f5d8",
   "metadata": {},
   "outputs": [
    {
     "name": "stdout",
     "output_type": "stream",
     "text": [
      "You are an analyst tasked with interviewing an expert to learn about a specific topic. \n",
      "\n",
      "Your goal is boil down to interesting and specific insights related to your topic.\n",
      "\n",
      "1. Interesting: Insights that people will find surprising or non-obvious.\n",
      "\n",
      "2. Specific: Insights that avoid generalities and include specific examples from the expert.\n",
      "\n",
      "Here is your topic of focus and set of goals: Name: Professor Leo Vega\n",
      "Role: Cultural Historian\n",
      "Affiliation: University of New Age Studies\n",
      "Description: Professor Leo Vega examines the cultural and historical significance of astrology in the modern world. He investigates how astrology has been integrated into contemporary society, influencing everything from fashion to technology. His research highlights the enduring appeal of astrology as a tool for self-reflection and its role in shaping cultural identities. Professor Vega is particularly interested in how astrology can foster a sense of connection and community in an increasingly digital and fragmented world.\n",
      "\n",
      "\n",
      "Begin by introducing yourself using a name that fits your persona, and then ask your question.\n",
      "\n",
      "Continue to ask questions to drill down and refine your understanding of the topic.\n",
      "\n",
      "When you are satisfied with your understanding, complete the interview with: \"Thank you so much for your help!\"\n",
      "\n",
      "Remember to stay in character throughout your response, reflecting the persona and goals provided to you.\n"
     ]
    }
   ],
   "source": [
    "print(question_instructions.format(goals = analyst.persona))"
   ]
  },
  {
   "cell_type": "code",
   "execution_count": 56,
   "id": "f79bdece",
   "metadata": {},
   "outputs": [],
   "source": [
    "def generation_question(state: InterviewState):\n",
    "    \"\"\" Node to generate the questions\"\"\"\n",
    "\n",
    "    # Get State\n",
    "    analyst = state[\"analyst\"]\n",
    "    messages = state[\"messages\"]\n",
    "\n",
    "    #generate the question\n",
    "    system_message = question_instructions.format( goals = analyst.persona)\n",
    "    question = llm.invoke([SystemMessage(content=system_message)] + messages)\n",
    "\n",
    "    # return the question through state\n",
    "    return {\"messages\": [question]}"
   ]
  },
  {
   "cell_type": "code",
   "execution_count": 57,
   "id": "5ee5eabb",
   "metadata": {},
   "outputs": [
    {
     "name": "stdout",
     "output_type": "stream",
     "text": [
      "name='Professor Leo Vega' role='Cultural Historian' affiliation='University of New Age Studies' description='Professor Leo Vega examines the cultural and historical significance of astrology in the modern world. He investigates how astrology has been integrated into contemporary society, influencing everything from fashion to technology. His research highlights the enduring appeal of astrology as a tool for self-reflection and its role in shaping cultural identities. Professor Vega is particularly interested in how astrology can foster a sense of connection and community in an increasingly digital and fragmented world.'\n"
     ]
    }
   ],
   "source": [
    "print(analyst)"
   ]
  },
  {
   "cell_type": "code",
   "execution_count": 58,
   "id": "c107a6b7",
   "metadata": {},
   "outputs": [],
   "source": [
    "class InterviewState(MessagesState):\n",
    "    max_num_turns: int # Number turns of conversation\n",
    "    context: Annotated[list, operator.add] # source docs\n",
    "    analyst: Analyst # Analyst asking questions\n",
    "    interview: str # Interview transcript\n",
    "    sections: list # Final key we duplicate in outer state for send() API"
   ]
  },
  {
   "cell_type": "code",
   "execution_count": 59,
   "id": "d38bdf69",
   "metadata": {},
   "outputs": [],
   "source": [
    "state = {\"max_num_turns\":2,\"context\":[], \"analyst\": analyst, \"interview\":\"\", \"sections\":[], \"messages\": [HumanMessage(content=\"Do the proper search according to the expertise\")]}"
   ]
  },
  {
   "cell_type": "code",
   "execution_count": 60,
   "id": "7c0e0ed3",
   "metadata": {},
   "outputs": [
    {
     "data": {
      "text/plain": [
       "{'max_num_turns': 2,\n",
       " 'context': [],\n",
       " 'analyst': Analyst(name='Professor Leo Vega', role='Cultural Historian', affiliation='University of New Age Studies', description='Professor Leo Vega examines the cultural and historical significance of astrology in the modern world. He investigates how astrology has been integrated into contemporary society, influencing everything from fashion to technology. His research highlights the enduring appeal of astrology as a tool for self-reflection and its role in shaping cultural identities. Professor Vega is particularly interested in how astrology can foster a sense of connection and community in an increasingly digital and fragmented world.'),\n",
       " 'interview': '',\n",
       " 'sections': [],\n",
       " 'messages': [HumanMessage(content='Do the proper search according to the expertise', additional_kwargs={}, response_metadata={})]}"
      ]
     },
     "execution_count": 60,
     "metadata": {},
     "output_type": "execute_result"
    }
   ],
   "source": [
    "state"
   ]
  },
  {
   "cell_type": "code",
   "execution_count": 61,
   "id": "561476ae",
   "metadata": {},
   "outputs": [
    {
     "name": "stderr",
     "output_type": "stream",
     "text": [
      "HTTP Request: POST https://api.openai.com/v1/chat/completions \"HTTP/1.1 200 OK\"\n"
     ]
    }
   ],
   "source": [
    "result = generation_question(state)"
   ]
  },
  {
   "cell_type": "code",
   "execution_count": 62,
   "id": "27da9d24",
   "metadata": {},
   "outputs": [
    {
     "data": {
      "text/plain": [
       "{'messages': [AIMessage(content=\"Hello, Professor Vega. My name is Alex Thompson, and I'm an analyst with a keen interest in cultural history and its modern implications. I'm fascinated by your work on the cultural and historical significance of astrology in today's world. Could you share some specific examples of how astrology has influenced contemporary fashion trends?\", additional_kwargs={'refusal': None}, response_metadata={'token_usage': {'completion_tokens': 59, 'prompt_tokens': 271, 'total_tokens': 330, 'completion_tokens_details': {'accepted_prediction_tokens': 0, 'audio_tokens': 0, 'reasoning_tokens': 0, 'rejected_prediction_tokens': 0}, 'prompt_tokens_details': {'audio_tokens': 0, 'cached_tokens': 0}}, 'model_name': 'gpt-4o-2024-08-06', 'system_fingerprint': 'fp_cbf1785567', 'id': 'chatcmpl-CQbZDFo8bkdImHOBEgh7cllOBT6W8', 'service_tier': 'default', 'finish_reason': 'stop', 'logprobs': None}, id='run--2116207a-405d-4676-8a87-0dfd030b49c3-0', usage_metadata={'input_tokens': 271, 'output_tokens': 59, 'total_tokens': 330, 'input_token_details': {'audio': 0, 'cache_read': 0}, 'output_token_details': {'audio': 0, 'reasoning': 0}})]}"
      ]
     },
     "execution_count": 62,
     "metadata": {},
     "output_type": "execute_result"
    }
   ],
   "source": [
    "result"
   ]
  },
  {
   "cell_type": "code",
   "execution_count": 63,
   "id": "8cc031fa",
   "metadata": {},
   "outputs": [
    {
     "name": "stdout",
     "output_type": "stream",
     "text": [
      "Hello, Professor Vega. My name is Alex Thompson, and I'm an analyst with a keen interest in cultural history and its modern implications. I'm fascinated by your work on the cultural and historical significance of astrology in today's world. Could you share some specific examples of how astrology has influenced contemporary fashion trends?\n"
     ]
    }
   ],
   "source": [
    "print(result[\"messages\"][0].content)"
   ]
  },
  {
   "cell_type": "code",
   "execution_count": 64,
   "id": "649f648b",
   "metadata": {},
   "outputs": [],
   "source": [
    "from langchain_core.messages import get_buffer_string"
   ]
  },
  {
   "cell_type": "code",
   "execution_count": 65,
   "id": "985d602d",
   "metadata": {},
   "outputs": [],
   "source": [
    "search_instructions = SystemMessage(content=f\"\"\"You will be given a conversation between an analyst and an expert.\n",
    "                                    Your goal is to generate a  well-structured query for use in retrieval and / or web search related to the conversation.\n",
    "                                    First,, analyze the full conversation.\n",
    "                                    Pay particular attention to the final question posed by the analyst.\n",
    "                                    Convert this final question into a well-structured we search query \n",
    "                                    \"\"\" )"
   ]
  },
  {
   "cell_type": "code",
   "execution_count": 66,
   "id": "37045b2f",
   "metadata": {},
   "outputs": [],
   "source": [
    "def search_web(state: InterviewState):\n",
    "    \"\"\"\n",
    "    Retrieve data from the web\n",
    "    \"\"\"\n",
    "    structure_llm = llm.with_structured_output(SearchQuery)\n",
    "    search_query = structure_llm.invoke([search_instructions] + state[\"messages\"])\n",
    "\n",
    "    # Search\n",
    "    search_docs = tavily_search.invoke(search_query.search_query)\n",
    "\n",
    "    formatted_search_docs = \"\\n\\n---\\n\\n\".join(\n",
    "        [\n",
    "            f'<Document href=\"{doc[\"url\"]}\"/>\\n{doc[\"content\"]}\\n</Document>'\n",
    "            for doc in search_docs\n",
    "        ]\n",
    "    )\n",
    "    print(\"-tavily*\" *50)\n",
    "    return {\"context\": [formatted_search_docs]}"
   ]
  },
  {
   "cell_type": "code",
   "execution_count": 67,
   "id": "72a535df",
   "metadata": {},
   "outputs": [],
   "source": [
    "state = {\"max_num_turns\":2, \"context\":[], \"analyst\":analyst, \"interview\":\"\",\"messages\":[AIMessage(content=\"Hello, Professor Vedic. My name is Clara Thompson, and I'm an analyst with a keen interest in cultural history and its modern implications. I'm fascinated by your work on the cultural and historical significance of astrology in the modern world. To start, could you share an example of how astrology has been integrated into contemporary practices in a way that might surprise people?\", additional_kwargs={'refusal': None}, response_metadata={'token_usage': {'completion_tokens': 71, 'prompt_tokens': 250, 'total_tokens': 321, 'completion_tokens_details': {'accepted_prediction_tokens': 0, 'audio_tokens': 0, 'reasoning_tokens': 0, 'rejected_prediction_tokens': 0}, 'prompt_tokens_details': {'audio_tokens': 0, 'cached_tokens': 0}}, 'model_name': 'gpt-4o-2024-08-06', 'system_fingerprint': 'fp_eb3c3cb84d', 'id': 'chatcmpl-CQE5zx8Mxd42llAtk0wf0vUrGHiFT', 'service_tier': 'default', 'finish_reason': 'stop', 'logprobs': None}, id='run--7aac7dcd-b116-4b88-9239-8cfeead6216a-0', usage_metadata={'input_tokens': 250, 'output_tokens': 71, 'total_tokens': 321, 'input_token_details': {'audio': 0, 'cache_read': 0}, 'output_token_details': {'audio': 0, 'reasoning': 0}})]}"
   ]
  },
  {
   "cell_type": "code",
   "execution_count": 68,
   "id": "143fcf4c",
   "metadata": {},
   "outputs": [
    {
     "name": "stderr",
     "output_type": "stream",
     "text": [
      "HTTP Request: POST https://api.openai.com/v1/chat/completions \"HTTP/1.1 200 OK\"\n"
     ]
    },
    {
     "name": "stdout",
     "output_type": "stream",
     "text": [
      "-tavily*-tavily*-tavily*-tavily*-tavily*-tavily*-tavily*-tavily*-tavily*-tavily*-tavily*-tavily*-tavily*-tavily*-tavily*-tavily*-tavily*-tavily*-tavily*-tavily*-tavily*-tavily*-tavily*-tavily*-tavily*-tavily*-tavily*-tavily*-tavily*-tavily*-tavily*-tavily*-tavily*-tavily*-tavily*-tavily*-tavily*-tavily*-tavily*-tavily*-tavily*-tavily*-tavily*-tavily*-tavily*-tavily*-tavily*-tavily*-tavily*-tavily*\n"
     ]
    }
   ],
   "source": [
    "result = search_web(state)"
   ]
  },
  {
   "cell_type": "code",
   "execution_count": 69,
   "id": "8abce516",
   "metadata": {},
   "outputs": [
    {
     "name": "stdout",
     "output_type": "stream",
     "text": [
      "<Document href=\"https://www.researchgate.net/publication/383601645_The_Enduring_Influence_of_Celestial_Bodies_in_Modern_Astrological_Practices\"/>\n",
      "politics, health, and identity (Barton, 1994).\n",
      "\n",
      "Especially in  the  context of  contemporary  spiritual  practices, astrology has  not only\n",
      "\n",
      "survived but flourished in the modern period, despite the supremacy of scientific rationalism.\n",
      "\n",
      "A  revitalized  interest  in  personal  spirituality,  self-discovery,  and  holistic  well-being  was\n",
      "\n",
      "evident  in  the  20th-century  astrological  revival,  which  was  sparked  by  the  New  Age [...] forums  and  organizations  where  enthusiasts  discuss  and  share  insights  and  experiences.\n",
      "\n",
      "Websites like Reddit and specialized astrology forums, which provide spaces for community\n",
      "\n",
      "120\n",
      "\n",
      "support, direction, and discussion, help to better integrate astrology into contemporary social\n",
      "\n",
      "and cultural contexts (Parker, 2022).\n",
      "\n",
      "3.9 Integration of Astrology with Personal Growth: Perspectives from Astronomy and\n",
      "\n",
      "Religion\n",
      "\n",
      "a. Astronomy perspective [...] included in modern astrology, but that integration can also weaken conventional astrological\n",
      "\n",
      "knowledge. To comprehend these traditions' evolution and continued relevance, it is crucial\n",
      "\n",
      "to investigate how they align with astrological systems from historical and cultural contexts.\n",
      "\n",
      "1.2 Objectives of the Study\n",
      "\n",
      "The primary objectives of this study are:\n",
      "\n",
      "a. To  explore  the  historical  development  of  astrology  and  its  integration  into  various\n",
      "\n",
      "religious and spiritual practices.\n",
      "</Document>\n",
      "\n",
      "---\n",
      "\n",
      "<Document href=\"https://diveinwell.com/2024/09/the-connection-between-astrology-and-wellness-and-mental-health/\"/>\n",
      "Astrology has found its way into contemporary wellness routines and mental health approaches. Many practitioners integrate astrological concepts into their holistic therapies and mindfulness techniques.\n",
      "\n",
      "### Incorporation in Holistic Therapies\n",
      "\n",
      "Holistic wellness practitioners often use astrological birth charts to gain insights into their clients’ personalities and potential challenges. Some therapists incorporate zodiac signs and planetary positions into their treatment plans. [...] Some researchers explore potential correlations between celestial events and human behavior. These studies face methodological challenges and often yield inconclusive results.\n",
      "\n",
      "## Integrating Astrology with Conventional Wellness Modalities\n",
      "\n",
      "Astrology and conventional wellness practices can be combined to create holistic approaches to health and well-being. This integration offers unique perspectives on personal growth and self-care. [...] Integrating astrological concepts with traditional medical practices is gaining interest in some healthcare settings. This approach seeks to create more personalized treatment plans based on individual astrological profiles.\n",
      "\n",
      "## Conclusion\n",
      "\n",
      "Astrology’s influence on wellness and mental health practices continues to evolve, offering unique perspectives on personal growth and self-understanding.\n",
      "\n",
      "### Summary of Astrology’s Role in Wellness and Mental Health\n",
      "</Document>\n",
      "\n",
      "---\n",
      "\n",
      "<Document href=\"https://www.theindy.org/article/1896\"/>\n",
      "I’m not the only person engaged in this pseudo-scientific pursuit of a (partially manufactured) alignment between celestial bodies and myself. As one of over 5 million registered account holders on Co-Star, a leading astrology app, I have let this practice embed itself in my daily routine through push notifications and webs of alignment with friends. Contemporary practices of astrology offer a version of spirituality that still operates within the technological abyss I seek separation from. It [...] These early relationships between humanity and nature contributed to many societies’ spatial understandings of themselves. Early astrological practices were also integrated into concepts of spirituality, defined (within the context of astrology and other non-religious practices) as anything related to the human soul instead of the physical body. The Assyrian Venus Tablet of Ammisaduqa, for example, provided both observations of planetary motions and their corresponding omens. Similarly, Zodiac [...] +++\n",
      "\n",
      "Unlike many spiritual practices or cultural superstitions, modern astrology is not generally inherited from previous generations but often a practice stumbled upon by young people today through its ubiquity on social media. Instead of accepting my grandmother’s belief that whistling at night would summon spirits or sharing my mother’s fear of black cats, I sought out my own set of erratic and abstract rules as defined by Mercury’s retrograde and the summer solstice.\n",
      "</Document>\n",
      "\n",
      "---\n",
      "\n",
      "<Document href=\"https://www.tandfonline.com/doi/full/10.1080/14755610.2022.2093234\"/>\n",
      "In the UK, astrology developed in the twentieth century as modern person-centred humanistic astrology influenced by Rudhyar’s (Citation1936) systematic association of astrology with psychology, Leo’s (Citation1925) theosophical development of the craft as an admixture of Western occultism and Eastern mystical thought (York Citation2007, 410) and Jung’s (Citation1956) mythopoeic psychoanalysis. By the 1980s, psychoanalytical astrology (Green Citation1984) as practiced by the Centre for [...] (Open in a new window)Google Scholar\n",
      " Munk, K. 2015. “Astrology in the Contemporary Period in Denmark.” In Western Esotericism in Scandanavia, edited by Bogdan and Hammer, 89–97. Leiden, Neth: Brill.\n",
      "\n",
      "  (Open in a new window)Google Scholar\n",
      " Peterson, R., and R. Kern. 1996. “Changing Highbrow Taste: From Snob to Omnivore.” American Sociological Review 61 (5): 900–907. doi:10.2307/2096460. [...] compounded through a disavowal of the past and refusal to take decisions regarding the future. The layered and everyday content of astrological practice and the difficulties negotiating fate, revealed the problematics within modernity in relation to belief and rationality. These trans-linear ‘takes’ of the chart, first during actual consultation, then through synchronicities regarding my situation at that time and later in relation to the initial idea for this article and development of the\n",
      "</Document>\n",
      "\n",
      "---\n",
      "\n",
      "<Document href=\"https://journals.sagepub.com/doi/10.1177/23294965251360016\"/>\n",
      "Campion Nicholas, Greenbaum Dorian Gieseler. 2016. _Astrology in Time and Place: Cross-Cultural Questions in the History of Astrology_. Cambridge, UK: Cambridge Scholars Publishing.\n",
      "\n",
      "Google Scholar\n",
      "\n",
      "Clements Paul. 2020. “Astrology, Modernity and the Project of Self-Identity.” _Culture and Religion_ 21(3):259–79.\n",
      "\n",
      "Crossref\n",
      "\n",
      "Web of Science\n",
      "\n",
      "Google Scholar [...] Tester S. Jim. 1987. _A History of Western Astrology_. Woodbridge, UK: The Boydell Press.\n",
      "\n",
      "Google Scholar\n",
      "\n",
      "Thornton Tracy A. 2016. “Ideas of Order: The Meaning and Appeal of Contemporary Astrological Belief.” MA thesis, University of Oregon.\n",
      "\n",
      "Google Scholar\n",
      "\n",
      "Watts Galen. 2022a. “The Religion of the Heart: ‘Spirituality’ in Late Modernity.” _American Journal of Cultural Sociology_ 10(1):1–33.\n",
      "\n",
      "Crossref\n",
      "\n",
      "Web of Science\n",
      "\n",
      "Google Scholar [...] Astrology is a multi-million-dollar industry. Its ubiquity in contemporary social life suggests that astrology may be an important component of Americans’ identity and lived experience. Despite this popularity, scholarly attention to the uses and views of astrology is limited and has largely focused on its relationship with religion and religiosity. Further, little is known about who uses astrology in the United States, how, and why. In this article, we conduct a preliminary analysis of how\n",
      "</Document>\n"
     ]
    }
   ],
   "source": [
    "print(result[\"context\"][0])"
   ]
  },
  {
   "cell_type": "code",
   "execution_count": 70,
   "id": "61589a69",
   "metadata": {},
   "outputs": [],
   "source": [
    "def search_serper(state: InterviewState):\n",
    "    \"\"\"\n",
    "    Retrieve data from the web using serper\n",
    "    \"\"\"\n",
    "    structured_llm = llm.with_structured_output(SearchQuery)\n",
    "    search_query = structured_llm.invoke([search_instructions] + state[\"messages\"])\n",
    "\n",
    "    print(\"-serper*\" *50)\n",
    "    print(search_query)\n",
    "\n",
    "    # Search\n",
    "    search_docs = serper.run(search_query.search_query)\n",
    "\n",
    "    return {\"context\": [search_docs]}\n"
   ]
  },
  {
   "cell_type": "code",
   "execution_count": 71,
   "id": "2c6a421e",
   "metadata": {},
   "outputs": [],
   "source": [
    "state = {\"max_num_turns\":2, \"context\":[], \"analyst\":analyst, \"interview\":\"\",\"messages\":[AIMessage(content=\"Hello, Professor Vedic. My name is Clara Thompson, and I'm an analyst with a keen interest in cultural history and its modern implications. I'm fascinated by your work on the cultural and historical significance of astrology in the modern world. To start, could you share an example of how astrology has been integrated into contemporary practices in a way that might surprise people?\", additional_kwargs={'refusal': None}, response_metadata={'token_usage': {'completion_tokens': 71, 'prompt_tokens': 250, 'total_tokens': 321, 'completion_tokens_details': {'accepted_prediction_tokens': 0, 'audio_tokens': 0, 'reasoning_tokens': 0, 'rejected_prediction_tokens': 0}, 'prompt_tokens_details': {'audio_tokens': 0, 'cached_tokens': 0}}, 'model_name': 'gpt-4o-2024-08-06', 'system_fingerprint': 'fp_eb3c3cb84d', 'id': 'chatcmpl-CQE5zx8Mxd42llAtk0wf0vUrGHiFT', 'service_tier': 'default', 'finish_reason': 'stop', 'logprobs': None}, id='run--7aac7dcd-b116-4b88-9239-8cfeead6216a-0', usage_metadata={'input_tokens': 250, 'output_tokens': 71, 'total_tokens': 321, 'input_token_details': {'audio': 0, 'cache_read': 0}, 'output_token_details': {'audio': 0, 'reasoning': 0}})]}"
   ]
  },
  {
   "cell_type": "code",
   "execution_count": 72,
   "id": "6548adca",
   "metadata": {},
   "outputs": [
    {
     "name": "stderr",
     "output_type": "stream",
     "text": [
      "HTTP Request: POST https://api.openai.com/v1/chat/completions \"HTTP/1.1 200 OK\"\n"
     ]
    },
    {
     "name": "stdout",
     "output_type": "stream",
     "text": [
      "-serper*-serper*-serper*-serper*-serper*-serper*-serper*-serper*-serper*-serper*-serper*-serper*-serper*-serper*-serper*-serper*-serper*-serper*-serper*-serper*-serper*-serper*-serper*-serper*-serper*-serper*-serper*-serper*-serper*-serper*-serper*-serper*-serper*-serper*-serper*-serper*-serper*-serper*-serper*-serper*-serper*-serper*-serper*-serper*-serper*-serper*-serper*-serper*-serper*-serper*\n",
      "search_query='modern integration of astrology in contemporary practices'\n"
     ]
    }
   ],
   "source": [
    "result = search_serper(state)"
   ]
  },
  {
   "cell_type": "code",
   "execution_count": 73,
   "id": "dce53b46",
   "metadata": {},
   "outputs": [
    {
     "data": {
      "text/plain": [
       "[\"Contemporary practices of astrology offer a version of spirituality ... Early astrological practices were also integrated into concepts ... by P Clements · 2020 · Cited by 15 — This speculative and interdisciplinary article about Western and UK astrology recognises a fluid craft steeped in pre-modern 'magical' symbolism. The integration of modern technology into astrology has bridged the gap between ancient wisdom and contemporary life, allowing users to access expert advice and ... This study provides insights into the persistence of astrology as a significant cultural and psychological force, offering a nuanced perspective ... At the heart of the contemporary astrological practices lies Omega Astro's approach, seamlessly blending ancient wisdom with cutting-edge ... Neither practice can be integrated into the other without first understanding what those worldviews are and how astrology functions in both. Astrology can be integrated by using zodiac signs, birth charts, aligning spells with planetary transits, and using astrological cycles like ... Bridging AI with technology to provide personalized, data-driven astrology insights, merging ancient wisdom with modern innovation. There is no neccessity to blend Astrology or any other ancient wisdom with the modern psychology. We already had an elaborate body of knowledge ... As society evolved, so did astrology. The transition from ancient to modern astrology witnessed the integration of various cultural and philosophical influences ...\"]"
      ]
     },
     "execution_count": 73,
     "metadata": {},
     "output_type": "execute_result"
    }
   ],
   "source": [
    "result[\"context\"]"
   ]
  },
  {
   "cell_type": "code",
   "execution_count": 74,
   "id": "9ed641d4",
   "metadata": {},
   "outputs": [],
   "source": [
    "from langchain_community.document_loaders import  ArxivLoader\n"
   ]
  },
  {
   "cell_type": "code",
   "execution_count": null,
   "id": "e024d681",
   "metadata": {},
   "outputs": [],
   "source": [
    "# def search_arxiv(state: InterviewState):\n",
    "#     \"\"\"\n",
    "#     Retrieve data from the web\n",
    "#     \"\"\"\n",
    "#     structure_llm = llm.with_structured_output(SearchQuery)\n",
    "#     search_query = structure_llm.invoke([search_instructions] + state[\"messages\"])\n",
    "\n",
    "#     # Search\n",
    "#     search_docs = ArxivLoader(search_query.search_query).load()\n",
    "\n",
    "#     formatted_search_docs = \"\\n\\n\".join(doc.page_content[:1000] for doc in search_docs[:2]) or \"No papers found\"\n",
    "#     print(\"-arxiv*\" *50)\n",
    "#     print(formatted_search_docs)\n",
    "\n",
    "#     return {\"context\": [formatted_search_docs]}"
   ]
  },
  {
   "cell_type": "code",
   "execution_count": 111,
   "id": "488d3fda",
   "metadata": {},
   "outputs": [],
   "source": [
    "import arxiv\n",
    "\n",
    "def search_arxiv(state: InterviewState):\n",
    "    structure_llm = llm.with_structured_output(SearchQuery)\n",
    "    search_query = structure_llm.invoke([search_instructions] + state[\"messages\"])\n",
    "\n",
    "    search = arxiv.Search(query=search_query.search_query, max_results=2)\n",
    "    results = []\n",
    "    for result in search.results():\n",
    "        results.append(f\"Title: {result.title}\\nSummary: {result.summary}\\nURL: {result.entry_id}\")\n",
    "\n",
    "    formatted_search_docs = \"\\n\\n\".join(results) or \"No papers found\"\n",
    "    return {\"context\": [formatted_search_docs]}"
   ]
  },
  {
   "cell_type": "code",
   "execution_count": 112,
   "id": "5aefe531",
   "metadata": {},
   "outputs": [],
   "source": [
    "state = {\"max_num_turns\":2, \"context\":[], \"analyst\":analyst, \"interview\":\"\",\"messages\":[AIMessage(content=\"Hello, Professor Vedic. My name is Clara Thompson, and I'm an analyst with a keen interest in cultural history and its modern implications. I'm fascinated by your work on the cultural and historical significance of astrology in the modern world. To start, could you share an example of how astrology has been integrated into contemporary practices in a way that might surprise people?\", additional_kwargs={'refusal': None}, response_metadata={'token_usage': {'completion_tokens': 71, 'prompt_tokens': 250, 'total_tokens': 321, 'completion_tokens_details': {'accepted_prediction_tokens': 0, 'audio_tokens': 0, 'reasoning_tokens': 0, 'rejected_prediction_tokens': 0}, 'prompt_tokens_details': {'audio_tokens': 0, 'cached_tokens': 0}}, 'model_name': 'gpt-4o-2024-08-06', 'system_fingerprint': 'fp_eb3c3cb84d', 'id': 'chatcmpl-CQE5zx8Mxd42llAtk0wf0vUrGHiFT', 'service_tier': 'default', 'finish_reason': 'stop', 'logprobs': None}, id='run--7aac7dcd-b116-4b88-9239-8cfeead6216a-0', usage_metadata={'input_tokens': 250, 'output_tokens': 71, 'total_tokens': 321, 'input_token_details': {'audio': 0, 'cache_read': 0}, 'output_token_details': {'audio': 0, 'reasoning': 0}})]}"
   ]
  },
  {
   "cell_type": "code",
   "execution_count": 113,
   "id": "45f0a323",
   "metadata": {},
   "outputs": [
    {
     "name": "stderr",
     "output_type": "stream",
     "text": [
      "HTTP Request: POST https://api.openai.com/v1/chat/completions \"HTTP/1.1 200 OK\"\n",
      "C:\\Users\\shank\\AppData\\Local\\Temp\\ipykernel_14668\\3150498081.py:9: DeprecationWarning: The 'Search.results' method is deprecated, use 'Client.results' instead\n",
      "  for result in search.results():\n",
      "Requesting page (first: True, try: 0): https://export.arxiv.org/api/query?search_query=integration+of+astrology+in+contemporary+practices+surprising+examples&id_list=&sortBy=relevance&sortOrder=descending&start=0&max_results=100\n",
      "Got first page: 1 of 2851614 total results\n",
      "Sleeping: 2.997452 seconds\n",
      "Requesting page (first: False, try: 0): https://export.arxiv.org/api/query?search_query=integration+of+astrology+in+contemporary+practices+surprising+examples&id_list=&sortBy=relevance&sortOrder=descending&start=1&max_results=100\n"
     ]
    }
   ],
   "source": [
    "result = search_arxiv(state)"
   ]
  },
  {
   "cell_type": "code",
   "execution_count": 114,
   "id": "a586d475",
   "metadata": {},
   "outputs": [],
   "source": [
    "answer_instructions = \"\"\"You are an expert being interviewed by an analyst.\n",
    "\n",
    "Here is analyst area of focus: {goals}.\n",
    "\n",
    "Your goal is to answer a question posed by the interviewer.\n",
    "\n",
    "To answer question, use this context:\n",
    "\n",
    "{context}\n",
    "\n",
    "When answering questions, follow these guidelines:\n",
    "\n",
    "1. Use only the information provided in the context.\n",
    "\n",
    "2. Do not introduce external information or make assumptions beyond what is explicitly stated in the context.\n",
    "\n",
    "3. The context contain sorces at the topic of each individual document.\n",
    "\n",
    "4. Include these sources in your answer next to any relevant statements. For example, for source # 1 use [1].\n",
    "\n",
    "5. List your sources in order at the bottom of your answer. [1] Source 1, [2] Source 2, etc\n",
    "\n",
    "6. If the source is: <Document source=\"assistant/docs/llama3_1.pdf\" page=\"7\"/>' then just list:\n",
    "\n",
    "[1] assistant/docs/llama3_1.pdf, page 7\n",
    "\n",
    "And skip the addition of the brackets as well as the Document source preamble in your citation\n",
    "\n",
    "\"\"\""
   ]
  },
  {
   "cell_type": "code",
   "execution_count": 115,
   "id": "c294dabe",
   "metadata": {},
   "outputs": [],
   "source": [
    "def generate_answer(state:InterviewState):\n",
    "\n",
    "    \"\"\" Node to answer a question \"\"\"\n",
    "\n",
    "    # Get state\n",
    "    analyst = state[\"analyst\"]\n",
    "    messages = state[\"messages\"]\n",
    "    context = state[\"context\"]\n",
    "\n",
    "    system_message = answer_instructions.format(goals=analyst.persona, context=context)\n",
    "    answer = llm.invoke([SystemMessage(content=system_message)] + messages)\n",
    "\n",
    "    # Name the message as coming from the expert\n",
    "    answer.name = \"expert\"\n",
    "\n",
    "    # Append it to state\n",
    "    return {\"messages\":[answer]}"
   ]
  },
  {
   "cell_type": "code",
   "execution_count": 116,
   "id": "3d22d7e7",
   "metadata": {},
   "outputs": [],
   "source": [
    "def route_messages(state: InterviewState,\n",
    "                   name: str = \"expert\"):\n",
    "    \"\"\" Route between question and answer \"\"\"\n",
    "\n",
    "    # Get messages\n",
    "    messages = state[\"messages\"]\n",
    "    max_num_turns = state.get(\"max_num_turns\", 2)\n",
    "\n",
    "    # Check the number of expert answers\n",
    "    num_responses = len(\n",
    "        [m for m in messages if isinstance(m, AIMessage) and m.name == name]\n",
    "    )\n",
    "\n",
    "    # End if expert has answered more than the max turns\n",
    "    if num_responses >= max_num_turns:\n",
    "        return \"save_interview\"\n",
    "    \n",
    "    # This router is run after each question - answer pair \n",
    "    # Get the last question asked to check if it signals the end of discussion\n",
    "    last_question = messages[-2]\n",
    "\n",
    "    if \"Thank You so much for your help\" in last_question.content:\n",
    "        return \"save_interview\"\n",
    "    \n",
    "    return \"ask_question\""
   ]
  },
  {
   "cell_type": "code",
   "execution_count": 117,
   "id": "2214f3d4",
   "metadata": {},
   "outputs": [],
   "source": [
    "def save_interview(state: InterviewState):\n",
    "\n",
    "    \"\"\"Save Interviews \"\"\"\n",
    "\n",
    "    # Get messages\n",
    "    messages = state[\"messages\"]\n",
    "\n",
    "    # Convert interview to a string\n",
    "    interview = get_buffer_string(messages)\n",
    "\n",
    "    # Save to interviews key\n",
    "    return {\"interview\": interview}"
   ]
  },
  {
   "cell_type": "code",
   "execution_count": 118,
   "id": "b16c4491",
   "metadata": {},
   "outputs": [],
   "source": [
    "section_writer_instructions = \"\"\"You are an expert technical writer. \n",
    "            \n",
    "Your task is to create a short, easily digestible section of a report based on a set of source documents.\n",
    "\n",
    "1. Analyze the content of the source documents: \n",
    "- The name of each source document is at the start of the document, with the <Document tag.\n",
    "        \n",
    "2. Create a report structure using markdown formatting:\n",
    "- Use ## for the section title\n",
    "- Use ### for sub-section headers\n",
    "        \n",
    "3. Write the report following this structure:\n",
    "a. Title (## header)\n",
    "b. Summary (### header)\n",
    "c. Sources (### header)\n",
    "\n",
    "4. Make your title engaging based upon the focus area of the analyst: \n",
    "{focus}\n",
    "\n",
    "5. For the summary section:\n",
    "- Set up summary with general background / context related to the focus area of the analyst\n",
    "- Emphasize what is novel, interesting, or surprising about insights gathered from the interview\n",
    "- Create a numbered list of source documents, as you use them\n",
    "- Do not mention the names of interviewers or experts\n",
    "- Aim for approximately 400 words maximum\n",
    "- Use numbered sources in your report (e.g., [1], [2]) based on information from source documents\n",
    "        \n",
    "6. In the Sources section:\n",
    "- Include all sources used in your report\n",
    "- Provide full links to relevant websites or specific document paths\n",
    "- Separate each source by a newline. Use two spaces at the end of each line to create a newline in Markdown.\n",
    "- It will look like:\n",
    "\n",
    "### Sources\n",
    "[1] Link or Document name\n",
    "[2] Link or Document name\n",
    "\n",
    "7. Be sure to combine sources. For example this is not correct:\n",
    "\n",
    "[3] https://ai.meta.com/blog/meta-llama-3-1/\n",
    "[4] https://ai.meta.com/blog/meta-llama-3-1/\n",
    "\n",
    "There should be no redundant sources. It should simply be:\n",
    "\n",
    "[3] https://ai.meta.com/blog/meta-llama-3-1/\n",
    "        \n",
    "8. Final review:\n",
    "- Ensure the report follows the required structure\n",
    "- Include no preamble before the title of the report\n",
    "- Check that all guidelines have been followed\"\"\""
   ]
  },
  {
   "cell_type": "code",
   "execution_count": 119,
   "id": "a28bb277",
   "metadata": {},
   "outputs": [],
   "source": [
    "def write_section(state: InterviewState):\n",
    "\n",
    "    \"\"\" Node to answer a question \"\"\"\n",
    "\n",
    "    # get state\n",
    "    interview = state[\"interview\"]\n",
    "    context = state[\"context\"]\n",
    "    analyst = state[\"analyst\"]\n",
    "\n",
    "    # Write section using either the gathered source docs from interview (context) or the interview itself (interview)\n",
    "    system_message = section_writer_instructions.format(focus=analyst.description)\n",
    "    section = llm.invoke([SystemMessage(content=system_message)] + [HumanMessage(content=f\"Use this source to write your section: {context}\")])\n",
    "\n",
    "    # Append it to state\n",
    "    return {\"sections\": [section.content]}"
   ]
  },
  {
   "cell_type": "code",
   "execution_count": 120,
   "id": "d2c5e0fb",
   "metadata": {},
   "outputs": [],
   "source": [
    "interview_builder = StateGraph(InterviewState)"
   ]
  },
  {
   "cell_type": "code",
   "execution_count": 121,
   "id": "4c7597e3",
   "metadata": {},
   "outputs": [
    {
     "data": {
      "text/plain": [
       "<langgraph.graph.state.StateGraph at 0x218ed6d0a10>"
      ]
     },
     "execution_count": 121,
     "metadata": {},
     "output_type": "execute_result"
    }
   ],
   "source": [
    "interview_builder.add_node(\"ask_question\", generation_question )\n",
    "interview_builder.add_node(\"search_web\", search_web )\n",
    "interview_builder.add_node(\"search_serper\", search_serper )\n",
    "interview_builder.add_node(\"search_arxiv\", search_arxiv )\n",
    "interview_builder.add_node(\"generate_answer\", generate_answer )\n",
    "interview_builder.add_node(\"save_interview\", save_interview )\n",
    "interview_builder.add_node(\"write_section\", write_section )"
   ]
  },
  {
   "cell_type": "code",
   "execution_count": 122,
   "id": "482d994a",
   "metadata": {},
   "outputs": [
    {
     "data": {
      "text/plain": [
       "<langgraph.graph.state.StateGraph at 0x218ed6d0a10>"
      ]
     },
     "execution_count": 122,
     "metadata": {},
     "output_type": "execute_result"
    }
   ],
   "source": [
    "interview_builder.add_edge(START, \"ask_question\")\n",
    "interview_builder.add_edge(\"ask_question\",\"search_web\")\n",
    "interview_builder.add_edge(\"ask_question\",\"search_serper\")\n",
    "interview_builder.add_edge(\"ask_question\",\"search_arxiv\")\n",
    "interview_builder.add_edge(\"search_web\",\"generate_answer\")\n",
    "interview_builder.add_edge(\"search_serper\",\"generate_answer\")\n",
    "interview_builder.add_edge(\"search_arxiv\",\"generate_answer\")\n",
    "interview_builder.add_conditional_edges(\"generate_answer\",\n",
    "                                        route_messages,\n",
    "                                        [\"ask_question\",\n",
    "                                         \"save_interview\"])\n",
    "interview_builder.add_edge(\"save_interview\",\"write_section\")\n",
    "interview_builder.add_edge(\"write_section\",END)"
   ]
  },
  {
   "cell_type": "code",
   "execution_count": 123,
   "id": "ddd5f326",
   "metadata": {},
   "outputs": [],
   "source": [
    "interview_graph = interview_builder.compile(checkpointer=memory).with_config(run_name = \"Conduct INterview\")\n"
   ]
  },
  {
   "cell_type": "code",
   "execution_count": 124,
   "id": "e2f496ed",
   "metadata": {},
   "outputs": [
    {
     "data": {
      "image/png": "[encoded data removed]",
      "text/plain": [
       "<IPython.core.display.Image object>"
      ]
     },
     "metadata": {},
     "output_type": "display_data"
    }
   ],
   "source": [
    "display(Image(interview_graph.get_graph().draw_mermaid_png()))"
   ]
  },
  {
   "cell_type": "code",
   "execution_count": 125,
   "id": "5df38757",
   "metadata": {},
   "outputs": [
    {
     "data": {
      "text/plain": [
       "Analyst(name='Professor Leo Vega', role='Cultural Historian', affiliation='University of New Age Studies', description='Professor Leo Vega examines the cultural and historical significance of astrology in the modern world. He investigates how astrology has been integrated into contemporary society, influencing everything from fashion to technology. His research highlights the enduring appeal of astrology as a tool for self-reflection and its role in shaping cultural identities. Professor Vega is particularly interested in how astrology can foster a sense of connection and community in an increasingly digital and fragmented world.')"
      ]
     },
     "execution_count": 125,
     "metadata": {},
     "output_type": "execute_result"
    }
   ],
   "source": [
    "analyst"
   ]
  },
  {
   "cell_type": "code",
   "execution_count": 126,
   "id": "f44d4736",
   "metadata": {},
   "outputs": [
    {
     "data": {
      "text/plain": [
       "'Name: Professor Leo Vega\\nRole: Cultural Historian\\nAffiliation: University of New Age Studies\\nDescription: Professor Leo Vega examines the cultural and historical significance of astrology in the modern world. He investigates how astrology has been integrated into contemporary society, influencing everything from fashion to technology. His research highlights the enduring appeal of astrology as a tool for self-reflection and its role in shaping cultural identities. Professor Vega is particularly interested in how astrology can foster a sense of connection and community in an increasingly digital and fragmented world.\\n'"
      ]
     },
     "execution_count": 126,
     "metadata": {},
     "output_type": "execute_result"
    }
   ],
   "source": [
    "analyst.persona"
   ]
  },
  {
   "cell_type": "code",
   "execution_count": 127,
   "id": "f44e7c33",
   "metadata": {},
   "outputs": [],
   "source": [
    "thread = {\"configurable\": {\"thread_id\": \"1\"}}"
   ]
  },
  {
   "cell_type": "code",
   "execution_count": 128,
   "id": "f8af7e2f",
   "metadata": {},
   "outputs": [],
   "source": [
    "from IPython.display import Markdown"
   ]
  },
  {
   "cell_type": "code",
   "execution_count": 132,
   "id": "bb58abfe",
   "metadata": {},
   "outputs": [],
   "source": [
    "messages = [HumanMessage(\"So you said you were writing an article on planetery position and it's effect on humans?\")]"
   ]
  },
  {
   "cell_type": "code",
   "execution_count": 133,
   "id": "2f10495c",
   "metadata": {},
   "outputs": [
    {
     "name": "stderr",
     "output_type": "stream",
     "text": [
      "HTTP Request: POST https://api.openai.com/v1/chat/completions \"HTTP/1.1 200 OK\"\n",
      "HTTP Request: POST https://api.openai.com/v1/chat/completions \"HTTP/1.1 200 OK\"\n",
      "HTTP Request: POST https://api.openai.com/v1/chat/completions \"HTTP/1.1 200 OK\"\n"
     ]
    },
    {
     "name": "stdout",
     "output_type": "stream",
     "text": [
      "-serper*-serper*-serper*-serper*-serper*-serper*-serper*-serper*-serper*-serper*-serper*-serper*-serper*-serper*-serper*-serper*-serper*-serper*-serper*-serper*-serper*-serper*-serper*-serper*-serper*-serper*-serper*-serper*-serper*-serper*-serper*-serper*-serper*-serper*-serper*-serper*-serper*-serper*-serper*-serper*-serper*-serper*-serper*-serper*-serper*-serper*-serper*-serper*-serper*-serper*\n",
      "search_query='planetary positions effects on humans astrology cultural significance'\n"
     ]
    },
    {
     "name": "stderr",
     "output_type": "stream",
     "text": [
      "HTTP Request: POST https://api.openai.com/v1/chat/completions \"HTTP/1.1 200 OK\"\n",
      "C:\\Users\\shank\\AppData\\Local\\Temp\\ipykernel_14668\\3150498081.py:9: DeprecationWarning: The 'Search.results' method is deprecated, use 'Client.results' instead\n",
      "  for result in search.results():\n",
      "Requesting page (first: True, try: 0): https://export.arxiv.org/api/query?search_query=planetary+positions+effect+on+humans+astrology+cultural+significance&id_list=&sortBy=relevance&sortOrder=descending&start=0&max_results=100\n",
      "Got first page: 100 of 2292768 total results\n"
     ]
    },
    {
     "name": "stdout",
     "output_type": "stream",
     "text": [
      "-tavily*-tavily*-tavily*-tavily*-tavily*-tavily*-tavily*-tavily*-tavily*-tavily*-tavily*-tavily*-tavily*-tavily*-tavily*-tavily*-tavily*-tavily*-tavily*-tavily*-tavily*-tavily*-tavily*-tavily*-tavily*-tavily*-tavily*-tavily*-tavily*-tavily*-tavily*-tavily*-tavily*-tavily*-tavily*-tavily*-tavily*-tavily*-tavily*-tavily*-tavily*-tavily*-tavily*-tavily*-tavily*-tavily*-tavily*-tavily*-tavily*-tavily*\n"
     ]
    },
    {
     "name": "stderr",
     "output_type": "stream",
     "text": [
      "HTTP Request: POST https://api.openai.com/v1/chat/completions \"HTTP/1.1 200 OK\"\n",
      "HTTP Request: POST https://api.openai.com/v1/chat/completions \"HTTP/1.1 200 OK\"\n"
     ]
    }
   ],
   "source": [
    "interview = interview_graph.invoke({\"analyst\": analyst, \"messages\": messages, \"max_num_turns\": 2}, thread)"
   ]
  },
  {
   "cell_type": "code",
   "execution_count": 134,
   "id": "9c621797",
   "metadata": {},
   "outputs": [
    {
     "data": {
      "text/markdown": [
       "## The Enduring Influence of Astrology in Modern Culture\n",
       "\n",
       "### Summary\n",
       "\n",
       "Astrology, an ancient practice that interprets celestial movements to understand human behavior and predict events, continues to hold cultural and historical significance in the modern world. Despite the rise of scientific rationalism, astrology remains a popular tool for self-reflection and community building. Professor Leo Vega's research delves into the integration of astrology into contemporary society, highlighting its influence on various aspects of life, from fashion to technology.\n",
       "\n",
       "Astrology's enduring appeal lies in its ability to provide a sense of connection and identity in an increasingly digital and fragmented world. It offers a framework for individuals to make sense of complex life situations, serving as a coping mechanism during times of uncertainty. This cultural phenomenon is not only a personal tool but also shapes societal trends and cultural identities.\n",
       "\n",
       "1. The historical context of astrology reveals its deep roots in ancient civilizations, where it was intertwined with medicine, science, and philosophy. Physicians once believed that celestial positions influenced human health, and treatments were often prescribed based on astrological charts [1].\n",
       "   \n",
       "2. Astrology's role in community influence is significant, as it has shaped cultural and societal frameworks throughout history. The belief in the alignment of stars and planets influencing human affairs has transcended cultural boundaries, maintaining its relevance across different societies [2].\n",
       "\n",
       "3. The practice of astrology involves understanding the influences of planetary alignments, which can encourage new ventures or suggest caution during unfavorable periods. This understanding of celestial phenomena provides insights into human behavior and decision-making processes [3].\n",
       "\n",
       "4. Astrology's integration into modern culture is evident in its influence on fashion, technology, and even mental health. For instance, planetary movements are often associated with specific emotional energies, impacting mood and emotions. This connection between celestial movements and human emotions is a fascinating concept that continues to be explored [4].\n",
       "\n",
       "5. Despite its mystical origins, astrology has adapted to contemporary society, offering a blend of tradition and modernity. It serves as a bridge between the past and present, allowing individuals to explore their identities and connect with others who share similar beliefs [5].\n",
       "\n",
       "Professor Vega's research underscores the importance of astrology as a cultural and historical phenomenon that continues to shape modern society. Its ability to foster a sense of community and connection in a fragmented world highlights its enduring relevance and appeal.\n",
       "\n",
       "### Sources\n",
       "[1] https://www.centreofexcellence.com/the-history-of-astrology/  \n",
       "[2] https://www.researchgate.net/publication/388642200_The_Significance_of_Planetary_Alignments_Astronomical_Cultural_and_Theological_Insights  \n",
       "[3] https://joysauce.com/astrology-with-alice-when-planets-align/  \n",
       "[4] https://fullmoonbehavioral.com/your-mental-health-and-astrology-how-the-movement-of-planets-and-the-moon-influence-mood-and-emotions/  \n",
       "[5] https://www.reddit.com/r/AskAstrologers/comments/10mwtdd/how_is_it_possible_that_planets_have_an_influence/  "
      ],
      "text/plain": [
       "<IPython.core.display.Markdown object>"
      ]
     },
     "execution_count": 134,
     "metadata": {},
     "output_type": "execute_result"
    }
   ],
   "source": [
    "Markdown(interview['sections'][0])"
   ]
  },
  {
   "cell_type": "code",
   "execution_count": null,
   "id": "506664c0",
   "metadata": {},
   "outputs": [],
   "source": []
  }
 ],
 "metadata": {
  "kernelspec": {
   "display_name": "automatedresearchreportgeneration",
   "language": "python",
   "name": "python3"
  },
  "language_info": {
   "codemirror_mode": {
    "name": "ipython",
    "version": 3
   },
   "file_extension": ".py",
   "mimetype": "text/x-python",
   "name": "python",
   "nbconvert_exporter": "python",
   "pygments_lexer": "ipython3",
   "version": "3.11.13"
  }
 },
 "nbformat": 4,
 "nbformat_minor": 5
}
