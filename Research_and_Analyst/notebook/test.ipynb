{
 "cells": [
  {
   "cell_type": "code",
   "execution_count": 5,
   "id": "9740f4bf",
   "metadata": {},
   "outputs": [
    {
     "name": "stdout",
     "output_type": "stream",
     "text": [
      "4,3,2,1,Ho jaye Shuru!!!\n"
     ]
    }
   ],
   "source": [
    "print(\"4,3,2,1,Ho jaye Shuru!!!\")"
   ]
  },
  {
   "cell_type": "code",
   "execution_count": 6,
   "id": "0ca9a118",
   "metadata": {},
   "outputs": [
    {
     "name": "stderr",
     "output_type": "stream",
     "text": [
      "{\"timestamp\": \"2025-10-23T14:05:27.425161Z\", \"level\": \"info\", \"event\": \"OPENAI_API_KEY loaded from environment\"}\n",
      "{\"timestamp\": \"2025-10-23T14:05:27.426460Z\", \"level\": \"info\", \"event\": \"GOOGLE_API_KEY loaded from environment\"}\n",
      "{\"timestamp\": \"2025-10-23T14:05:27.427550Z\", \"level\": \"info\", \"event\": \"GROQ_API_KEY loaded from environment\"}\n",
      "{\"timestamp\": \"2025-10-23T14:05:27.428076Z\", \"level\": \"warning\", \"event\": \"ASTRA_DB_API_ENDPOINT is missing from environment\"}\n",
      "{\"timestamp\": \"2025-10-23T14:05:27.428616Z\", \"level\": \"warning\", \"event\": \"ASTRA_DB_APPLICATION_TOKEN is missing from environment\"}\n",
      "{\"timestamp\": \"2025-10-23T14:05:27.429663Z\", \"level\": \"warning\", \"event\": \"ASTRA_DB_KEYSPACE is missing from environment\"}\n",
      "{\"config_keys\": [\"astra_db\", \"embedding_model\", \"retriever\", \"llm\"], \"timestamp\": \"2025-10-23T14:05:27.432604Z\", \"level\": \"info\", \"event\": \"YAML config loaded\"}\n"
     ]
    }
   ],
   "source": [
    "from research_and_analyst.utils.model_loader import ModelLoader\n",
    "model_loader = ModelLoader()"
   ]
  },
  {
   "cell_type": "code",
   "execution_count": 7,
   "id": "fe7a4a0c",
   "metadata": {},
   "outputs": [
    {
     "name": "stderr",
     "output_type": "stream",
     "text": [
      "{\"provider\": \"openai\", \"model\": \"gpt-4o\", \"timestamp\": \"2025-10-23T14:05:27.440596Z\", \"level\": \"info\", \"event\": \"Loading LLM\"}\n"
     ]
    }
   ],
   "source": [
    "llm = model_loader.load_llm()"
   ]
  },
  {
   "cell_type": "code",
   "execution_count": 8,
   "id": "6fa0db7e",
   "metadata": {},
   "outputs": [
    {
     "name": "stderr",
     "output_type": "stream",
     "text": [
      "HTTP Request: POST https://api.openai.com/v1/chat/completions \"HTTP/1.1 200 OK\"\n"
     ]
    },
    {
     "data": {
      "text/plain": [
       "AIMessage(content='Could you please provide more context or clarify what you mean by \"Uactive\"? Are you referring to a specific product, service, or concept?', additional_kwargs={'refusal': None}, response_metadata={'token_usage': {'completion_tokens': 29, 'prompt_tokens': 10, 'total_tokens': 39, 'completion_tokens_details': {'accepted_prediction_tokens': 0, 'audio_tokens': 0, 'reasoning_tokens': 0, 'rejected_prediction_tokens': 0}, 'prompt_tokens_details': {'audio_tokens': 0, 'cached_tokens': 0}}, 'model_name': 'gpt-4o-2024-08-06', 'system_fingerprint': 'fp_65564d8ba5', 'id': 'chatcmpl-CTqESrKosCudyyI32CPs4Ih4vMWcw', 'service_tier': 'default', 'finish_reason': 'stop', 'logprobs': None}, id='run--11a0f7e9-8795-4331-8126-1d8c8f77b985-0', usage_metadata={'input_tokens': 10, 'output_tokens': 29, 'total_tokens': 39, 'input_token_details': {'audio': 0, 'cache_read': 0}, 'output_token_details': {'audio': 0, 'reasoning': 0}})"
      ]
     },
     "execution_count": 8,
     "metadata": {},
     "output_type": "execute_result"
    }
   ],
   "source": [
    "llm.invoke(\"Uactive?\")"
   ]
  },
  {
   "cell_type": "code",
   "execution_count": 9,
   "id": "143578cd",
   "metadata": {},
   "outputs": [],
   "source": [
    "from typing import List\n",
    "from typing_extensions import TypedDict\n",
    "from pydantic import BaseModel, Field"
   ]
  },
  {
   "cell_type": "code",
   "execution_count": 10,
   "id": "418a065b",
   "metadata": {},
   "outputs": [],
   "source": [
    "from langgraph.graph import StateGraph, START, END\n",
    "from langchain_core.messages import AIMessage, HumanMessage, SystemMessage\n",
    "from langgraph.checkpoint.memory import MemorySaver\n"
   ]
  },
  {
   "cell_type": "code",
   "execution_count": 11,
   "id": "cb2ab19c",
   "metadata": {},
   "outputs": [],
   "source": [
    "class Analyst(BaseModel):\n",
    "    name: str = Field(description=\"Name of the analyst\")\n",
    "    role: str = Field(description=\"Role of the analyst in the context of the topic\")\n",
    "    affiliation: str = Field(description=\"Primary affiliation of the analyst\")\n",
    "    description: str = Field(description=\"Description of the analyst focus, concerns and motives\")\n",
    "\n",
    "    @property\n",
    "    def persona(self) ->str:\n",
    "        return f\"Name: {self.name}\\nRole: {self.role}\\nAffiliation: {self.affiliation}\\nDescription: {self.description}\\n\"\n",
    "    "
   ]
  },
  {
   "cell_type": "code",
   "execution_count": 12,
   "id": "dc5eba78",
   "metadata": {},
   "outputs": [],
   "source": [
    "class Perspectives(BaseModel):\n",
    "    analysts: List[Analyst] = Field(description=\"Comprehenssive list of analysts with their roles and affiliations\")"
   ]
  },
  {
   "cell_type": "code",
   "execution_count": 13,
   "id": "b1714fcb",
   "metadata": {},
   "outputs": [],
   "source": [
    "class GenerateAnalystState(TypedDict):\n",
    "    topic: str # research topic\n",
    "    max_analysts: int #number of analyst\n",
    "    human_analyst_feedback: str #human feedback\n",
    "    analysts: List[Analyst] # Analyst asking questions"
   ]
  },
  {
   "cell_type": "code",
   "execution_count": 14,
   "id": "45dacd0a",
   "metadata": {},
   "outputs": [],
   "source": [
    "analyst_instructions=\"\"\"You are tasked with creating a set of AI analyst personas. Follow these instructions carefully:\n",
    "\n",
    "1. First, review the research topic:\n",
    "{topic}\n",
    "        \n",
    "2. Examine any editorial feedback that has been optionally provided to guide creation of the analysts: \n",
    "        \n",
    "{human_analyst_feedback}\n",
    "    \n",
    "3. Determine the most interesting themes based upon documents and / or feedback above.\n",
    "                    \n",
    "4. Pick the top {max_analysts} themes.\n",
    "\n",
    "5. Assign one analyst to each theme.\"\"\""
   ]
  },
  {
   "cell_type": "code",
   "execution_count": 15,
   "id": "a1625e14",
   "metadata": {},
   "outputs": [
    {
     "name": "stdout",
     "output_type": "stream",
     "text": [
      "['You are tasked with creating a set of AI analyst personas. Follow these instructions carefully:\\n\\n1. First, review the research topic:\\nAstrology\\n\\n2. Examine any editorial feedback that has been optionally provided to guide creation of the analysts: \\n\\nBaisc astrology topics with astrophysics\\n\\n3. Determine the most interesting themes based upon documents and / or feedback above.\\n\\n4. Pick the top 4 themes.\\n\\n5. Assign one analyst to each theme.', 'Generate the set of analystics']\n"
     ]
    }
   ],
   "source": [
    "print([analyst_instructions.format(\n",
    "    topic=\"Astrology\",\n",
    "    max_analysts=4,\n",
    "    human_analyst_feedback=\"Baisc astrology topics with astrophysics\"\n",
    ")] + [\"Generate the set of analystics\"])"
   ]
  },
  {
   "cell_type": "markdown",
   "id": "ca621201",
   "metadata": {},
   "source": [
    "['You are tasked with creating a set of AI analyst personas. Follow these instructions carefully:\\n\\n1. First, review the research topic:\\nAstrology\\n\\n2. Examine any editorial feedback that has been optionally provided to guide creation of the analysts: \\n\\nBaisc astrology topics with astrophysics\\n\\n3. Determine the most interesting themes based upon documents and / or feedback above.\\n\\n4. Pick the top 4 themes.\\n\\n5. Assign one analyst to each theme.', 'Generate the set of analystics']"
   ]
  },
  {
   "cell_type": "markdown",
   "id": "0a7ca4ac",
   "metadata": {},
   "source": [
    "# class GenerateAnalystState(TypedDict):\n",
    "    - topic: str # research topic\n",
    "    - max_analysts: int #number of analyst\n",
    "    - human_analyst_feedback: str #human feedback\n",
    "    - analysts: List[Analyst] # Analyst asking questions "
   ]
  },
  {
   "cell_type": "code",
   "execution_count": 16,
   "id": "4c10561e",
   "metadata": {},
   "outputs": [],
   "source": [
    "def create_analyst(state: GenerateAnalystState):\n",
    "    \"\"\"\n",
    "    Fuction to create required analyst\n",
    "    \"\"\"\n",
    "\n",
    "    topic = state[\"topic\"]\n",
    "    max_analysts = state[\"max_analysts\"]\n",
    "    human_analayst_feedback = state.get(\"human_analyst_feedback\", \"\")\n",
    "\n",
    "    structured_llm = llm.with_structured_output(Perspectives)\n",
    "\n",
    "    system_messages = analyst_instructions.format(\n",
    "        topic=topic,\n",
    "        max_analysts=max_analysts,\n",
    "        human_analyst_feedback=human_analayst_feedback  \n",
    "    )\n",
    "\n",
    "    analysts = structured_llm.invoke([SystemMessage(content=system_messages)]+ [HumanMessage(content=\"Generate the set of analysts\")])\n",
    "    print(\"-*\" * 50)\n",
    "    print(analysts)\n",
    "    print(\"-*\" * 50)\n",
    "    print(analysts.analysts[0])\n",
    "    return {\"analysts\": analysts.analysts}"
   ]
  },
  {
   "cell_type": "code",
   "execution_count": 17,
   "id": "e319afab",
   "metadata": {},
   "outputs": [
    {
     "name": "stderr",
     "output_type": "stream",
     "text": [
      "HTTP Request: POST https://api.openai.com/v1/chat/completions \"HTTP/1.1 200 OK\"\n"
     ]
    },
    {
     "name": "stdout",
     "output_type": "stream",
     "text": [
      "-*-*-*-*-*-*-*-*-*-*-*-*-*-*-*-*-*-*-*-*-*-*-*-*-*-*-*-*-*-*-*-*-*-*-*-*-*-*-*-*-*-*-*-*-*-*-*-*-*-*\n",
      "analysts=[Analyst(name='Dr. Celeste Orion', role='Astrology Historian', affiliation='Institute of Celestial Studies', description=\"Dr. Celeste Orion focuses on the historical development of astrology, tracing its origins from ancient civilizations to its influence in modern times. She is particularly interested in how astrology has been perceived and utilized across different cultures and epochs, and how its role has evolved in society. Her work aims to provide a comprehensive understanding of astrology's historical context and its impact on human thought and culture.\"), Analyst(name='Luna Starling', role='Astrology Skeptic and Science Communicator', affiliation='Rational Inquiry Society', description=\"Luna Starling is dedicated to critically examining the claims of astrology from a scientific perspective. She aims to educate the public about the lack of empirical evidence supporting astrological predictions and the psychological factors that contribute to its popularity. Luna's work involves debunking myths and promoting scientific literacy, encouraging people to question and understand the difference between belief and evidence-based science.\")]\n",
      "-*-*-*-*-*-*-*-*-*-*-*-*-*-*-*-*-*-*-*-*-*-*-*-*-*-*-*-*-*-*-*-*-*-*-*-*-*-*-*-*-*-*-*-*-*-*-*-*-*-*\n",
      "name='Dr. Celeste Orion' role='Astrology Historian' affiliation='Institute of Celestial Studies' description=\"Dr. Celeste Orion focuses on the historical development of astrology, tracing its origins from ancient civilizations to its influence in modern times. She is particularly interested in how astrology has been perceived and utilized across different cultures and epochs, and how its role has evolved in society. Her work aims to provide a comprehensive understanding of astrology's historical context and its impact on human thought and culture.\"\n"
     ]
    },
    {
     "data": {
      "text/plain": [
       "{'analysts': [Analyst(name='Dr. Celeste Orion', role='Astrology Historian', affiliation='Institute of Celestial Studies', description=\"Dr. Celeste Orion focuses on the historical development of astrology, tracing its origins from ancient civilizations to its influence in modern times. She is particularly interested in how astrology has been perceived and utilized across different cultures and epochs, and how its role has evolved in society. Her work aims to provide a comprehensive understanding of astrology's historical context and its impact on human thought and culture.\"),\n",
       "  Analyst(name='Luna Starling', role='Astrology Skeptic and Science Communicator', affiliation='Rational Inquiry Society', description=\"Luna Starling is dedicated to critically examining the claims of astrology from a scientific perspective. She aims to educate the public about the lack of empirical evidence supporting astrological predictions and the psychological factors that contribute to its popularity. Luna's work involves debunking myths and promoting scientific literacy, encouraging people to question and understand the difference between belief and evidence-based science.\")]}"
      ]
     },
     "execution_count": 17,
     "metadata": {},
     "output_type": "execute_result"
    }
   ],
   "source": [
    "create_analyst(\n",
    "    {'topic': 'astrology',\n",
    "    'max_analysts': 2,\n",
    "    'human_analyst_feedback': 'give the real info'}\n",
    "    )"
   ]
  },
  {
   "cell_type": "code",
   "execution_count": 18,
   "id": "8d8566ee",
   "metadata": {},
   "outputs": [],
   "source": [
    "def human_feedback(state: GenerateAnalystState):\n",
    "    \"\"\" No-op node that should be interrupted on \"\"\"\n",
    "    pass"
   ]
  },
  {
   "cell_type": "code",
   "execution_count": 19,
   "id": "fb0f9d33",
   "metadata": {},
   "outputs": [],
   "source": [
    "def should_continue(state: GenerateAnalystState):\n",
    "    \"\"\" Return the next node to execute \"\"\"\n",
    "    feedback = (state.get(\"human_analyst_feedback\") or \"\").strip().lower()\n",
    "    if feedback and feedback not in [\"\", \"none\", \"skip\", \"done\", \"continue\"]:\n",
    "        return \"create_analyst\"\n",
    "    return END"
   ]
  },
  {
   "cell_type": "markdown",
   "id": "46ea59c1",
   "metadata": {},
   "source": [
    "# First Workflow"
   ]
  },
  {
   "cell_type": "code",
   "execution_count": 20,
   "id": "b27f24e3",
   "metadata": {},
   "outputs": [],
   "source": [
    "builder = StateGraph(GenerateAnalystState)"
   ]
  },
  {
   "cell_type": "code",
   "execution_count": 21,
   "id": "b7c93cad",
   "metadata": {},
   "outputs": [
    {
     "data": {
      "text/plain": [
       "<langgraph.graph.state.StateGraph at 0x25d55139650>"
      ]
     },
     "execution_count": 21,
     "metadata": {},
     "output_type": "execute_result"
    }
   ],
   "source": [
    "builder.add_node(\"create_analyst\", create_analyst)\n",
    "builder.add_node(\"human_feedback\",human_feedback)"
   ]
  },
  {
   "cell_type": "code",
   "execution_count": 22,
   "id": "1f755099",
   "metadata": {},
   "outputs": [
    {
     "data": {
      "text/plain": [
       "<langgraph.graph.state.StateGraph at 0x25d55139650>"
      ]
     },
     "execution_count": 22,
     "metadata": {},
     "output_type": "execute_result"
    }
   ],
   "source": [
    "builder.add_edge(START, \"create_analyst\")\n",
    "builder.add_edge(\"create_analyst\", \"human_feedback\")\n",
    "builder.add_conditional_edges(\"human_feedback\",\n",
    "                              should_continue,\n",
    "                              [\"create_analyst\",\n",
    "                               END])"
   ]
  },
  {
   "cell_type": "code",
   "execution_count": 23,
   "id": "e1beb071",
   "metadata": {},
   "outputs": [],
   "source": [
    "memory = MemorySaver()"
   ]
  },
  {
   "cell_type": "code",
   "execution_count": 24,
   "id": "32c7058f",
   "metadata": {},
   "outputs": [],
   "source": [
    "graph = builder.compile(interrupt_before= [\"human_feedback\"], checkpointer=memory)"
   ]
  },
  {
   "cell_type": "code",
   "execution_count": 25,
   "id": "5f944aa8",
   "metadata": {},
   "outputs": [
    {
     "data": {
      "image/png": "[encoded data removed]",
      "text/plain": [
       "<IPython.core.display.Image object>"
      ]
     },
     "metadata": {},
     "output_type": "display_data"
    }
   ],
   "source": [
    "from IPython.display import Image, display\n",
    "display(Image(graph.get_graph(xray=1).draw_mermaid_png()))"
   ]
  },
  {
   "cell_type": "code",
   "execution_count": 26,
   "id": "4054caec",
   "metadata": {},
   "outputs": [],
   "source": [
    "topic = \"The benefit of astrology in modern world\""
   ]
  },
  {
   "cell_type": "code",
   "execution_count": 27,
   "id": "ce2ab355",
   "metadata": {},
   "outputs": [],
   "source": [
    "max_analysts = 2"
   ]
  },
  {
   "cell_type": "code",
   "execution_count": 28,
   "id": "f57b76d7",
   "metadata": {},
   "outputs": [],
   "source": [
    "thread = {\"configurable\": {\"thread_id\":1}}"
   ]
  },
  {
   "cell_type": "code",
   "execution_count": 29,
   "id": "06161e2d",
   "metadata": {},
   "outputs": [
    {
     "name": "stderr",
     "output_type": "stream",
     "text": [
      "HTTP Request: POST https://api.openai.com/v1/chat/completions \"HTTP/1.1 200 OK\"\n"
     ]
    },
    {
     "name": "stdout",
     "output_type": "stream",
     "text": [
      "-*-*-*-*-*-*-*-*-*-*-*-*-*-*-*-*-*-*-*-*-*-*-*-*-*-*-*-*-*-*-*-*-*-*-*-*-*-*-*-*-*-*-*-*-*-*-*-*-*-*\n",
      "analysts=[Analyst(name='Dr. Celeste Harmon', role='Astrology and Psychology Researcher', affiliation='Institute of Humanistic Studies', description='Dr. Harmon focuses on the psychological benefits of astrology in the modern world. She is particularly interested in how astrology can provide individuals with a sense of identity and purpose, and how it can be used as a tool for self-reflection and personal growth. Her research explores the therapeutic aspects of astrology, examining how it can help people cope with stress and uncertainty in contemporary society.'), Analyst(name='Professor Leo Zhang', role='Cultural Anthropologist', affiliation='Global Society Research Center', description='Professor Zhang studies the cultural significance of astrology in the modern world. He investigates how astrology is integrated into various cultural practices and its role in shaping social dynamics. His work examines the resurgence of astrology among younger generations and its impact on cultural identity and community building. Professor Zhang is interested in how astrology serves as a bridge between ancient traditions and contemporary digital culture.')]\n",
      "-*-*-*-*-*-*-*-*-*-*-*-*-*-*-*-*-*-*-*-*-*-*-*-*-*-*-*-*-*-*-*-*-*-*-*-*-*-*-*-*-*-*-*-*-*-*-*-*-*-*\n",
      "name='Dr. Celeste Harmon' role='Astrology and Psychology Researcher' affiliation='Institute of Humanistic Studies' description='Dr. Harmon focuses on the psychological benefits of astrology in the modern world. She is particularly interested in how astrology can provide individuals with a sense of identity and purpose, and how it can be used as a tool for self-reflection and personal growth. Her research explores the therapeutic aspects of astrology, examining how it can help people cope with stress and uncertainty in contemporary society.'\n",
      "Nmae: Dr. Celeste Harmon\n",
      "Affiliation: Institute of Humanistic Studies\n",
      "Role: Astrology and Psychology Researcher\n",
      "Description: Dr. Harmon focuses on the psychological benefits of astrology in the modern world. She is particularly interested in how astrology can provide individuals with a sense of identity and purpose, and how it can be used as a tool for self-reflection and personal growth. Her research explores the therapeutic aspects of astrology, examining how it can help people cope with stress and uncertainty in contemporary society.\n",
      "--------------------------------------------------\n",
      "Nmae: Professor Leo Zhang\n",
      "Affiliation: Global Society Research Center\n",
      "Role: Cultural Anthropologist\n",
      "Description: Professor Zhang studies the cultural significance of astrology in the modern world. He investigates how astrology is integrated into various cultural practices and its role in shaping social dynamics. His work examines the resurgence of astrology among younger generations and its impact on cultural identity and community building. Professor Zhang is interested in how astrology serves as a bridge between ancient traditions and contemporary digital culture.\n",
      "--------------------------------------------------\n"
     ]
    }
   ],
   "source": [
    "for event in graph.stream({\"topic\":topic,\n",
    "                           \"max_analysts\":max_analysts},\n",
    "                           thread,\n",
    "                           stream_mode=\"values\"):\n",
    "    analysts = event.get('analysts', '')\n",
    "\n",
    "    if analysts:\n",
    "        for analyst in analysts:\n",
    "            print(f\"Nmae: {analyst.name}\")\n",
    "            print(f\"Affiliation: {analyst.affiliation}\")\n",
    "            print(f\"Role: {analyst.role}\")\n",
    "            print(f\"Description: {analyst.description}\")\n",
    "            print(\"-\" *50)\n"
   ]
  },
  {
   "cell_type": "code",
   "execution_count": 30,
   "id": "799bda66",
   "metadata": {},
   "outputs": [],
   "source": [
    "state = graph.get_state(thread)"
   ]
  },
  {
   "cell_type": "code",
   "execution_count": 31,
   "id": "ddc58e71",
   "metadata": {},
   "outputs": [
    {
     "data": {
      "text/plain": [
       "StateSnapshot(values={'topic': 'The benefit of astrology in modern world', 'max_analysts': 2, 'analysts': [Analyst(name='Dr. Celeste Harmon', role='Astrology and Psychology Researcher', affiliation='Institute of Humanistic Studies', description='Dr. Harmon focuses on the psychological benefits of astrology in the modern world. She is particularly interested in how astrology can provide individuals with a sense of identity and purpose, and how it can be used as a tool for self-reflection and personal growth. Her research explores the therapeutic aspects of astrology, examining how it can help people cope with stress and uncertainty in contemporary society.'), Analyst(name='Professor Leo Zhang', role='Cultural Anthropologist', affiliation='Global Society Research Center', description='Professor Zhang studies the cultural significance of astrology in the modern world. He investigates how astrology is integrated into various cultural practices and its role in shaping social dynamics. His work examines the resurgence of astrology among younger generations and its impact on cultural identity and community building. Professor Zhang is interested in how astrology serves as a bridge between ancient traditions and contemporary digital culture.')]}, next=('human_feedback',), config={'configurable': {'thread_id': '1', 'checkpoint_ns': '', 'checkpoint_id': '1f0b0195-e9d2-6404-8001-3626cc8afbdf'}}, metadata={'source': 'loop', 'step': 1, 'parents': {}}, created_at='2025-10-23T14:05:45.651302+00:00', parent_config={'configurable': {'thread_id': '1', 'checkpoint_ns': '', 'checkpoint_id': '1f0b0195-959b-6a70-8000-13def053124e'}}, tasks=(PregelTask(id='835c4fce-5932-08dc-12e7-fb655344c310', name='human_feedback', path=('__pregel_pull', 'human_feedback'), error=None, interrupts=(), state=None, result=None),), interrupts=())"
      ]
     },
     "execution_count": 31,
     "metadata": {},
     "output_type": "execute_result"
    }
   ],
   "source": [
    "state"
   ]
  },
  {
   "cell_type": "markdown",
   "id": "1f5098de",
   "metadata": {},
   "source": [
    "StateSnapshot(values={'topic': 'The benefit of astrology in modern world', 'max_analysts': 2, 'analysts': [Analyst(name='Dr. Celeste Harmon', role='Astrology and Psychology Researcher', affiliation='Institute of Humanistic Studies', description='Dr. Harmon focuses on the psychological benefits of astrology in the modern world. She is particularly interested in how astrology can provide individuals with a sense of identity and purpose, and how it can be used as a tool for self-reflection and personal growth. Her research explores the therapeutic aspects of astrology, examining how it can help people cope with stress and anxiety by offering a framework for understanding their experiences and emotions.'), Analyst(name='Professor Leo Grant', role='Cultural Anthropologist', affiliation='University of Global Cultures', description='Professor Grant studies the cultural significance of astrology in contemporary society. He investigates how astrology has been integrated into modern lifestyles and its impact on cultural practices and beliefs. His work examines the resurgence of astrology in digital spaces, such as social media, and how it influences community building and social interactions. Professor Grant is interested in the ways astrology intersects with technology and how it shapes modern cultural narratives.')]}, next=('human_feedback',), config={'configurable': {'thread_id': '1', 'checkpoint_ns': '', 'checkpoint_id': '1f0b00f8-6ccd-6f37-8001-899fccf26270'}}, metadata={'source': 'loop', 'step': 1, 'parents': {}}, created_at='2025-10-23T12:55:18.105682+00:00', parent_config={'configurable': {'thread_id': '1', 'checkpoint_ns': '', 'checkpoint_id': '1f0b00f8-409f-636d-8000-37af259d5272'}}, tasks=(PregelTask(id='ac0c81bc-ed1a-defe-72c6-a2103321a367', name='human_feedback', path=('__pregel_pull', 'human_feedback'), error=None, interrupts=(), state=None, result=None),), interrupts=()"
   ]
  },
  {
   "cell_type": "code",
   "execution_count": 32,
   "id": "5746bbd1",
   "metadata": {},
   "outputs": [
    {
     "data": {
      "text/plain": [
       "{'topic': 'The benefit of astrology in modern world',\n",
       " 'max_analysts': 2,\n",
       " 'analysts': [Analyst(name='Dr. Celeste Harmon', role='Astrology and Psychology Researcher', affiliation='Institute of Humanistic Studies', description='Dr. Harmon focuses on the psychological benefits of astrology in the modern world. She is particularly interested in how astrology can provide individuals with a sense of identity and purpose, and how it can be used as a tool for self-reflection and personal growth. Her research explores the therapeutic aspects of astrology, examining how it can help people cope with stress and uncertainty in contemporary society.'),\n",
       "  Analyst(name='Professor Leo Zhang', role='Cultural Anthropologist', affiliation='Global Society Research Center', description='Professor Zhang studies the cultural significance of astrology in the modern world. He investigates how astrology is integrated into various cultural practices and its role in shaping social dynamics. His work examines the resurgence of astrology among younger generations and its impact on cultural identity and community building. Professor Zhang is interested in how astrology serves as a bridge between ancient traditions and contemporary digital culture.')]}"
      ]
     },
     "execution_count": 32,
     "metadata": {},
     "output_type": "execute_result"
    }
   ],
   "source": [
    "state.values"
   ]
  },
  {
   "cell_type": "code",
   "execution_count": 33,
   "id": "25627f66",
   "metadata": {},
   "outputs": [
    {
     "data": {
      "text/plain": [
       "('human_feedback',)"
      ]
     },
     "execution_count": 33,
     "metadata": {},
     "output_type": "execute_result"
    }
   ],
   "source": [
    "state.next"
   ]
  },
  {
   "cell_type": "code",
   "execution_count": 34,
   "id": "327d2d47",
   "metadata": {},
   "outputs": [
    {
     "data": {
      "text/plain": [
       "dict_items([('1', defaultdict(<class 'dict'>, {'': {'1f0b0195-9597-6f3e-bfff-24376461c2e1': (('msgpack', b'\\x86\\xa1v\\x04\\xa2ts\\xd9 2025-10-23T14:05:36.819385+00:00\\xa2id\\xd9$1f0b0195-9597-6f3e-bfff-24376461c2e1\\xb0channel_versions\\x81\\xa9__start__\\xd9300000000000000000000000000000001.0.5185843585269533\\xadversions_seen\\x81\\xa9__input__\\x80\\xb0updated_channels\\x91\\xa9__start__'), ('msgpack', b'\\x83\\xa6source\\xa5input\\xa4step\\xff\\xa7parents\\x80'), None), '1f0b0195-959b-6a70-8000-13def053124e': (('msgpack', b'\\x86\\xa1v\\x04\\xa2ts\\xd9 2025-10-23T14:05:36.820900+00:00\\xa2id\\xd9$1f0b0195-959b-6a70-8000-13def053124e\\xb0channel_versions\\x84\\xa9__start__\\xd9300000000000000000000000000000002.0.3859095303251615\\xa5topic\\xd9300000000000000000000000000000002.0.3859095303251615\\xacmax_analysts\\xd9300000000000000000000000000000002.0.3859095303251615\\xb8branch:to:create_analyst\\xd9300000000000000000000000000000002.0.3859095303251615\\xadversions_seen\\x82\\xa9__input__\\x80\\xa9__start__\\x81\\xa9__start__\\xd9300000000000000000000000000000001.0.5185843585269533\\xb0updated_channels\\x93\\xb8branch:to:create_analyst\\xacmax_analysts\\xa5topic'), ('msgpack', b'\\x83\\xa6source\\xa4loop\\xa4step\\x00\\xa7parents\\x80'), '1f0b0195-9597-6f3e-bfff-24376461c2e1'), '1f0b0195-e9d2-6404-8001-3626cc8afbdf': (('msgpack', b'\\x86\\xa1v\\x04\\xa2ts\\xd9 2025-10-23T14:05:45.651302+00:00\\xa2id\\xd9$1f0b0195-e9d2-6404-8001-3626cc8afbdf\\xb0channel_versions\\x86\\xa9__start__\\xd9300000000000000000000000000000002.0.3859095303251615\\xa5topic\\xd9300000000000000000000000000000002.0.3859095303251615\\xacmax_analysts\\xd9300000000000000000000000000000002.0.3859095303251615\\xb8branch:to:create_analyst\\xd9400000000000000000000000000000003.0.43979165628666794\\xa8analysts\\xd9400000000000000000000000000000003.0.43979165628666794\\xb8branch:to:human_feedback\\xd9400000000000000000000000000000003.0.43979165628666794\\xadversions_seen\\x83\\xa9__input__\\x80\\xa9__start__\\x81\\xa9__start__\\xd9300000000000000000000000000000001.0.5185843585269533\\xaecreate_analyst\\x81\\xb8branch:to:create_analyst\\xd9300000000000000000000000000000002.0.3859095303251615\\xb0updated_channels\\x92\\xa8analysts\\xb8branch:to:human_feedback'), ('msgpack', b'\\x83\\xa6source\\xa4loop\\xa4step\\x01\\xa7parents\\x80'), '1f0b0195-959b-6a70-8000-13def053124e')}}))])"
      ]
     },
     "execution_count": 34,
     "metadata": {},
     "output_type": "execute_result"
    }
   ],
   "source": [
    "memory.storage.items()"
   ]
  },
  {
   "cell_type": "markdown",
   "id": "ff4b5fa5",
   "metadata": {},
   "source": [
    "dict_items([('1', defaultdict(<class 'dict'>, {'': {'1f0b00f8-4098-69b2-bfff-7d0dd8e5904c': (('msgpack', b'\\x86\\xa1v\\x04\\xa2ts\\xd9 2025-10-23T12:55:13.470097+00:00\\xa2id\\xd9$1f0b00f8-4098-69b2-bfff-7d0dd8e5904c\\xb0channel_versions\\x81\\xa9__start__\\xd9300000000000000000000000000000001.0.2110699973301451\\xadversions_seen\\x81\\xa9__input__\\x80\\xb0updated_channels\\x91\\xa9__start__'), ('msgpack', b'\\x83\\xa6source\\xa5input\\xa4step\\xff\\xa7parents\\x80'), None), '1f0b00f8-409f-636d-8000-37af259d5272': (('msgpack', b'\\x86\\xa1v\\x04\\xa2ts\\xd9 2025-10-23T12:55:13.472804+00:00\\xa2id\\xd9$1f0b00f8-409f-636d-8000-37af259d5272\\xb0channel_versions\\x84\\xa9__start__\\xd9300000000000000000000000000000002.0.3131316198005256\\xa5topic\\xd9300000000000000000000000000000002.0.3131316198005256\\xacmax_analysts\\xd9300000000000000000000000000000002.0.3131316198005256\\xb8branch:to:create_analyst\\xd9300000000000000000000000000000002.0.3131316198005256\\xadversions_seen\\x82\\xa9__input__\\x80\\xa9__start__\\x81\\xa9__start__\\xd9300000000000000000000000000000001.0.2110699973301451\\xb0updated_channels\\x93\\xb8branch:to:create_analyst\\xacmax_analysts\\xa5topic'), ('msgpack', b'\\x83\\xa6source\\xa4loop\\xa4step\\x00\\xa7parents\\x80'), '1f0b00f8-4098-69b2-bfff-7d0dd8e5904c'), '1f0b00f8-6ccd-6f37-8001-899fccf26270': (('msgpack', b'\\x86\\xa1v\\x04\\xa2ts\\xd9 2025-10-23T12:55:18.105682+00:00\\xa2id\\xd9$1f0b00f8-6ccd-6f37-8001-899fccf26270\\xb0channel_versions\\x86\\xa9__start__\\xd9300000000000000000000000000000002.0.3131316198005256\\xa5topic\\xd9300000000000000000000000000000002.0.3131316198005256\\xacmax_analysts\\xd9300000000000000000000000000000002.0.3131316198005256\\xb8branch:to:create_analyst\\xd9400000000000000000000000000000003.0.39286179787546727\\xa8analysts\\xd9400000000000000000000000000000003.0.39286179787546727\\xb8branch:to:human_feedback\\xd9400000000000000000000000000000003.0.39286179787546727\\xadversions_seen\\x83\\xa9__input__\\x80\\xa9__start__\\x81\\xa9__start__\\xd9300000000000000000000000000000001.0.2110699973301451\\xaecreate_analyst\\x81\\xb8branch:to:create_analyst\\xd9300000000000000000000000000000002.0.3131316198005256\\xb0updated_channels\\x92\\xa8analysts\\xb8branch:to:human_feedback'), ('msgpack', b'\\x83\\xa6source\\xa4loop\\xa4step\\x01\\xa7parents\\x80'), '1f0b00f8-409f-636d-8000-37af259d5272')}}))])"
   ]
  },
  {
   "cell_type": "code",
   "execution_count": 35,
   "id": "c172d4a1",
   "metadata": {},
   "outputs": [
    {
     "data": {
      "text/plain": [
       "{'configurable': {'thread_id': '1',\n",
       "  'checkpoint_ns': '',\n",
       "  'checkpoint_id': '1f0b0195-e9d2-6404-8001-3626cc8afbdf'}}"
      ]
     },
     "execution_count": 35,
     "metadata": {},
     "output_type": "execute_result"
    }
   ],
   "source": [
    "state.config"
   ]
  },
  {
   "cell_type": "code",
   "execution_count": 36,
   "id": "df51c03d",
   "metadata": {},
   "outputs": [
    {
     "data": {
      "text/plain": [
       "{'configurable': {'thread_id': '1',\n",
       "  'checkpoint_ns': '',\n",
       "  'checkpoint_id': '1f0b0195-ea7e-6f4c-8002-dc2a699aead4'}}"
      ]
     },
     "execution_count": 36,
     "metadata": {},
     "output_type": "execute_result"
    }
   ],
   "source": [
    "graph.update_state(thread,\n",
    "                   {\"human_analyst_feedback\":\"add something from human mind that is affected by planet positions\"},as_node=\"human_feedback\"\n",
    "                   )"
   ]
  },
  {
   "cell_type": "code",
   "execution_count": 37,
   "id": "37678271",
   "metadata": {},
   "outputs": [
    {
     "name": "stdout",
     "output_type": "stream",
     "text": [
      "Name: Dr. Celeste Harmon\n",
      "Affiliation: Institute of Humanistic Studies\n",
      "Role: Astrology and Psychology Researcher\n",
      "Description: Dr. Harmon focuses on the psychological benefits of astrology in the modern world. She is particularly interested in how astrology can provide individuals with a sense of identity and purpose, and how it can be used as a tool for self-reflection and personal growth. Her research explores the therapeutic aspects of astrology, examining how it can help people cope with stress and uncertainty in contemporary society.\n",
      "--------------------------------------------------\n",
      "Name: Professor Leo Zhang\n",
      "Affiliation: Global Society Research Center\n",
      "Role: Cultural Anthropologist\n",
      "Description: Professor Zhang studies the cultural significance of astrology in the modern world. He investigates how astrology is integrated into various cultural practices and its role in shaping social dynamics. His work examines the resurgence of astrology among younger generations and its impact on cultural identity and community building. Professor Zhang is interested in how astrology serves as a bridge between ancient traditions and contemporary digital culture.\n",
      "--------------------------------------------------\n"
     ]
    },
    {
     "name": "stderr",
     "output_type": "stream",
     "text": [
      "HTTP Request: POST https://api.openai.com/v1/chat/completions \"HTTP/1.1 200 OK\"\n"
     ]
    },
    {
     "name": "stdout",
     "output_type": "stream",
     "text": [
      "-*-*-*-*-*-*-*-*-*-*-*-*-*-*-*-*-*-*-*-*-*-*-*-*-*-*-*-*-*-*-*-*-*-*-*-*-*-*-*-*-*-*-*-*-*-*-*-*-*-*\n",
      "analysts=[Analyst(name='Dr. Celeste Harmon', role='Astrological Psychologist', affiliation='Institute of Cosmic Psychology', description='Dr. Celeste Harmon explores the psychological benefits of astrology, focusing on how planetary positions can influence human emotions and behaviors. She is particularly interested in how astrology can provide individuals with a framework for self-reflection and personal growth, helping them to understand their emotional responses and interpersonal dynamics.'), Analyst(name='Professor Leo Vedic', role='Cultural Historian', affiliation='University of New Age Studies', description='Professor Leo Vedic examines the cultural and historical significance of astrology in the modern world. He investigates how astrology has been integrated into contemporary practices and its impact on societal trends. His work highlights the enduring appeal of astrology as a tool for navigating uncertainty and making sense of complex global events.')]\n",
      "-*-*-*-*-*-*-*-*-*-*-*-*-*-*-*-*-*-*-*-*-*-*-*-*-*-*-*-*-*-*-*-*-*-*-*-*-*-*-*-*-*-*-*-*-*-*-*-*-*-*\n",
      "name='Dr. Celeste Harmon' role='Astrological Psychologist' affiliation='Institute of Cosmic Psychology' description='Dr. Celeste Harmon explores the psychological benefits of astrology, focusing on how planetary positions can influence human emotions and behaviors. She is particularly interested in how astrology can provide individuals with a framework for self-reflection and personal growth, helping them to understand their emotional responses and interpersonal dynamics.'\n",
      "Name: Dr. Celeste Harmon\n",
      "Affiliation: Institute of Cosmic Psychology\n",
      "Role: Astrological Psychologist\n",
      "Description: Dr. Celeste Harmon explores the psychological benefits of astrology, focusing on how planetary positions can influence human emotions and behaviors. She is particularly interested in how astrology can provide individuals with a framework for self-reflection and personal growth, helping them to understand their emotional responses and interpersonal dynamics.\n",
      "--------------------------------------------------\n",
      "Name: Professor Leo Vedic\n",
      "Affiliation: University of New Age Studies\n",
      "Role: Cultural Historian\n",
      "Description: Professor Leo Vedic examines the cultural and historical significance of astrology in the modern world. He investigates how astrology has been integrated into contemporary practices and its impact on societal trends. His work highlights the enduring appeal of astrology as a tool for navigating uncertainty and making sense of complex global events.\n",
      "--------------------------------------------------\n"
     ]
    }
   ],
   "source": [
    "for event in graph.stream({\"topic\":topic,\n",
    "              \"max_analysts\":max_analysts},\n",
    "             thread,\n",
    "             stream_mode= \"values\"):\n",
    "    analysts = event.get('analysts', '')\n",
    "    \n",
    "    if analysts:\n",
    "        for analyst in analysts:\n",
    "            print(f\"Name: {analyst.name}\")\n",
    "            print(f\"Affiliation: {analyst.affiliation}\")\n",
    "            print(f\"Role: {analyst.role}\")\n",
    "            print(f\"Description: {analyst.description}\")\n",
    "            print(\"-\" * 50)  "
   ]
  },
  {
   "cell_type": "code",
   "execution_count": 38,
   "id": "15a58134",
   "metadata": {},
   "outputs": [],
   "source": [
    "state = graph.get_state(thread)"
   ]
  },
  {
   "cell_type": "code",
   "execution_count": 39,
   "id": "c70e1055",
   "metadata": {},
   "outputs": [
    {
     "data": {
      "text/plain": [
       "StateSnapshot(values={'topic': 'The benefit of astrology in modern world', 'max_analysts': 2, 'human_analyst_feedback': 'add something from human mind that is affected by planet positions', 'analysts': [Analyst(name='Dr. Celeste Harmon', role='Astrological Psychologist', affiliation='Institute of Cosmic Psychology', description='Dr. Celeste Harmon explores the psychological benefits of astrology, focusing on how planetary positions can influence human emotions and behaviors. She is particularly interested in how astrology can provide individuals with a framework for self-reflection and personal growth, helping them to understand their emotional responses and interpersonal dynamics.'), Analyst(name='Professor Leo Vedic', role='Cultural Historian', affiliation='University of New Age Studies', description='Professor Leo Vedic examines the cultural and historical significance of astrology in the modern world. He investigates how astrology has been integrated into contemporary practices and its impact on societal trends. His work highlights the enduring appeal of astrology as a tool for navigating uncertainty and making sense of complex global events.')]}, next=('human_feedback',), config={'configurable': {'thread_id': '1', 'checkpoint_ns': '', 'checkpoint_id': '1f0b0196-4425-67c8-8005-7c80f43477f5'}}, metadata={'source': 'loop', 'step': 5, 'parents': {}}, created_at='2025-10-23T14:05:55.122580+00:00', parent_config={'configurable': {'thread_id': '1', 'checkpoint_ns': '', 'checkpoint_id': '1f0b0195-ea94-6e5c-8004-629b26820519'}}, tasks=(PregelTask(id='8ea189de-b85e-cbbd-e32d-03d9adda2619', name='human_feedback', path=('__pregel_pull', 'human_feedback'), error=None, interrupts=(), state=None, result=None),), interrupts=())"
      ]
     },
     "execution_count": 39,
     "metadata": {},
     "output_type": "execute_result"
    }
   ],
   "source": [
    "state"
   ]
  },
  {
   "cell_type": "markdown",
   "id": "2779ebf1",
   "metadata": {},
   "source": [
    "StateSnapshot(values={'topic': 'The benefit of astrology in modern world', 'max_analysts': 2, 'human_analyst_feedback': 'add something from human mind that is affected by planet positions', 'analysts': [Analyst(name='Dr. Celeste Harmon', role='Astrological Psychologist', affiliation='Institute of Cosmic Psychology', description='Dr. Celeste Harmon focuses on the psychological benefits of astrology in the modern world. She explores how planetary positions can influence human emotions and behaviors, providing insights into personal development and mental well-being. Her work aims to bridge the gap between traditional astrological beliefs and contemporary psychological practices, emphasizing the therapeutic potential of astrology in understanding oneself and others.'), Analyst(name='Professor Leo Vance', role='Cultural Historian', affiliation='University of New Age Studies', description='Professor Leo Vance examines the cultural and historical significance of astrology in the modern world. He investigates how astrology has evolved and adapted to contemporary society, influencing cultural trends and personal identity. His research highlights the enduring appeal of astrology as a tool for self-reflection and its role in shaping modern cultural narratives, particularly in how individuals relate to the cosmos and their place within it.')]}, next=('human_feedback',), config={'configurable': {'thread_id': '1', 'checkpoint_ns': '', 'checkpoint_id': '1f0b0105-09d8-6d18-8005-e98df0ab1e2f'}}, metadata={'source': 'loop', 'step': 5, 'parents': {}}, created_at='2025-10-23T13:00:56.695324+00:00', parent_config={'configurable': {'thread_id': '1', 'checkpoint_ns': '', 'checkpoint_id': '1f0b0104-c3d9-6490-8004-f5d5e713b52a'}}, tasks=(PregelTask(id='92ed3c77-98d2-315c-f81d-3ac36f449d8e', name='human_feedback', path=('__pregel_pull', 'human_feedback'), error=None, interrupts=(), state=None, result=None),), interrupts=()"
   ]
  },
  {
   "cell_type": "code",
   "execution_count": 40,
   "id": "27fa5c1d",
   "metadata": {},
   "outputs": [
    {
     "data": {
      "text/plain": [
       "('human_feedback',)"
      ]
     },
     "execution_count": 40,
     "metadata": {},
     "output_type": "execute_result"
    }
   ],
   "source": [
    "state.next"
   ]
  },
  {
   "cell_type": "code",
   "execution_count": 41,
   "id": "ca9799bd",
   "metadata": {},
   "outputs": [
    {
     "data": {
      "text/plain": [
       "{'topic': 'The benefit of astrology in modern world',\n",
       " 'max_analysts': 2,\n",
       " 'human_analyst_feedback': 'add something from human mind that is affected by planet positions',\n",
       " 'analysts': [Analyst(name='Dr. Celeste Harmon', role='Astrological Psychologist', affiliation='Institute of Cosmic Psychology', description='Dr. Celeste Harmon explores the psychological benefits of astrology, focusing on how planetary positions can influence human emotions and behaviors. She is particularly interested in how astrology can provide individuals with a framework for self-reflection and personal growth, helping them to understand their emotional responses and interpersonal dynamics.'),\n",
       "  Analyst(name='Professor Leo Vedic', role='Cultural Historian', affiliation='University of New Age Studies', description='Professor Leo Vedic examines the cultural and historical significance of astrology in the modern world. He investigates how astrology has been integrated into contemporary practices and its impact on societal trends. His work highlights the enduring appeal of astrology as a tool for navigating uncertainty and making sense of complex global events.')]}"
      ]
     },
     "execution_count": 41,
     "metadata": {},
     "output_type": "execute_result"
    }
   ],
   "source": [
    "state.values"
   ]
  },
  {
   "cell_type": "code",
   "execution_count": 42,
   "id": "e6f9058d",
   "metadata": {},
   "outputs": [],
   "source": [
    "# If we are satisfied, then we simply supply no feedback\n",
    "further_feedack = \"\""
   ]
  },
  {
   "cell_type": "code",
   "execution_count": 43,
   "id": "227b3132",
   "metadata": {},
   "outputs": [],
   "source": [
    "# 1) Get the latest state (you're paused at 'human_feedback')\n",
    "state = graph.get_state(thread)\n",
    "\n",
    "# 2) Use the exact config from that state (it already has thread_id, checkpoint_ns, checkpoint_id)\n",
    "cfg = state.config"
   ]
  },
  {
   "cell_type": "code",
   "execution_count": 44,
   "id": "213fde45",
   "metadata": {},
   "outputs": [
    {
     "data": {
      "text/plain": [
       "{'configurable': {'thread_id': '1',\n",
       "  'checkpoint_ns': '',\n",
       "  'checkpoint_id': '1f0b0196-4425-67c8-8005-7c80f43477f5'}}"
      ]
     },
     "execution_count": 44,
     "metadata": {},
     "output_type": "execute_result"
    }
   ],
   "source": [
    "cfg"
   ]
  },
  {
   "cell_type": "code",
   "execution_count": 45,
   "id": "dcb1a5cf",
   "metadata": {},
   "outputs": [
    {
     "data": {
      "text/plain": [
       "{'configurable': {'thread_id': '1',\n",
       "  'checkpoint_ns': '',\n",
       "  'checkpoint_id': '1f0b0196-44e5-6084-8006-580965f7aa8f'}}"
      ]
     },
     "execution_count": 45,
     "metadata": {},
     "output_type": "execute_result"
    }
   ],
   "source": [
    "# 3) Update feedback at the 'human_feedback' node\n",
    "#    Tip: if your TypedDict says `human_analyst_feedback: str`, prefer \"\" (empty string) over None\n",
    "graph.update_state(cfg, {\"human_analyst_feedback\": \"\"}, as_node=\"human_feedback\")"
   ]
  },
  {
   "cell_type": "code",
   "execution_count": 46,
   "id": "37362e45",
   "metadata": {},
   "outputs": [
    {
     "name": "stdout",
     "output_type": "stream",
     "text": [
      "()\n"
     ]
    }
   ],
   "source": [
    "# 4) Verify it moved to END\n",
    "final_state = graph.get_state(thread)\n",
    "print(final_state.next)  # should be (END,)"
   ]
  },
  {
   "cell_type": "code",
   "execution_count": 47,
   "id": "dd08dc75",
   "metadata": {},
   "outputs": [],
   "source": [
    "analysts = final_state.values.get('analysts')"
   ]
  },
  {
   "cell_type": "code",
   "execution_count": 48,
   "id": "4e610be4",
   "metadata": {},
   "outputs": [
    {
     "data": {
      "text/plain": [
       "[Analyst(name='Dr. Celeste Harmon', role='Astrological Psychologist', affiliation='Institute of Cosmic Psychology', description='Dr. Celeste Harmon explores the psychological benefits of astrology, focusing on how planetary positions can influence human emotions and behaviors. She is particularly interested in how astrology can provide individuals with a framework for self-reflection and personal growth, helping them to understand their emotional responses and interpersonal dynamics.'),\n",
       " Analyst(name='Professor Leo Vedic', role='Cultural Historian', affiliation='University of New Age Studies', description='Professor Leo Vedic examines the cultural and historical significance of astrology in the modern world. He investigates how astrology has been integrated into contemporary practices and its impact on societal trends. His work highlights the enduring appeal of astrology as a tool for navigating uncertainty and making sense of complex global events.')]"
      ]
     },
     "execution_count": 48,
     "metadata": {},
     "output_type": "execute_result"
    }
   ],
   "source": [
    "analysts"
   ]
  },
  {
   "cell_type": "code",
   "execution_count": 49,
   "id": "8a343954",
   "metadata": {},
   "outputs": [
    {
     "name": "stdout",
     "output_type": "stream",
     "text": [
      "Name: Dr. Celeste Harmon\n",
      "Affiliation: Institute of Cosmic Psychology\n",
      "Role: Astrological Psychologist\n",
      "Description: Dr. Celeste Harmon explores the psychological benefits of astrology, focusing on how planetary positions can influence human emotions and behaviors. She is particularly interested in how astrology can provide individuals with a framework for self-reflection and personal growth, helping them to understand their emotional responses and interpersonal dynamics.\n",
      "--------------------------------------------------\n",
      "Name: Professor Leo Vedic\n",
      "Affiliation: University of New Age Studies\n",
      "Role: Cultural Historian\n",
      "Description: Professor Leo Vedic examines the cultural and historical significance of astrology in the modern world. He investigates how astrology has been integrated into contemporary practices and its impact on societal trends. His work highlights the enduring appeal of astrology as a tool for navigating uncertainty and making sense of complex global events.\n",
      "--------------------------------------------------\n"
     ]
    }
   ],
   "source": [
    "for analyst in analysts:\n",
    "    print(f\"Name: {analyst.name}\")\n",
    "    print(f\"Affiliation: {analyst.affiliation}\")\n",
    "    print(f\"Role: {analyst.role}\")\n",
    "    print(f\"Description: {analyst.description}\")\n",
    "    print(\"-\" * 50) "
   ]
  },
  {
   "cell_type": "markdown",
   "id": "bd4272d2",
   "metadata": {},
   "source": [
    "# Second Workflow"
   ]
  },
  {
   "cell_type": "code",
   "execution_count": 50,
   "id": "a1707b10",
   "metadata": {},
   "outputs": [
    {
     "name": "stdout",
     "output_type": "stream",
     "text": [
      "LangChain is a software framework that helps facilitate the integration of large language models (LLMs) into applications. As a language model integration framework, LangChain's use-cases largely overlap with those of language models in general, including document analysis and summarization, chatbots, and code analysis.\n",
      "\n",
      "\n",
      "== History ==\n",
      "LangChain was launched in October 2022 as an open source project by Harrison Chase, while working at machine learning startup Robust Intelligence. In April 2023, \n"
     ]
    }
   ],
   "source": [
    "from langchain_community.document_loaders import WikipediaLoader\n",
    "\n",
    "docs = WikipediaLoader(query=\"langgraph\").load()\n",
    "print(docs[0].page_content[:500])"
   ]
  },
  {
   "cell_type": "code",
   "execution_count": 51,
   "id": "a924ca50",
   "metadata": {},
   "outputs": [],
   "source": [
    "from dotenv import load_dotenv\n",
    "load_dotenv()\n",
    "import os\n",
    "os.environ[\"SERPER_API_KEY\"] = os.getenv(\"SERPER_API_KEY\")"
   ]
  },
  {
   "cell_type": "code",
   "execution_count": 52,
   "id": "0fd73262",
   "metadata": {},
   "outputs": [
    {
     "data": {
      "text/plain": [
       "\"Astrology is complete nonsense that relies on taking advantage of human cognitive biases (confirmation bias, Barnum effect, among others). 11. Astrologists can't point out any new research in the past 3,000 years. A science with the scientific research is a misnamed endeavor. Astrology is about empowerment and awareness, not fate or fortune-telling. It's a tool that can offer profound insights into who you are and how you can grow. Astrology is not a science. It pretends to be, claiming to be valid and scientific, but it is based on myth and superstition, not on logic, ... Astrology largely exploits people's tendencies to buy into generic descriptions of themselves. Modern astrophycists have pointed out that, ... “Astrology is rubbish”, this is because there is no evidence that celestial objects can affect our lives, events and emotions in the way that is claimed. Astrology is scientifically misleading, as it uses astronomy as its root. However, the conclusions made are not scientific, rather mere ... Here are some of the most common misunderstandings many folks have about astrology. Myth #1: You have a singular zodiac sign, and that alone defines your chart. Myth #3: Astrology can predict or change the future. This is, perhaps, the most dangerous assumption people make about astrology. Contrary to ... Astrological charts have fated events but the way or time in which we reach these events does come down to the individual's healing journey up ...\""
      ]
     },
     "execution_count": 52,
     "metadata": {},
     "output_type": "execute_result"
    }
   ],
   "source": [
    "from langchain_community.utilities import GoogleSerperAPIWrapper\n",
    "serper = GoogleSerperAPIWrapper()\n",
    "serper.run(\"Why astrology is misunderstood?\")"
   ]
  },
  {
   "cell_type": "markdown",
   "id": "5df8d1b8",
   "metadata": {},
   "source": [
    "\"The idea that the stars or planets are physically influencing people, their behaviors, and events is in my opinion a corrupted form of Astrology ... 11. Astrologists can't point out any new research in the past 3,000 years. A science with the scientific research is a misnamed endeavor. Astrology is about empowerment and awareness, not fate or fortune-telling. It's a tool that can offer profound insights into who you are and how you can grow. Astrology is not a science. It pretends to be, claiming to be valid and scientific, but it is based on myth and superstition, not on logic, ... The main reason astrological signs fail to line up with the zodiac, though, is a wobble in the Earth's rotational axis called precession. Astrology is scientifically misleading, as it uses astronomy as its root. However, the conclusions made are not scientific, rather mere ... Here are some of the most common misunderstandings many folks have about astrology. Myth #1: You have a singular zodiac sign, and that alone defines your chart. “Astrology is rubbish”, this is because there is no evidence that celestial objects can affect our lives, events and emotions in the way that is claimed. Astrological charts have fated events but the way or time in which we reach these events does come down to the individual's healing journey up ... Myth #3: Astrology can predict or change the future. This is, perhaps, the most dangerous assumption people make about astrology. Contrary to ...\""
   ]
  },
  {
   "cell_type": "code",
   "execution_count": 53,
   "id": "0241bdb7",
   "metadata": {},
   "outputs": [],
   "source": [
    "from langchain_community.tools.tavily_search import TavilySearchResults"
   ]
  },
  {
   "cell_type": "code",
   "execution_count": 54,
   "id": "70252ecd",
   "metadata": {},
   "outputs": [],
   "source": [
    "from dotenv import load_dotenv\n",
    "import os\n",
    "load_dotenv()\n",
    "os.environ[\"TAVILY_API_KEY\"] = os.getenv(\"TAVILY_API_KEY\")"
   ]
  },
  {
   "cell_type": "code",
   "execution_count": 55,
   "id": "543bd71d",
   "metadata": {},
   "outputs": [
    {
     "name": "stderr",
     "output_type": "stream",
     "text": [
      "C:\\Users\\shank\\AppData\\Local\\Temp\\ipykernel_18324\\13742946.py:1: LangChainDeprecationWarning: The class `TavilySearchResults` was deprecated in LangChain 0.3.25 and will be removed in 1.0. An updated version of the class exists in the :class:`~langchain-tavily package and should be used instead. To use it run `pip install -U :class:`~langchain-tavily` and import as `from :class:`~langchain_tavily import TavilySearch``.\n",
      "  tavily_search = TavilySearchResults()\n"
     ]
    }
   ],
   "source": [
    "tavily_search = TavilySearchResults()"
   ]
  },
  {
   "cell_type": "code",
   "execution_count": 56,
   "id": "f1125f99",
   "metadata": {},
   "outputs": [
    {
     "data": {
      "text/plain": [
       "[{'title': 'Astrology | Chart, Zodiac Signs, Meaning, Definition, History, India ...',\n",
       "  'url': 'https://www.britannica.com/topic/astrology',\n",
       "  'content': 'Astrology is a method of predicting mundane events based upon the assumption that the celestial bodies—particularly the planets and the stars considered in their arbitrary combinations or configurations (called constellations)—in some way either determine or indicate changes ion Earth. The theoretical basis for this assumption lies historically in Hellenistic philosophy and radically distinguishes astrology from the celestial omina (“omens”) that were first categorized and cataloged in ancient [...] Astrology is a type of divination that involves forecasting earthly and human events through the observation and interpretation of the location and movement of the celestial bodies like stars, the Sun, the Moon, and planets. The positions of these celestial bodies at certain times are read as signs according to the interpretive models of different cultures. In many cultures the positions of the stars and planets at the time of one’s birth are used to generate a horoscope or birth chart that is [...] astrology, type of divination that involves the forecasting of earthly and human events through the observation and interpretation of the fixed stars, the Sun, the Moon, and the planets. Adherents believe that an understanding of the influence of the planets and stars on earthly affairs allows them to predict, explain, and affect the fates of individuals, groups, and nations. Often regarded as a science throughout its history, astrology is widely considered today to be a pseudoscience that is',\n",
       "  'score': 0.903098},\n",
       " {'title': 'History - American Federation of Astrologers',\n",
       "  'url': 'https://www.astrologers.com/about/history',\n",
       "  'content': 'Astrology is an all-encompassing art/science which has far-reaching consequences in the lives of countless numbers of people worldwide. For centuries it has been respected, yet ridiculed in almost the same breath. We have only to turn to the authority of the Encyclopedia Brittanica, which defines astrology as a science: \"The ancient art or science of divining the fate and future of human beings from indications given by the position of stars and other heavenly bodies.\" [...] An ancient art/science, astrology antedates all of recorded history. Its influence reaches back to the time when gods are said to have walked and talked with men. It was studied and practiced by all the great nations of antiquity and predates the sacred writings of nearly all religions and philosophies.',\n",
       "  'score': 0.8286204},\n",
       " {'title': 'Astrology | Overview, History & Study - Lesson',\n",
       "  'url': 'https://study.com/learn/lesson/astrology-overview-history.html',\n",
       "  'content': \"The definition of astrology is a pseudoscience, or false science, based on the superstitious belief that the movement of the planets, sun, moon and constellations determines a person's fate. Astrology is not, however, a form of science. Key concepts in astrology maintain that each person is born under a particular sign of the zodiac, which divides the heavens into 12 parts, each part represented by a symbol. The zodiac is said to influence a person's luck, life, and fate. A zodiac sign is based [...] believed to be fun-loving. Overall, astrology is often vague in its statements and predictions, and uses broad statements and ambiguous language that have many potential interpretations by the astrologer or the person reading their horoscope. [...] on the constellation that is most prominent in the night sky in any given month. An astrologer, someone who practices astrology, uses other elements like mathematics and other tools to calculate the course of various astronomical bodies and determine how these movements will affect a person's daily life and future.\",\n",
       "  'score': 0.8184036},\n",
       " {'title': 'History of astrology - Wikipedia',\n",
       "  'url': 'https://en.wikipedia.org/wiki/History_of_astrology',\n",
       "  'content': 'Astrology was a subject of significant interest among medieval Jews, and astrological ideas appear across various areas of Jewish thought. Although often treated alongside astronomy, astrology was typically viewed as a separate field, less certain in its conclusions but grounded in long-standing empirical observations. It was widely accepted that celestial bodies could influence the sublunar world, though disagreements persisted over how reliably astrologers could interpret these effects. [...] The earliest recorded use of astrology in India is recorded during the Vedic period. Astrology, or jyotiṣa is listed as a Vedanga, or branch of the Vedas of the Vedic religion. The only work of this class to have survived is the Vedanga Jyotisha, which contains rules for tracking the motions of the sun and the moon in the context of a five-year intercalation cycle. The date of this work is uncertain, as its late style of language and composition, consistent with the last centuries BC, albeit [...] to be one of the oldest branches of astrology. It was only with the gradual emergence of horoscopic astrology, from the 6th century BC, that astrology developed the techniques and practice of natal astrology.',\n",
       "  'score': 0.80625874},\n",
       " {'title': \"What Is Astrology? A Beginner's Guide - InStyle\",\n",
       "  'url': 'https://www.instyle.com/lifestyle/astrology/what-is-astrology',\n",
       "  'content': '\"Astrology is the study of the connection between celestial activity... and earthly events,\" says April Elliott Kent, my mentor and author of The Essential Guide to Practical Astrology: Everything from Zodiac Signs to Prediction, Made Easy and Entertaining. \"Those who practice astrology are called astrologers.\" [...] If you still feel out of the loop when you hear terms like Mercury retrograde or natal chart, then you\\'ve come to the right place. Hey, don\\'t feel bad—it\\'s perfectly normal to ask yourself, \"What is astrology?\" Astrology is a complex system with many different moving parts. So much so that even professional astrologers continue to learn and practice the art throughout their lives.',\n",
       "  'score': 0.80405265}]"
      ]
     },
     "execution_count": 56,
     "metadata": {},
     "output_type": "execute_result"
    }
   ],
   "source": [
    "tavily_search.invoke(\"Astrology\")"
   ]
  },
  {
   "cell_type": "code",
   "execution_count": 57,
   "id": "5a67cdad",
   "metadata": {},
   "outputs": [],
   "source": [
    "import operator\n",
    "from typing import Annotated\n",
    "from langgraph.graph import MessagesState\n",
    "\n",
    "class InterviewState(MessagesState):\n",
    "    max_num_turns: int # Number turns of conversation\n",
    "    context: Annotated[list, operator.add] # Source docs\n",
    "    analyst: Analyst # Analyst asking questions\n",
    "    interview: str # Interview transcript\n",
    "    sections: list # Final key we duplicate in outer state for send() API\n",
    "\n",
    "\n",
    "class SearchQuery(BaseModel):\n",
    "    search_query: str = Field(None, description=\"Search query for retrieval\")"
   ]
  },
  {
   "cell_type": "code",
   "execution_count": 58,
   "id": "91162551",
   "metadata": {},
   "outputs": [],
   "source": [
    "question_instructions = \"\"\"You are an analyst tasked with interviewing an expert to learn about a specific topic. \n",
    "\n",
    "Your goal is boil down to interesting and specific insights related to your topic.\n",
    "\n",
    "1. Interesting: Insights that people will find surprising or non-obvious.\n",
    "        \n",
    "2. Specific: Insights that avoid generalities and include specific examples from the expert.\n",
    "\n",
    "Here is your topic of focus and set of goals: {goals}\n",
    "        \n",
    "Begin by introducing yourself using a name that fits your persona, and then ask your question.\n",
    "\n",
    "Continue to ask questions to drill down and refine your understanding of the topic.\n",
    "        \n",
    "When you are satisfied with your understanding, complete the interview with: \"Thank you so much for your help!\"\n",
    "\n",
    "Remember to stay in character throughout your response, reflecting the persona and goals provided to you.\"\"\""
   ]
  },
  {
   "cell_type": "code",
   "execution_count": 59,
   "id": "94b60985",
   "metadata": {},
   "outputs": [
    {
     "name": "stdout",
     "output_type": "stream",
     "text": [
      "Name: Professor Leo Vedic\n",
      "Role: Cultural Historian\n",
      "Affiliation: University of New Age Studies\n",
      "Description: Professor Leo Vedic examines the cultural and historical significance of astrology in the modern world. He investigates how astrology has been integrated into contemporary practices and its impact on societal trends. His work highlights the enduring appeal of astrology as a tool for navigating uncertainty and making sense of complex global events.\n",
      "\n"
     ]
    }
   ],
   "source": [
    "print(analyst.persona)"
   ]
  },
  {
   "cell_type": "code",
   "execution_count": 60,
   "id": "b7c0f5d8",
   "metadata": {},
   "outputs": [
    {
     "name": "stdout",
     "output_type": "stream",
     "text": [
      "You are an analyst tasked with interviewing an expert to learn about a specific topic. \n",
      "\n",
      "Your goal is boil down to interesting and specific insights related to your topic.\n",
      "\n",
      "1. Interesting: Insights that people will find surprising or non-obvious.\n",
      "\n",
      "2. Specific: Insights that avoid generalities and include specific examples from the expert.\n",
      "\n",
      "Here is your topic of focus and set of goals: Name: Professor Leo Vedic\n",
      "Role: Cultural Historian\n",
      "Affiliation: University of New Age Studies\n",
      "Description: Professor Leo Vedic examines the cultural and historical significance of astrology in the modern world. He investigates how astrology has been integrated into contemporary practices and its impact on societal trends. His work highlights the enduring appeal of astrology as a tool for navigating uncertainty and making sense of complex global events.\n",
      "\n",
      "\n",
      "Begin by introducing yourself using a name that fits your persona, and then ask your question.\n",
      "\n",
      "Continue to ask questions to drill down and refine your understanding of the topic.\n",
      "\n",
      "When you are satisfied with your understanding, complete the interview with: \"Thank you so much for your help!\"\n",
      "\n",
      "Remember to stay in character throughout your response, reflecting the persona and goals provided to you.\n"
     ]
    }
   ],
   "source": [
    "print(question_instructions.format(goals = analyst.persona))"
   ]
  },
  {
   "cell_type": "code",
   "execution_count": 61,
   "id": "f79bdece",
   "metadata": {},
   "outputs": [],
   "source": [
    "def generation_question(state: InterviewState):\n",
    "    \"\"\" Node to generate the questions\"\"\"\n",
    "\n",
    "    # Get State\n",
    "    analyst = state[\"analyst\"]\n",
    "    messages = state[\"messages\"]\n",
    "\n",
    "    #generate the question\n",
    "    system_message = question_instructions.format( goals = analyst.persona)\n",
    "    question = llm.invoke([SystemMessage(content=system_message)] + messages)\n",
    "\n",
    "    # return the question through state\n",
    "    return {\"messages\": [question]}"
   ]
  },
  {
   "cell_type": "code",
   "execution_count": 62,
   "id": "5ee5eabb",
   "metadata": {},
   "outputs": [
    {
     "name": "stdout",
     "output_type": "stream",
     "text": [
      "name='Professor Leo Vedic' role='Cultural Historian' affiliation='University of New Age Studies' description='Professor Leo Vedic examines the cultural and historical significance of astrology in the modern world. He investigates how astrology has been integrated into contemporary practices and its impact on societal trends. His work highlights the enduring appeal of astrology as a tool for navigating uncertainty and making sense of complex global events.'\n"
     ]
    }
   ],
   "source": [
    "print(analyst)"
   ]
  },
  {
   "cell_type": "markdown",
   "id": "77be06ba",
   "metadata": {},
   "source": [
    "name='Professor Leo Vance' role='Cultural Historian' affiliation='University of New Age Studies' description='Professor Leo Vance examines the cultural and historical significance of astrology in the modern world. He investigates how astrology has evolved and adapted to contemporary society, influencing cultural trends and personal identity. His research highlights the enduring appeal of astrology as a tool for self-reflection and its role in shaping modern cultural narratives, particularly in how individuals relate to the cosmos and their place within it.'"
   ]
  },
  {
   "cell_type": "markdown",
   "id": "c107a6b7",
   "metadata": {},
   "source": [
    "# class InterviewState(MessagesState):\n",
    "   - max_num_turns: int # Number turns of conversation\n",
    "   - context: Annotated[list, operator.add] # source docs\n",
    "   - analyst: Analyst # Analyst asking questions\n",
    "   - interview: str # Interview transcript\n",
    "   - sections: list # Final key we duplicate in outer state for send() API"
   ]
  },
  {
   "cell_type": "code",
   "execution_count": 63,
   "id": "d38bdf69",
   "metadata": {},
   "outputs": [],
   "source": [
    "state = {\"max_num_turns\":2,\"context\":[], \"analyst\": analyst, \"interview\":\"\", \"sections\":[], \"messages\": [HumanMessage(content=\"Do the proper search according to the expertise\")]}"
   ]
  },
  {
   "cell_type": "code",
   "execution_count": 64,
   "id": "7c0e0ed3",
   "metadata": {},
   "outputs": [
    {
     "data": {
      "text/plain": [
       "{'max_num_turns': 2,\n",
       " 'context': [],\n",
       " 'analyst': Analyst(name='Professor Leo Vedic', role='Cultural Historian', affiliation='University of New Age Studies', description='Professor Leo Vedic examines the cultural and historical significance of astrology in the modern world. He investigates how astrology has been integrated into contemporary practices and its impact on societal trends. His work highlights the enduring appeal of astrology as a tool for navigating uncertainty and making sense of complex global events.'),\n",
       " 'interview': '',\n",
       " 'sections': [],\n",
       " 'messages': [HumanMessage(content='Do the proper search according to the expertise', additional_kwargs={}, response_metadata={})]}"
      ]
     },
     "execution_count": 64,
     "metadata": {},
     "output_type": "execute_result"
    }
   ],
   "source": [
    "state"
   ]
  },
  {
   "cell_type": "code",
   "execution_count": 65,
   "id": "561476ae",
   "metadata": {},
   "outputs": [
    {
     "name": "stderr",
     "output_type": "stream",
     "text": [
      "HTTP Request: POST https://api.openai.com/v1/chat/completions \"HTTP/1.1 200 OK\"\n"
     ]
    }
   ],
   "source": [
    "result = generation_question(state)"
   ]
  },
  {
   "cell_type": "code",
   "execution_count": 66,
   "id": "27da9d24",
   "metadata": {},
   "outputs": [
    {
     "data": {
      "text/plain": [
       "{'messages': [AIMessage(content=\"Hello, Professor Vedic. My name is Alex Thompson, and I'm an analyst with a keen interest in cultural history. I'm fascinated by your work on the cultural and historical significance of astrology in the modern world. To start, could you share some specific examples of how astrology has been integrated into contemporary practices?\", additional_kwargs={'refusal': None}, response_metadata={'token_usage': {'completion_tokens': 61, 'prompt_tokens': 247, 'total_tokens': 308, 'completion_tokens_details': {'accepted_prediction_tokens': 0, 'audio_tokens': 0, 'reasoning_tokens': 0, 'rejected_prediction_tokens': 0}, 'prompt_tokens_details': {'audio_tokens': 0, 'cached_tokens': 0}}, 'model_name': 'gpt-4o-2024-08-06', 'system_fingerprint': 'fp_65564d8ba5', 'id': 'chatcmpl-CTqEz8hY4OroRdGoDU9sDMI8I5Cfv', 'service_tier': 'default', 'finish_reason': 'stop', 'logprobs': None}, id='run--fbcf47bb-8446-41c3-b30a-c13ae04f475f-0', usage_metadata={'input_tokens': 247, 'output_tokens': 61, 'total_tokens': 308, 'input_token_details': {'audio': 0, 'cache_read': 0}, 'output_token_details': {'audio': 0, 'reasoning': 0}})]}"
      ]
     },
     "execution_count": 66,
     "metadata": {},
     "output_type": "execute_result"
    }
   ],
   "source": [
    "result"
   ]
  },
  {
   "cell_type": "markdown",
   "id": "e4238a69",
   "metadata": {},
   "source": [
    "{'messages': [AIMessage(content=\"Hello, Professor Vance. My name is Alex Carter, and I'm an analyst with a keen interest in cultural history and its modern implications. I'm fascinated by your work on the cultural and historical significance of astrology in today's world. Could you share some insights into how astrology has evolved to fit into contemporary society? Specifically, are there any surprising ways it has influenced cultural trends or personal identities that might not be immediately obvious?\", additional_kwargs={'refusal': None}, response_metadata={'token_usage': {'completion_tokens': 83, 'prompt_tokens': 265, 'total_tokens': 348, 'completion_tokens_details': {'accepted_prediction_tokens': 0, 'audio_tokens': 0, 'reasoning_tokens': 0, 'rejected_prediction_tokens': 0}, 'prompt_tokens_details': {'audio_tokens': 0, 'cached_tokens': 0}}, 'model_name': 'gpt-4o-2024-08-06', 'system_fingerprint': 'fp_cbf1785567', 'id': 'chatcmpl-CTpSmRYX2h9pKe9CH1wzBhnJ1e7Xm', 'service_tier': 'default', 'finish_reason': 'stop', 'logprobs': None}, id='run--1db149e1-5d79-4e6a-8557-a0fa2171a50f-0', usage_metadata={'input_tokens': 265, 'output_tokens': 83, 'total_tokens': 348, 'input_token_details': {'audio': 0, 'cache_read': 0}, 'output_token_details': {'audio': 0, 'reasoning': 0}})]}"
   ]
  },
  {
   "cell_type": "code",
   "execution_count": 67,
   "id": "8cc031fa",
   "metadata": {},
   "outputs": [
    {
     "name": "stdout",
     "output_type": "stream",
     "text": [
      "Hello, Professor Vedic. My name is Alex Thompson, and I'm an analyst with a keen interest in cultural history. I'm fascinated by your work on the cultural and historical significance of astrology in the modern world. To start, could you share some specific examples of how astrology has been integrated into contemporary practices?\n"
     ]
    }
   ],
   "source": [
    "print(result[\"messages\"][0].content)"
   ]
  },
  {
   "cell_type": "code",
   "execution_count": 68,
   "id": "649f648b",
   "metadata": {},
   "outputs": [],
   "source": [
    "from langchain_core.messages import get_buffer_string"
   ]
  },
  {
   "cell_type": "code",
   "execution_count": 69,
   "id": "985d602d",
   "metadata": {},
   "outputs": [],
   "source": [
    "search_instructions = SystemMessage(content=f\"\"\"You will be given a conversation between an analyst and an expert.\n",
    "                                    Your goal is to generate a  well-structured query for use in retrieval and / or web search related to the conversation.\n",
    "                                    First,, analyze the full conversation.\n",
    "                                    Pay particular attention to the final question posed by the analyst.\n",
    "                                    Convert this final question into a well-structured we search query \n",
    "                                    \"\"\" )"
   ]
  },
  {
   "cell_type": "code",
   "execution_count": 70,
   "id": "37045b2f",
   "metadata": {},
   "outputs": [],
   "source": [
    "def search_web(state: InterviewState):\n",
    "    \"\"\"\n",
    "    Retrieve data from the web\n",
    "    \"\"\"\n",
    "    structure_llm = llm.with_structured_output(SearchQuery)\n",
    "    search_query = structure_llm.invoke([search_instructions] + state[\"messages\"])\n",
    "\n",
    "    # Search\n",
    "    search_docs = tavily_search.invoke(search_query.search_query)\n",
    "\n",
    "    formatted_search_docs = \"\\n\\n---\\n\\n\".join(\n",
    "        [\n",
    "            f'<Document href=\"{doc[\"url\"]}\"/>\\n{doc[\"content\"]}\\n</Document>'\n",
    "            for doc in search_docs\n",
    "        ]\n",
    "    )\n",
    "    print(\"-tavily*\" *50)\n",
    "    return {\"context\": [formatted_search_docs]}"
   ]
  },
  {
   "cell_type": "code",
   "execution_count": 71,
   "id": "72a535df",
   "metadata": {},
   "outputs": [],
   "source": [
    "state = {\"max_num_turns\":2, \"context\":[], \"analyst\":analyst, \"interview\":\"\",\"messages\":[AIMessage(content=\"Hello, Professor Vance. My name is Alex Carter, and I'm an analyst with a keen interest in cultural history and its modern implications. I'm fascinated by your work on the cultural and historical significance of astrology in today's world. Could you share some insights into how astrology has evolved to fit into contemporary society? Specifically, are there any surprising ways it has influenced cultural trends or personal identities that might not be immediately obvious?\", additional_kwargs={'refusal': None}, response_metadata={'token_usage': {'completion_tokens': 83, 'prompt_tokens': 265, 'total_tokens': 348, 'completion_tokens_details': {'accepted_prediction_tokens': 0, 'audio_tokens': 0, 'reasoning_tokens': 0, 'rejected_prediction_tokens': 0}, 'prompt_tokens_details': {'audio_tokens': 0, 'cached_tokens': 0}}, 'model_name': 'gpt-4o-2024-08-06', 'system_fingerprint': 'fp_cbf1785567', 'id': 'chatcmpl-CTpSmRYX2h9pKe9CH1wzBhnJ1e7Xm', 'service_tier': 'default', 'finish_reason': 'stop', 'logprobs': None}, id='run--1db149e1-5d79-4e6a-8557-a0fa2171a50f-0', usage_metadata={'input_tokens': 265, 'output_tokens': 83, 'total_tokens': 348, 'input_token_details': {'audio': 0, 'cache_read': 0}, 'output_token_details': {'audio': 0, 'reasoning': 0}})]}"
   ]
  },
  {
   "cell_type": "code",
   "execution_count": 72,
   "id": "143fcf4c",
   "metadata": {},
   "outputs": [
    {
     "name": "stderr",
     "output_type": "stream",
     "text": [
      "HTTP Request: POST https://api.openai.com/v1/chat/completions \"HTTP/1.1 200 OK\"\n"
     ]
    },
    {
     "name": "stdout",
     "output_type": "stream",
     "text": [
      "-tavily*-tavily*-tavily*-tavily*-tavily*-tavily*-tavily*-tavily*-tavily*-tavily*-tavily*-tavily*-tavily*-tavily*-tavily*-tavily*-tavily*-tavily*-tavily*-tavily*-tavily*-tavily*-tavily*-tavily*-tavily*-tavily*-tavily*-tavily*-tavily*-tavily*-tavily*-tavily*-tavily*-tavily*-tavily*-tavily*-tavily*-tavily*-tavily*-tavily*-tavily*-tavily*-tavily*-tavily*-tavily*-tavily*-tavily*-tavily*-tavily*-tavily*\n"
     ]
    }
   ],
   "source": [
    "result = search_web(state)"
   ]
  },
  {
   "cell_type": "code",
   "execution_count": 73,
   "id": "8abce516",
   "metadata": {},
   "outputs": [
    {
     "name": "stdout",
     "output_type": "stream",
     "text": [
      "<Document href=\"https://www.matchastro.com/blog/astrology/the-history-of-astrology-from-ancient-civilizations-to-modern-interpretations\"/>\n",
      "Astrology's journey from ancient civilizations to modern interpretations is a testament to its enduring appeal and adaptability. While its role has evolved over millennia, its influence on culture, religion, and personal identity remains significant. As we continue to explore the cosmos, astrology reminds us of our timeless fascination with the stars.\n",
      "\n",
      "Consult our experts\n",
      "\n",
      ">\n",
      "\n",
      "Recent blogs\n",
      "\n",
      "Panchanga\n",
      "\n",
      "Why Is Thai Poosam Celebrated? The Story of Lord Murugan and ...\n",
      "\n",
      "Panchanga [...] In medieval Europe, astrology enjoyed significant status, influencing medicine, agriculture, and personal decision-making. Universities taught astrology as part of the quadrivium, and prominent scholars like Albertus Magnus and Roger Bacon advocated its use. Astrological charts were even used to diagnose illnesses and determine treatments.\n",
      "\n",
      "### Modern Astrology\n",
      "\n",
      "20th Century Resurgence [...] Astrology experienced a resurgence in the 20th century, thanks in part to its portrayal in popular media. Newspapers and magazines began publishing daily horoscopes, bringing astrology into the mainstream. The formation of astrological organizations, like the Astrological Association in Britain, helped standardize practices and promote education.\n",
      "\n",
      "Contemporary Interpretations\n",
      "</Document>\n",
      "\n",
      "---\n",
      "\n",
      "<Document href=\"https://journals.sagepub.com/doi/10.1177/14614448251344588?int.sj-abstract.similar-articles.4\"/>\n",
      "Fu H, Li Y, Lee FL (2023) Techno-cultural domestication of online tarot reading in contemporary china. Media Culture & Society 45(1): 74–91.\n",
      "\n",
      "Crossref\n",
      "\n",
      "Web of Science\n",
      "\n",
      "Google Scholar\n",
      "\n",
      "Hong Z, Henrich J (2021) The cultural evolution of epistemic practices. Human Nature 32(3): 622–651.\n",
      "\n",
      "Crossref\n",
      "\n",
      "PubMed\n",
      "\n",
      "Web of Science\n",
      "\n",
      "Google Scholar\n",
      "\n",
      "Jamison TB, Sanner CM (2021) Relationship form and function: exploring meaning-making in young adults’ romantic histories. Personal Relationships 28(4): 840–859. [...] Ciweigongshe (2021) The rise to fame of astrology influencers. The Paper News, 30 August. Available at: \n",
      "\n",
      "Google Scholar\n",
      "\n",
      "Cristofaro M (2022) Organizational sensemaking: a systematic review and a co-evolutionary model. European Management Journal 40(3): 393–405.\n",
      "\n",
      "Crossref\n",
      "\n",
      "Web of Science\n",
      "\n",
      "Google Scholar\n",
      "\n",
      "Crockford S (2018) A mercury retrograde kind of day: exploring astrology in contemporary new age spirituality and American social life. Correspondences 6(1): 1. Available at: \n",
      "\n",
      "Google Scholar\n",
      "</Document>\n",
      "\n",
      "---\n",
      "\n",
      "<Document href=\"https://journals.sagepub.com/doi/10.1177/23294965251360016\"/>\n",
      "Campion Nicholas, Greenbaum Dorian Gieseler. 2016. _Astrology in Time and Place: Cross-Cultural Questions in the History of Astrology_. Cambridge, UK: Cambridge Scholars Publishing.\n",
      "\n",
      "Google Scholar\n",
      "\n",
      "Clements Paul. 2020. “Astrology, Modernity and the Project of Self-Identity.” _Culture and Religion_ 21(3):259–79.\n",
      "\n",
      "Crossref\n",
      "\n",
      "Web of Science\n",
      "\n",
      "Google Scholar [...] Astrology is a multi-million-dollar industry. Its ubiquity in contemporary social life suggests that astrology may be an important component of Americans’ identity and lived experience. Despite this popularity, scholarly attention to the uses and views of astrology is limited and has largely focused on its relationship with religion and religiosity. Further, little is known about who uses astrology in the United States, how, and why. In this article, we conduct a preliminary analysis of how [...] cultural space akin to other “personality” indicators for some. For professional astrologers and their clients, astrology is viewed as part of a complex spirituality and used as a tool for decision-making and self-understanding. We conclude by discussing promising directions for future sociological research on astrology.\n",
      "</Document>\n",
      "\n",
      "---\n",
      "\n",
      "<Document href=\"https://www.centreofexcellence.com/the-history-of-astrology/\"/>\n",
      "Despite its decline as a scientific field, astrology has experienced a major revival in modern times. With the rise of social media, online horoscopes, and personalised birth charts, astrology has become more accessible than ever. Some trends shaping the future of astrology include:\n",
      "\n",
      " AI-Generated Birth Charts – Apps like Co-Star and The Pattern use artificial intelligence to create detailed astrological readings. [...] However, astrology remains culturally significant, with millions of people around the world following it as a form of self-reflection, spirituality, or entertainment. Whether or not it is scientifically \"real,\" astrology continues to shape human beliefs, identity, and decision-making.\n",
      "\n",
      "## What Are the Old Zodiac Signs?\n",
      "\n",
      "Throughout history, there have been several different versions of the zodiac, with some signs being lost or changed over time. [...] Understanding the history of astrology gives us insight into its ancient origins, cultural significance, and ongoing influence. This guide takes you through astrology’s past, from its earliest beginnings to its role in the modern world.\n",
      "\n",
      "Jump to:\n",
      "</Document>\n",
      "\n",
      "---\n",
      "\n",
      "<Document href=\"https://www.tandfonline.com/doi/full/10.1080/14755610.2022.2093234\"/>\n",
      "For those who practice divination, destiny is negotiable (Cornelius Citation1994, 144), and the notion of divining and negotiating fate today exists as a marginal cultural practice. Historically, the association of astrological trans-rationality and politico-religious revolution with the seventeenth century English Civil War sullied the reputation of astrology prior to the Restoration and the modern age of scientific enquiry (Campion Citation2009: 50–51; Curry Citation1989: 45). And organised [...] Pierre Bourdieu’s cultural framework of legitimacy assists with understanding the continued interest in esoteric and popular astrology. Notions of the ‘cultural omnivore’ and shifts in patterns of consumption from legitimate exclusive tastes to include popular culture, offers broader individualised cultural profiles (Peterson and Kern Citation1996). Hence ‘legitimate’ cultural taste classified, for example, by religious and academic institutions, has morphed into a broader more ambiguous [...] completely passé in the universities by the late eighteenth century. This created a schism between astronomy and Western astrology, which survived through ‘popular’ oral culture, almanacs of folk wisdom and superstition (Curry Citation1989, 95–117), calendars that typically included astrological information and prognostications (Curry Citation1989, 21). Astrology had lost its legitimacy and usurped the will of God rather than legitimately divined it (Laishley Citation2007, 173).\n",
      "</Document>\n"
     ]
    }
   ],
   "source": [
    "print(result[\"context\"][0])"
   ]
  },
  {
   "cell_type": "code",
   "execution_count": 74,
   "id": "61589a69",
   "metadata": {},
   "outputs": [],
   "source": [
    "def search_serper(state: InterviewState):\n",
    "    \"\"\"\n",
    "    Retrieve data from the web using serper\n",
    "    \"\"\"\n",
    "    structured_llm = llm.with_structured_output(SearchQuery)\n",
    "    search_query = structured_llm.invoke([search_instructions] + state[\"messages\"])\n",
    "\n",
    "    print(\"-serper*\" *50)\n",
    "    print(search_query)\n",
    "\n",
    "    # Search\n",
    "    search_docs = serper.run(search_query.search_query)\n",
    "\n",
    "    return {\"context\": [search_docs]}\n"
   ]
  },
  {
   "cell_type": "code",
   "execution_count": 75,
   "id": "2c6a421e",
   "metadata": {},
   "outputs": [],
   "source": [
    "state = {\"max_num_turns\":2, \"context\":[], \"analyst\":analyst, \"interview\":\"\",\"messages\":[AIMessage(content=\"Hello, Professor Vance. My name is Alex Carter, and I'm an analyst with a keen interest in cultural history and its modern implications. I'm fascinated by your work on the cultural and historical significance of astrology in today's world. Could you share some insights into how astrology has evolved to fit into contemporary society? Specifically, are there any surprising ways it has influenced cultural trends or personal identities that might not be immediately obvious?\", additional_kwargs={'refusal': None}, response_metadata={'token_usage': {'completion_tokens': 83, 'prompt_tokens': 265, 'total_tokens': 348, 'completion_tokens_details': {'accepted_prediction_tokens': 0, 'audio_tokens': 0, 'reasoning_tokens': 0, 'rejected_prediction_tokens': 0}, 'prompt_tokens_details': {'audio_tokens': 0, 'cached_tokens': 0}}, 'model_name': 'gpt-4o-2024-08-06', 'system_fingerprint': 'fp_cbf1785567', 'id': 'chatcmpl-CTpSmRYX2h9pKe9CH1wzBhnJ1e7Xm', 'service_tier': 'default', 'finish_reason': 'stop', 'logprobs': None}, id='run--1db149e1-5d79-4e6a-8557-a0fa2171a50f-0', usage_metadata={'input_tokens': 265, 'output_tokens': 83, 'total_tokens': 348, 'input_token_details': {'audio': 0, 'cache_read': 0}, 'output_token_details': {'audio': 0, 'reasoning': 0}})]}"
   ]
  },
  {
   "cell_type": "code",
   "execution_count": 76,
   "id": "6548adca",
   "metadata": {},
   "outputs": [
    {
     "name": "stderr",
     "output_type": "stream",
     "text": [
      "HTTP Request: POST https://api.openai.com/v1/chat/completions \"HTTP/1.1 200 OK\"\n"
     ]
    },
    {
     "name": "stdout",
     "output_type": "stream",
     "text": [
      "-serper*-serper*-serper*-serper*-serper*-serper*-serper*-serper*-serper*-serper*-serper*-serper*-serper*-serper*-serper*-serper*-serper*-serper*-serper*-serper*-serper*-serper*-serper*-serper*-serper*-serper*-serper*-serper*-serper*-serper*-serper*-serper*-serper*-serper*-serper*-serper*-serper*-serper*-serper*-serper*-serper*-serper*-serper*-serper*-serper*-serper*-serper*-serper*-serper*-serper*\n",
      "search_query='evolution of astrology in contemporary society cultural trends personal identities'\n"
     ]
    }
   ],
   "source": [
    "result = search_serper(state)"
   ]
  },
  {
   "cell_type": "code",
   "execution_count": 77,
   "id": "dce53b46",
   "metadata": {},
   "outputs": [
    {
     "data": {
      "text/plain": [
       "[\"Understanding the history of astrology gives us insight into its ancient origins, cultural significance, and ongoing influence. Astrology has woven itself into human history as a guiding force, influencing civilizations and cultures from ancient times to the modern world. by P Clements · 2020 · Cited by 15 — Astrology re-emerged from folk culture in the UK at the end of the nineteenth century, due in part to the popularity of the Theosophical ... This paper will delve into the key principles of astrology, its history, and its cultural significance, exploring how it continues to shape personal identities, ... Astrology's Role in Community Influence ... Astrology has not only fascinated individuals but also shaped cultural and societal frameworks. Its ubiquity in contemporary social life suggests that astrology may be an important component of Americans' identity and lived experience. Moving into the present era, the dynamics of popular astrology have shifted even further away from the spiritual domain, succumbing instead to ... As a belief system, astrology continues to evolve, serving as both a reflection of cultural identities and a universal language of human connection with the ... Astrology is currently enjoying a broad cultural acceptance that hasn't been seen since the nineteen-seventies. The shift began with the advent ... Developments and Trends in the History of Astrology and their Impact on the Popularisation of the Zodiac Motif in Visual Cultures of the Ancient World.\"]"
      ]
     },
     "execution_count": 77,
     "metadata": {},
     "output_type": "execute_result"
    }
   ],
   "source": [
    "result[\"context\"]"
   ]
  },
  {
   "cell_type": "markdown",
   "id": "dce8640e",
   "metadata": {},
   "source": [
    "[\"Understanding the history of astrology gives us insight into its ancient origins, cultural significance, and ongoing influence. Astrology's Role in Community Influence ... Astrology has not only fascinated individuals but also shaped cultural and societal frameworks. Astrology has woven itself into human history as a guiding force, influencing civilizations and cultures from ancient times to the modern world. This paper will delve into the key principles of astrology, its history, and its cultural significance, exploring how it continues to shape personal identities, ... by P Clements · 2020 · Cited by 15 — Astrology re-emerged from folk culture in the UK at the end of the nineteenth century, due in part to the popularity of the Theosophical ... Its ubiquity in contemporary social life suggests that astrology may be an important component of Americans' identity and lived experience. Moving into the present era, the dynamics of popular astrology have shifted even further away from the spiritual domain, succumbing instead to ... Astrology is currently enjoying a broad cultural acceptance that hasn't been seen since the nineteen-seventies. The shift began with the advent ... As a belief system, astrology continues to evolve, serving as both a reflection of cultural identities and a universal language of human connection with the ... Historically, humans looked to the stars for collective guidance, but in modern times, astrology has transformed into a tool for introspection and personal ...\"]"
   ]
  },
  {
   "cell_type": "code",
   "execution_count": 78,
   "id": "9ed641d4",
   "metadata": {},
   "outputs": [],
   "source": [
    "from langchain_community.document_loaders import  ArxivLoader\n"
   ]
  },
  {
   "cell_type": "code",
   "execution_count": 79,
   "id": "e024d681",
   "metadata": {},
   "outputs": [],
   "source": [
    "# def search_arxiv(state: InterviewState):\n",
    "#     \"\"\"\n",
    "#     Retrieve data from the web\n",
    "#     \"\"\"\n",
    "#     structure_llm = llm.with_structured_output(SearchQuery)\n",
    "#     search_query = structure_llm.invoke([search_instructions] + state[\"messages\"])\n",
    "\n",
    "#     # Search\n",
    "#     search_docs = ArxivLoader(search_query.search_query).load()\n",
    "\n",
    "#     formatted_search_docs = \"\\n\\n\".join(doc.page_content[:1000] for doc in search_docs[:2]) or \"No papers found\"\n",
    "#     print(\"-arxiv*\" *50)\n",
    "#     print(formatted_search_docs)\n",
    "\n",
    "#     return {\"context\": [formatted_search_docs]}"
   ]
  },
  {
   "cell_type": "code",
   "execution_count": 80,
   "id": "488d3fda",
   "metadata": {},
   "outputs": [],
   "source": [
    "import arxiv\n",
    "\n",
    "def search_arxiv(state: InterviewState):\n",
    "    structure_llm = llm.with_structured_output(SearchQuery)\n",
    "    search_query = structure_llm.invoke([search_instructions] + state[\"messages\"])\n",
    "\n",
    "    search = arxiv.Search(query=search_query.search_query, max_results=2)\n",
    "    results = []\n",
    "    for result in search.results():\n",
    "        results.append(f\"Title: {result.title}\\nSummary: {result.summary}\\nURL: {result.entry_id}\")\n",
    "\n",
    "    formatted_search_docs = \"\\n\\n\".join(results) or \"No papers found\"\n",
    "    return {\"context\": [formatted_search_docs]}"
   ]
  },
  {
   "cell_type": "code",
   "execution_count": 81,
   "id": "5aefe531",
   "metadata": {},
   "outputs": [],
   "source": [
    "state = {\"max_num_turns\":2, \"context\":[], \"analyst\":analyst, \"interview\":\"\",\"messages\":[AIMessage(content=\"Hello, Professor Vance. My name is Alex Carter, and I'm an analyst with a keen interest in cultural history and its modern implications. I'm fascinated by your work on the cultural and historical significance of astrology in today's world. Could you share some insights into how astrology has evolved to fit into contemporary society? Specifically, are there any surprising ways it has influenced cultural trends or personal identities that might not be immediately obvious?\", additional_kwargs={'refusal': None}, response_metadata={'token_usage': {'completion_tokens': 83, 'prompt_tokens': 265, 'total_tokens': 348, 'completion_tokens_details': {'accepted_prediction_tokens': 0, 'audio_tokens': 0, 'reasoning_tokens': 0, 'rejected_prediction_tokens': 0}, 'prompt_tokens_details': {'audio_tokens': 0, 'cached_tokens': 0}}, 'model_name': 'gpt-4o-2024-08-06', 'system_fingerprint': 'fp_cbf1785567', 'id': 'chatcmpl-CTpSmRYX2h9pKe9CH1wzBhnJ1e7Xm', 'service_tier': 'default', 'finish_reason': 'stop', 'logprobs': None}, id='run--1db149e1-5d79-4e6a-8557-a0fa2171a50f-0', usage_metadata={'input_tokens': 265, 'output_tokens': 83, 'total_tokens': 348, 'input_token_details': {'audio': 0, 'cache_read': 0}, 'output_token_details': {'audio': 0, 'reasoning': 0}})]}"
   ]
  },
  {
   "cell_type": "code",
   "execution_count": 82,
   "id": "45f0a323",
   "metadata": {},
   "outputs": [
    {
     "name": "stderr",
     "output_type": "stream",
     "text": [
      "HTTP Request: POST https://api.openai.com/v1/chat/completions \"HTTP/1.1 200 OK\"\n",
      "C:\\Users\\shank\\AppData\\Local\\Temp\\ipykernel_18324\\3150498081.py:9: DeprecationWarning: The 'Search.results' method is deprecated, use 'Client.results' instead\n",
      "  for result in search.results():\n",
      "Requesting page (first: True, try: 0): https://export.arxiv.org/api/query?search_query=evolution+of+astrology+in+contemporary+society+cultural+trends+personal+identities&id_list=&sortBy=relevance&sortOrder=descending&start=0&max_results=100\n",
      "Got first page: 25 of 2859219 total results\n"
     ]
    }
   ],
   "source": [
    "result = search_arxiv(state)"
   ]
  },
  {
   "cell_type": "code",
   "execution_count": 83,
   "id": "09f78151",
   "metadata": {},
   "outputs": [
    {
     "data": {
      "text/plain": [
       "['Title: Toward Socially Aware Vision-Language Models: Evaluating Cultural Competence Through Multimodal Story Generation\\nSummary: As Vision-Language Models (VLMs) achieve widespread deployment across diverse\\ncultural contexts, ensuring their cultural competence becomes critical for\\nresponsible AI systems. While prior work has evaluated cultural awareness in\\ntext-only models and VLM object recognition tasks, no research has\\nsystematically assessed how VLMs adapt outputs when cultural identity cues are\\nembedded in both textual prompts and visual inputs during generative tasks. We\\npresent the first comprehensive evaluation of VLM cultural competence through\\nmultimodal story generation, developing a novel multimodal framework that\\nperturbs cultural identity and evaluates 5 contemporary VLMs on a downstream\\ntask: story generation. Our analysis reveals significant cultural adaptation\\ncapabilities, with rich culturally-specific vocabulary spanning names, familial\\nterms, and geographic markers. However, we uncover concerning limitations:\\ncultural competence varies dramatically across architectures, some models\\nexhibit inverse cultural alignment, and automated metrics show architectural\\nbias contradicting human assessments. Cross-modal evaluation shows that\\nculturally distinct outputs are indeed detectable through visual-semantic\\nsimilarity (28.7% within-nationality vs. 0.2% cross-nationality recall), yet\\nvisual-cultural understanding remains limited. In essence, we establish the\\npromise and challenges of cultural competence in multimodal AI. We publicly\\nrelease our codebase and data: https://github.com/ArkaMukherjee0/mmCultural\\nURL: http://arxiv.org/abs/2508.16762v1\\n\\nTitle: Cultural evolution and personalization\\nSummary: In social sciences, there is currently no consensus on the mechanism for\\ncultural evolution. The evolution of first names of newborn babies offers a\\nremarkable example for the researches in the field. Here we perform statistical\\nanalyses on over 100 years of data in the United States. We focus in particular\\non how the frequency-rank distribution and inequality of baby names change over\\ntime. We propose a stochastic model where name choice is determined by\\npersonalized preference and social influence. Remarkably, variations on the\\nstrength of personalized preference can account satisfactorily for the observed\\nempirical features. Therefore, we claim that personalization drives cultural\\nevolution, at least in the example of baby names.\\nURL: http://arxiv.org/abs/1212.0217v1']"
      ]
     },
     "execution_count": 83,
     "metadata": {},
     "output_type": "execute_result"
    }
   ],
   "source": [
    "result[\"context\"]"
   ]
  },
  {
   "cell_type": "code",
   "execution_count": 84,
   "id": "a586d475",
   "metadata": {},
   "outputs": [],
   "source": [
    "answer_instructions = \"\"\"You are an expert being interviewed by an analyst.\n",
    "\n",
    "Here is analyst area of focus: {goals}.\n",
    "\n",
    "Your goal is to answer a question posed by the interviewer.\n",
    "\n",
    "To answer question, use this context:\n",
    "\n",
    "{context}\n",
    "\n",
    "When answering questions, follow these guidelines:\n",
    "\n",
    "1. Use only the information provided in the context.\n",
    "\n",
    "2. Do not introduce external information or make assumptions beyond what is explicitly stated in the context.\n",
    "\n",
    "3. The context contain sorces at the topic of each individual document.\n",
    "\n",
    "4. Include these sources in your answer next to any relevant statements. For example, for source # 1 use [1].\n",
    "\n",
    "5. List your sources in order at the bottom of your answer. [1] Source 1, [2] Source 2, etc\n",
    "\n",
    "6. If the source is: <Document source=\"assistant/docs/llama3_1.pdf\" page=\"7\"/>' then just list:\n",
    "\n",
    "[1] assistant/docs/llama3_1.pdf, page 7\n",
    "\n",
    "And skip the addition of the brackets as well as the Document source preamble in your citation\n",
    "\n",
    "\"\"\""
   ]
  },
  {
   "cell_type": "code",
   "execution_count": 85,
   "id": "c294dabe",
   "metadata": {},
   "outputs": [],
   "source": [
    "def generate_answer(state:InterviewState):\n",
    "\n",
    "    \"\"\" Node to answer a question \"\"\"\n",
    "\n",
    "    # Get state\n",
    "    analyst = state[\"analyst\"]\n",
    "    messages = state[\"messages\"]\n",
    "    context = state[\"context\"]\n",
    "\n",
    "    system_message = answer_instructions.format(goals=analyst.persona, context=context)\n",
    "    answer = llm.invoke([SystemMessage(content=system_message)] + messages)\n",
    "\n",
    "    # Name the message as coming from the expert\n",
    "    answer.name = \"expert\"\n",
    "\n",
    "    # Append it to state\n",
    "    return {\"messages\":[answer]}"
   ]
  },
  {
   "cell_type": "code",
   "execution_count": 86,
   "id": "3d22d7e7",
   "metadata": {},
   "outputs": [],
   "source": [
    "def route_messages(state: InterviewState,\n",
    "                   name: str = \"expert\"):\n",
    "    \"\"\" Route between question and answer \"\"\"\n",
    "\n",
    "    # Get messages\n",
    "    messages = state[\"messages\"]\n",
    "    max_num_turns = state.get(\"max_num_turns\", 2)\n",
    "\n",
    "    # Check the number of expert answers\n",
    "    num_responses = len(\n",
    "        [m for m in messages if isinstance(m, AIMessage) and m.name == name]\n",
    "    )\n",
    "\n",
    "    # End if expert has answered more than the max turns\n",
    "    if num_responses >= max_num_turns:\n",
    "        return \"save_interview\"\n",
    "    \n",
    "    # This router is run after each question - answer pair \n",
    "    # Get the last question asked to check if it signals the end of discussion\n",
    "    last_question = messages[-2]\n",
    "\n",
    "    if \"Thank You so much for your help\" in last_question.content:\n",
    "        return \"save_interview\"\n",
    "    \n",
    "    return \"ask_question\""
   ]
  },
  {
   "cell_type": "code",
   "execution_count": 87,
   "id": "2214f3d4",
   "metadata": {},
   "outputs": [],
   "source": [
    "def save_interview(state: InterviewState):\n",
    "\n",
    "    \"\"\"Save Interviews \"\"\"\n",
    "\n",
    "    # Get messages\n",
    "    messages = state[\"messages\"]\n",
    "\n",
    "    # Convert interview to a string\n",
    "    interview = get_buffer_string(messages)\n",
    "\n",
    "    # Save to interviews key\n",
    "    return {\"interview\": interview}"
   ]
  },
  {
   "cell_type": "code",
   "execution_count": 88,
   "id": "b16c4491",
   "metadata": {},
   "outputs": [],
   "source": [
    "section_writer_instructions = \"\"\"You are an expert technical writer. \n",
    "            \n",
    "Your task is to create a short, easily digestible section of a report based on a set of source documents.\n",
    "\n",
    "1. Analyze the content of the source documents: \n",
    "- The name of each source document is at the start of the document, with the <Document tag.\n",
    "        \n",
    "2. Create a report structure using markdown formatting:\n",
    "- Use ## for the section title\n",
    "- Use ### for sub-section headers\n",
    "        \n",
    "3. Write the report following this structure:\n",
    "a. Title (## header)\n",
    "b. Summary (### header)\n",
    "c. Sources (### header)\n",
    "\n",
    "4. Make your title engaging based upon the focus area of the analyst: \n",
    "{focus}\n",
    "\n",
    "5. For the summary section:\n",
    "- Set up summary with general background / context related to the focus area of the analyst\n",
    "- Emphasize what is novel, interesting, or surprising about insights gathered from the interview\n",
    "- Create a numbered list of source documents, as you use them\n",
    "- Do not mention the names of interviewers or experts\n",
    "- Aim for approximately 400 words maximum\n",
    "- Use numbered sources in your report (e.g., [1], [2]) based on information from source documents\n",
    "        \n",
    "6. In the Sources section:\n",
    "- Include all sources used in your report\n",
    "- Provide full links to relevant websites or specific document paths\n",
    "- Separate each source by a newline. Use two spaces at the end of each line to create a newline in Markdown.\n",
    "- It will look like:\n",
    "\n",
    "### Sources\n",
    "[1] Link or Document name\n",
    "[2] Link or Document name\n",
    "\n",
    "7. Be sure to combine sources. For example this is not correct:\n",
    "\n",
    "[3] https://ai.meta.com/blog/meta-llama-3-1/\n",
    "[4] https://ai.meta.com/blog/meta-llama-3-1/\n",
    "\n",
    "There should be no redundant sources. It should simply be:\n",
    "\n",
    "[3] https://ai.meta.com/blog/meta-llama-3-1/\n",
    "        \n",
    "8. Final review:\n",
    "- Ensure the report follows the required structure\n",
    "- Include no preamble before the title of the report\n",
    "- Check that all guidelines have been followed\"\"\""
   ]
  },
  {
   "cell_type": "code",
   "execution_count": 89,
   "id": "a28bb277",
   "metadata": {},
   "outputs": [],
   "source": [
    "def write_section(state: InterviewState):\n",
    "\n",
    "    \"\"\" Node to answer a question \"\"\"\n",
    "\n",
    "    # get state\n",
    "    interview = state[\"interview\"]\n",
    "    context = state[\"context\"]\n",
    "    analyst = state[\"analyst\"]\n",
    "\n",
    "    # Write section using either the gathered source docs from interview (context) or the interview itself (interview)\n",
    "    system_message = section_writer_instructions.format(focus=analyst.description)\n",
    "    section = llm.invoke([SystemMessage(content=system_message)] + [HumanMessage(content=f\"Use this source to write your section: {context}\")])\n",
    "\n",
    "    # Append it to state\n",
    "    return {\"sections\": [section.content]}"
   ]
  },
  {
   "cell_type": "code",
   "execution_count": 90,
   "id": "d2c5e0fb",
   "metadata": {},
   "outputs": [],
   "source": [
    "interview_builder = StateGraph(InterviewState)"
   ]
  },
  {
   "cell_type": "code",
   "execution_count": 91,
   "id": "4c7597e3",
   "metadata": {},
   "outputs": [
    {
     "data": {
      "text/plain": [
       "<langgraph.graph.state.StateGraph at 0x25d553db550>"
      ]
     },
     "execution_count": 91,
     "metadata": {},
     "output_type": "execute_result"
    }
   ],
   "source": [
    "interview_builder.add_node(\"ask_question\", generation_question )\n",
    "interview_builder.add_node(\"search_web\", search_web )\n",
    "interview_builder.add_node(\"search_serper\", search_serper )\n",
    "interview_builder.add_node(\"search_arxiv\", search_arxiv )\n",
    "interview_builder.add_node(\"generate_answer\", generate_answer )\n",
    "interview_builder.add_node(\"save_interview\", save_interview )\n",
    "interview_builder.add_node(\"write_section\", write_section )"
   ]
  },
  {
   "cell_type": "code",
   "execution_count": 92,
   "id": "482d994a",
   "metadata": {},
   "outputs": [
    {
     "data": {
      "text/plain": [
       "<langgraph.graph.state.StateGraph at 0x25d553db550>"
      ]
     },
     "execution_count": 92,
     "metadata": {},
     "output_type": "execute_result"
    }
   ],
   "source": [
    "interview_builder.add_edge(START, \"ask_question\")\n",
    "interview_builder.add_edge(\"ask_question\",\"search_web\")\n",
    "interview_builder.add_edge(\"ask_question\",\"search_serper\")\n",
    "interview_builder.add_edge(\"ask_question\",\"search_arxiv\")\n",
    "interview_builder.add_edge(\"search_web\",\"generate_answer\")\n",
    "interview_builder.add_edge(\"search_serper\",\"generate_answer\")\n",
    "interview_builder.add_edge(\"search_arxiv\",\"generate_answer\")\n",
    "interview_builder.add_conditional_edges(\"generate_answer\",\n",
    "                                        route_messages,\n",
    "                                        [\"ask_question\",\n",
    "                                         \"save_interview\"])\n",
    "interview_builder.add_edge(\"save_interview\",\"write_section\")\n",
    "interview_builder.add_edge(\"write_section\",END)"
   ]
  },
  {
   "cell_type": "code",
   "execution_count": 93,
   "id": "ddd5f326",
   "metadata": {},
   "outputs": [],
   "source": [
    "interview_graph = interview_builder.compile(checkpointer=memory).with_config(run_name = \"Conduct Interview\")\n"
   ]
  },
  {
   "cell_type": "code",
   "execution_count": 94,
   "id": "e2f496ed",
   "metadata": {},
   "outputs": [
    {
     "data": {
      "image/png": "[encoded data removed]",
      "text/plain": [
       "<IPython.core.display.Image object>"
      ]
     },
     "metadata": {},
     "output_type": "display_data"
    }
   ],
   "source": [
    "display(Image(interview_graph.get_graph().draw_mermaid_png()))"
   ]
  },
  {
   "cell_type": "code",
   "execution_count": 95,
   "id": "5df38757",
   "metadata": {},
   "outputs": [
    {
     "data": {
      "text/plain": [
       "Analyst(name='Professor Leo Vedic', role='Cultural Historian', affiliation='University of New Age Studies', description='Professor Leo Vedic examines the cultural and historical significance of astrology in the modern world. He investigates how astrology has been integrated into contemporary practices and its impact on societal trends. His work highlights the enduring appeal of astrology as a tool for navigating uncertainty and making sense of complex global events.')"
      ]
     },
     "execution_count": 95,
     "metadata": {},
     "output_type": "execute_result"
    }
   ],
   "source": [
    "analyst"
   ]
  },
  {
   "cell_type": "code",
   "execution_count": 96,
   "id": "f44d4736",
   "metadata": {},
   "outputs": [
    {
     "data": {
      "text/plain": [
       "'Name: Professor Leo Vedic\\nRole: Cultural Historian\\nAffiliation: University of New Age Studies\\nDescription: Professor Leo Vedic examines the cultural and historical significance of astrology in the modern world. He investigates how astrology has been integrated into contemporary practices and its impact on societal trends. His work highlights the enduring appeal of astrology as a tool for navigating uncertainty and making sense of complex global events.\\n'"
      ]
     },
     "execution_count": 96,
     "metadata": {},
     "output_type": "execute_result"
    }
   ],
   "source": [
    "analyst.persona"
   ]
  },
  {
   "cell_type": "code",
   "execution_count": 97,
   "id": "f44e7c33",
   "metadata": {},
   "outputs": [],
   "source": [
    "thread = {\"configurable\": {\"thread_id\": \"1\"}}"
   ]
  },
  {
   "cell_type": "code",
   "execution_count": 98,
   "id": "f8af7e2f",
   "metadata": {},
   "outputs": [],
   "source": [
    "from IPython.display import Markdown"
   ]
  },
  {
   "cell_type": "code",
   "execution_count": 99,
   "id": "bb58abfe",
   "metadata": {},
   "outputs": [],
   "source": [
    "messages = [HumanMessage(\"So you said you were writing an article on planetery position and it's effect on humans?\")]"
   ]
  },
  {
   "cell_type": "code",
   "execution_count": 100,
   "id": "2f10495c",
   "metadata": {},
   "outputs": [
    {
     "name": "stderr",
     "output_type": "stream",
     "text": [
      "HTTP Request: POST https://api.openai.com/v1/chat/completions \"HTTP/1.1 200 OK\"\n",
      "HTTP Request: POST https://api.openai.com/v1/chat/completions \"HTTP/1.1 200 OK\"\n",
      "C:\\Users\\shank\\AppData\\Local\\Temp\\ipykernel_18324\\3150498081.py:9: DeprecationWarning: The 'Search.results' method is deprecated, use 'Client.results' instead\n",
      "  for result in search.results():\n",
      "Requesting page (first: True, try: 0): https://export.arxiv.org/api/query?search_query=examples+of+astrology+integration+in+contemporary+practices+and+its+impact+on+societal+trends&id_list=&sortBy=relevance&sortOrder=descending&start=0&max_results=100\n",
      "HTTP Request: POST https://api.openai.com/v1/chat/completions \"HTTP/1.1 200 OK\"\n"
     ]
    },
    {
     "name": "stdout",
     "output_type": "stream",
     "text": [
      "-serper*-serper*-serper*-serper*-serper*-serper*-serper*-serper*-serper*-serper*-serper*-serper*-serper*-serper*-serper*-serper*-serper*-serper*-serper*-serper*-serper*-serper*-serper*-serper*-serper*-serper*-serper*-serper*-serper*-serper*-serper*-serper*-serper*-serper*-serper*-serper*-serper*-serper*-serper*-serper*-serper*-serper*-serper*-serper*-serper*-serper*-serper*-serper*-serper*-serper*\n",
      "search_query='examples of astrology in contemporary practices and its impact on society'\n"
     ]
    },
    {
     "name": "stderr",
     "output_type": "stream",
     "text": [
      "HTTP Request: POST https://api.openai.com/v1/chat/completions \"HTTP/1.1 200 OK\"\n",
      "Got first page: 100 of 2865174 total results\n"
     ]
    },
    {
     "name": "stdout",
     "output_type": "stream",
     "text": [
      "-tavily*-tavily*-tavily*-tavily*-tavily*-tavily*-tavily*-tavily*-tavily*-tavily*-tavily*-tavily*-tavily*-tavily*-tavily*-tavily*-tavily*-tavily*-tavily*-tavily*-tavily*-tavily*-tavily*-tavily*-tavily*-tavily*-tavily*-tavily*-tavily*-tavily*-tavily*-tavily*-tavily*-tavily*-tavily*-tavily*-tavily*-tavily*-tavily*-tavily*-tavily*-tavily*-tavily*-tavily*-tavily*-tavily*-tavily*-tavily*-tavily*-tavily*\n"
     ]
    },
    {
     "name": "stderr",
     "output_type": "stream",
     "text": [
      "HTTP Request: POST https://api.openai.com/v1/chat/completions \"HTTP/1.1 200 OK\"\n",
      "HTTP Request: POST https://api.openai.com/v1/chat/completions \"HTTP/1.1 200 OK\"\n",
      "HTTP Request: POST https://api.openai.com/v1/chat/completions \"HTTP/1.1 200 OK\"\n"
     ]
    },
    {
     "name": "stdout",
     "output_type": "stream",
     "text": [
      "-serper*-serper*-serper*-serper*-serper*-serper*-serper*-serper*-serper*-serper*-serper*-serper*-serper*-serper*-serper*-serper*-serper*-serper*-serper*-serper*-serper*-serper*-serper*-serper*-serper*-serper*-serper*-serper*-serper*-serper*-serper*-serper*-serper*-serper*-serper*-serper*-serper*-serper*-serper*-serper*-serper*-serper*-serper*-serper*-serper*-serper*-serper*-serper*-serper*-serper*\n",
      "search_query='examples of astrology used to navigate uncertainty in global events'\n"
     ]
    },
    {
     "name": "stderr",
     "output_type": "stream",
     "text": [
      "HTTP Request: POST https://api.openai.com/v1/chat/completions \"HTTP/1.1 200 OK\"\n",
      "C:\\Users\\shank\\AppData\\Local\\Temp\\ipykernel_18324\\3150498081.py:9: DeprecationWarning: The 'Search.results' method is deprecated, use 'Client.results' instead\n",
      "  for result in search.results():\n",
      "Requesting page (first: True, try: 0): https://export.arxiv.org/api/query?search_query=examples+of+astrology+used+to+navigate+uncertainty+in+global+events&id_list=&sortBy=relevance&sortOrder=descending&start=0&max_results=100\n",
      "Got first page: 25 of 2863202 total results\n",
      "HTTP Request: POST https://api.openai.com/v1/chat/completions \"HTTP/1.1 200 OK\"\n"
     ]
    },
    {
     "name": "stdout",
     "output_type": "stream",
     "text": [
      "-tavily*-tavily*-tavily*-tavily*-tavily*-tavily*-tavily*-tavily*-tavily*-tavily*-tavily*-tavily*-tavily*-tavily*-tavily*-tavily*-tavily*-tavily*-tavily*-tavily*-tavily*-tavily*-tavily*-tavily*-tavily*-tavily*-tavily*-tavily*-tavily*-tavily*-tavily*-tavily*-tavily*-tavily*-tavily*-tavily*-tavily*-tavily*-tavily*-tavily*-tavily*-tavily*-tavily*-tavily*-tavily*-tavily*-tavily*-tavily*-tavily*-tavily*\n"
     ]
    },
    {
     "name": "stderr",
     "output_type": "stream",
     "text": [
      "HTTP Request: POST https://api.openai.com/v1/chat/completions \"HTTP/1.1 200 OK\"\n",
      "HTTP Request: POST https://api.openai.com/v1/chat/completions \"HTTP/1.1 200 OK\"\n"
     ]
    }
   ],
   "source": [
    "interview = interview_graph.invoke({\"analyst\": analyst, \"messages\": messages, \"max_num_turns\": 2}, thread)"
   ]
  },
  {
   "cell_type": "code",
   "execution_count": 101,
   "id": "9c621797",
   "metadata": {},
   "outputs": [
    {
     "data": {
      "text/markdown": [
       "## Astrology: A Timeless Guide in Modern Times\n",
       "\n",
       "### Summary\n",
       "\n",
       "Astrology, an ancient practice that interprets the influence of celestial bodies on human affairs, continues to captivate the modern world. Its integration into contemporary culture and its impact on societal trends are subjects of ongoing exploration. Professor Leo Vedic's analysis highlights astrology's enduring appeal as a tool for navigating uncertainty and making sense of complex global events. This report delves into the cultural and historical significance of astrology, examining its integration into modern practices and its influence on identity and decision-making.\n",
       "\n",
       "Astrology's roots can be traced back to ancient civilizations, where it was used to guide decisions and predict events. Despite its historical significance, astrology has often been overshadowed by more systematic scientific approaches. However, recent studies, such as the analysis of Vettius Valens' Anthologies, reveal a consistent internal logic in astrological practices, suggesting a methodological technique of combinatorial reasoning [1]. This challenges the perception of astrology as arbitrary and highlights its potential as a structured tool for understanding human behavior and societal trends.\n",
       "\n",
       "In contemporary society, astrology has permeated various facets of pop culture, from fashion to social media. The Quirky Naari's Zodiac T-shirts exemplify how astrology shapes modern fashion, allowing individuals to express their astrological identities [2]. This trend reflects a broader cultural movement where astrology serves as a language for identity, offering tools for self-reflection and personal growth.\n",
       "\n",
       "Astrology's influence extends beyond personal identity, impacting societal dynamics and decision-making. It provides a framework for understanding global events, with astrologers interpreting planetary movements to anticipate geopolitical and economic shifts [3]. This perspective offers a unique lens through which to view the world, emphasizing the interconnectedness of celestial and earthly phenomena.\n",
       "\n",
       "Despite its popularity, astrology remains a subject of debate, with critics questioning its scientific validity. However, its widespread appeal suggests that astrology fulfills a fundamental human desire for meaning and connection. It fosters communities, both online and offline, where individuals engage in dialogue and self-reflection, contributing to a sense of belonging and shared experience [4].\n",
       "\n",
       "In conclusion, astrology's integration into modern culture underscores its enduring relevance. As a tool for navigating uncertainty, it offers insights into personal and collective experiences, shaping identity and guiding decisions. Professor Leo Vedic's work highlights the significance of astrology in contemporary society, inviting further exploration of its cultural and historical impact.\n",
       "\n",
       "### Sources\n",
       "[1] http://arxiv.org/abs/2205.07616v1  \n",
       "[2] https://thequirkynaari.com/blogs/product-blogs/the-influence-of-astrology-on-modern-pop-culture?srsltid=AfmBOopFvPZ_0c3D8mSx5oJbAFWcENAOXgqAGpKCTjJsXzV2xstCUf5q  \n",
       "[3] https://medium.com/@astroindusoot22/planetary-movements-and-global-events-the-astrologers-perspective-dad1c0ce5474  \n",
       "[4] https://www.brookes.ac.uk/about-brookes/news/news-from-2025/05/expert-comment-why-is-gen-z-looking-to-the-stars-f  "
      ],
      "text/plain": [
       "<IPython.core.display.Markdown object>"
      ]
     },
     "execution_count": 101,
     "metadata": {},
     "output_type": "execute_result"
    }
   ],
   "source": [
    "Markdown(interview['sections'][0])"
   ]
  },
  {
   "cell_type": "markdown",
   "id": "74fd21ff",
   "metadata": {},
   "source": [
    "# Third Workflow"
   ]
  },
  {
   "cell_type": "code",
   "execution_count": 102,
   "id": "506664c0",
   "metadata": {},
   "outputs": [],
   "source": [
    "from typing_extensions import TypedDict\n",
    "from typing import List, Annotated\n",
    "import operator"
   ]
  },
  {
   "cell_type": "code",
   "execution_count": 145,
   "id": "7acd6e2c",
   "metadata": {},
   "outputs": [],
   "source": [
    "class ResearchGraphState(TypedDict):\n",
    "    topic: str # Research Topic\n",
    "    max_analysts: int # Number of analysts\n",
    "    human_analyst_feedback: str # Human Feedback\n",
    "    analysts: List[Analyst] # Analyst asking questions\n",
    "    sections: Annotated[list, operator.add] # Report Sections Send() API Key\n",
    "    introduction: str # Introduction for the final report\n",
    "    content: str # Final Report Content\n",
    "    conclusion: str # Conclusion for the final report\n",
    "    final_report: str # Final Report"
   ]
  },
  {
   "cell_type": "code",
   "execution_count": 146,
   "id": "88a6b5c1",
   "metadata": {},
   "outputs": [],
   "source": [
    "from langgraph.types import Send"
   ]
  },
  {
   "cell_type": "code",
   "execution_count": 147,
   "id": "d4af21b0",
   "metadata": {},
   "outputs": [],
   "source": [
    "def initiate_all_interviews(state: ResearchGraphState):\n",
    "    \"\"\" This is the 'map' step where we run each interview sub-graph using Send API \"\"\"\n",
    "\n",
    "    # check if human feedback\n",
    "    human_analyst_feedback = state.get(\"human_analyst_feedback\")\n",
    "    if human_analyst_feedback:\n",
    "        # Return to create_analysts\n",
    "        return \"create_analysts\"\n",
    "    \n",
    "    # Otherwise kick off interviews in parallel via Send() Api\n",
    "    topic = state[\"topic\"]\n",
    "    return [Send(\"conduct_interview\", {\"analyst\": analyst,\n",
    "                                       \"messages\": [HumanMessage(\n",
    "                                           content=f\"So you were writing an article on topic: {topic}\"\n",
    "                                       )]}) for analyst in state[\"analysts\"]]\n"
   ]
  },
  {
   "cell_type": "code",
   "execution_count": 148,
   "id": "9616f24d",
   "metadata": {},
   "outputs": [],
   "source": [
    "report_writer_instructions = \"\"\"You are a technical writer creating a report on this overall topic: \n",
    "\n",
    "{topic}\n",
    "    \n",
    "You have a team of analysts. Each analyst has done two things: \n",
    "\n",
    "1. They conducted an interview with an expert on a specific sub-topic.\n",
    "2. They write up their finding into a memo.\n",
    "\n",
    "Your task: \n",
    "\n",
    "1. You will be given a collection of memos from your analysts.\n",
    "2. Think carefully about the insights from each memo.\n",
    "3. Consolidate these into a crisp overall summary that ties together the central ideas from all of the memos. \n",
    "4. Summarize the central points in each memo into a cohesive single narrative.\n",
    "\n",
    "To format your report:\n",
    " \n",
    "1. Use markdown formatting. \n",
    "2. Include no pre-amble for the report.\n",
    "3. Use no sub-heading. \n",
    "4. Start your report with a single title header: ## Insights\n",
    "5. Do not mention any analyst names in your report.\n",
    "6. Preserve any citations in the memos, which will be annotated in brackets, for example [1] or [2].\n",
    "7. Create a final, consolidated list of sources and add to a Sources section with the `## Sources` header.\n",
    "8. List your sources in order and do not repeat.\n",
    "\n",
    "[1] Source 1\n",
    "[2] Source 2\n",
    "\n",
    "Here are the memos from your analysts to build your report from: \n",
    "\n",
    "{context}\"\"\""
   ]
  },
  {
   "cell_type": "code",
   "execution_count": 149,
   "id": "4a3c3560",
   "metadata": {},
   "outputs": [],
   "source": [
    "def write_report(state: ResearchGraphState):\n",
    "    \"\"\" Node to write the final report\"\"\"\n",
    "\n",
    "    # Full set of sections\n",
    "    sections = state[\"sections\"]\n",
    "    topic = state[\"topic\"]\n",
    "\n",
    "    # Concat all sections together\n",
    "    formatted_str_sections = \"\\n\\n\".join([f\"{section}\" for section in sections])\n",
    "\n",
    "    # Summarize the sections into a final report\n",
    "    system_message = report_writer_instructions.format(topic=topic, context=formatted_str_sections)\n",
    "    report = llm.invoke([SystemMessage(content=system_message)] + [HumanMessage(content=f\"Write a report based upon these memos\")])\n",
    "    return {\"content\": report.content}"
   ]
  },
  {
   "cell_type": "code",
   "execution_count": 150,
   "id": "441fef20",
   "metadata": {},
   "outputs": [],
   "source": [
    "intro_conclusion_instructions = \"\"\"You are a technical writer finishing a report on {topic}\n",
    "\n",
    "You will be given all of the sections of the report.\n",
    "\n",
    "You job is to write a crisp and compelling introduction or conclusion section.\n",
    "\n",
    "The user will instruct you whether to write the introduction or conclusion.\n",
    "\n",
    "Include no pre-amble for either section.\n",
    "\n",
    "Target around 100 words, crisply previewing (for introduction) or recapping (for conclusion) all of the sections of the report.\n",
    "\n",
    "Use markdown formatting. \n",
    "\n",
    "For your introduction, create a compelling title and use the # header for the title.\n",
    "\n",
    "For your introduction, use ## Introduction as the section header. \n",
    "\n",
    "For your conclusion, use ## Conclusion as the section header.\n",
    "\n",
    "Here are the sections to reflect on for writing: {formatted_str_sections}\"\"\""
   ]
  },
  {
   "cell_type": "code",
   "execution_count": 151,
   "id": "daa7c78c",
   "metadata": {},
   "outputs": [],
   "source": [
    "def write_introduction(state: ResearchGraphState):\n",
    "    \"\"\" Node to write introduction \"\"\"\n",
    "\n",
    "    # Full set of sections\n",
    "    sections = state[\"sections\"]\n",
    "    topic = state[\"topic\"]\n",
    "\n",
    "    # Concat all sections together\n",
    "    formatted_str_sections = \"\\n\\n\".join([f\"{section}\" for section in sections])\n",
    "\n",
    "    # Write introduction\n",
    "    system_message = intro_conclusion_instructions.format(topic=topic, formatted_str_sections=formatted_str_sections)\n",
    "    introduction = llm.invoke([SystemMessage(content=system_message)] + [HumanMessage(content=\"Write the introduction section\")])\n",
    "    return {\"introduction\": introduction.content}"
   ]
  },
  {
   "cell_type": "code",
   "execution_count": 152,
   "id": "e71d2c84",
   "metadata": {},
   "outputs": [],
   "source": [
    "def write_conclusion(state: ResearchGraphState):\n",
    "    \"\"\" Node to write conclusion \"\"\"\n",
    "\n",
    "    # Full set of sections\n",
    "    sections = state[\"sections\"]\n",
    "    topic = state[\"topic\"]\n",
    "\n",
    "    # Concat all sections together\n",
    "    formatted_str_sections = \"\\n\\n\".join([f\"{section}\" for section in sections])\n",
    "\n",
    "    # Write conclusion\n",
    "    system_message = intro_conclusion_instructions.format(topic=topic, formatted_str_sections=formatted_str_sections)\n",
    "    conclusion = llm.invoke([SystemMessage(content=system_message)] + [HumanMessage(content=\"Write the conclusion section\")])\n",
    "    return {\"conclusion\": conclusion.content}"
   ]
  },
  {
   "cell_type": "code",
   "execution_count": 153,
   "id": "f7dc0f5a",
   "metadata": {},
   "outputs": [],
   "source": [
    "def finalize_report(state: ResearchGraphState):\n",
    "    \"\"\" Node to finalize the report, this is the 'reduce' step where we gather all the sections, combine them, and reflect on them to write the intro/conclusion \"\"\"\n",
    "\n",
    "    # Save full final report \n",
    "    content = state[\"content\"]\n",
    "    \n",
    "    if content.startswith(\"## Insights\"):\n",
    "        content = content.strip(\"## Insights\")\n",
    "\n",
    "    if \"## Sources\" in content:\n",
    "        try:\n",
    "            content, sources = content.split(\"\\n## Sources\\n\")\n",
    "\n",
    "        except:\n",
    "            sources = None\n",
    "\n",
    "    else:\n",
    "        sources = None\n",
    "\n",
    "    final_report = state[\"introduction\"] + \"\\n\\n---\\n\\n\" + content + \"\\n\\n---\\n\\n\" + state[\"conclusion\"]\n",
    "\n",
    "    if sources is not None:\n",
    "        final_report += \"\\n\\n## Sources\\n\" + sources\n",
    "    \n",
    "\n",
    "    return {\"final_report\": final_report}"
   ]
  },
  {
   "cell_type": "code",
   "execution_count": 154,
   "id": "0985ffc6",
   "metadata": {},
   "outputs": [
    {
     "data": {
      "text/plain": [
       "<langgraph.graph.state.StateGraph at 0x25d566ade50>"
      ]
     },
     "execution_count": 154,
     "metadata": {},
     "output_type": "execute_result"
    }
   ],
   "source": [
    "builder = StateGraph(ResearchGraphState)\n",
    "\n",
    "builder.add_node(\"create_analysts\", create_analyst)\n",
    "builder.add_node(\"human_feedback\", human_feedback)\n",
    "builder.add_node(\"conduct_interview\", interview_builder.compile())\n",
    "builder.add_node(\"write_report\", write_report)\n",
    "builder.add_node(\"write_introduction\", write_introduction)\n",
    "builder.add_node(\"write_conclusion\", write_conclusion)\n",
    "builder.add_node(\"finalize_report\", finalize_report)\n",
    "\n",
    "builder.add_edge(START, \"create_analysts\")\n",
    "builder.add_edge(\"create_analysts\", \"human_feedback\")\n",
    "builder.add_conditional_edges(\"human_feedback\",\n",
    "                              initiate_all_interviews,\n",
    "                              [\"create_analysts\",\n",
    "                               \"conduct_interview\"])\n",
    "builder.add_edge(\"conduct_interview\", \"write_report\")\n",
    "builder.add_edge(\"conduct_interview\", \"write_introduction\")\n",
    "builder.add_edge(\"conduct_interview\", \"write_conclusion\")\n",
    "builder.add_edge([\"write_conclusion\",\"write_report\",\"write_introduction\"], \"finalize_report\")\n",
    "builder.add_edge(\"finalize_report\", END)\n",
    "\n",
    "\n"
   ]
  },
  {
   "cell_type": "code",
   "execution_count": 155,
   "id": "30d198c1",
   "metadata": {},
   "outputs": [],
   "source": [
    "memory = MemorySaver()"
   ]
  },
  {
   "cell_type": "code",
   "execution_count": 156,
   "id": "76a8cc52",
   "metadata": {},
   "outputs": [],
   "source": [
    "graph = builder.compile(interrupt_before=[\"human_feedback\"], checkpointer=memory)"
   ]
  },
  {
   "cell_type": "code",
   "execution_count": 157,
   "id": "44b25bab",
   "metadata": {},
   "outputs": [
    {
     "data": {
      "image/png": "[encoded data removed]",
      "text/plain": [
       "<IPython.core.display.Image object>"
      ]
     },
     "metadata": {},
     "output_type": "display_data"
    }
   ],
   "source": [
    "display(Image(graph.get_graph(xray=1).draw_mermaid_png()))"
   ]
  },
  {
   "cell_type": "code",
   "execution_count": 158,
   "id": "e258641b",
   "metadata": {},
   "outputs": [],
   "source": [
    "max_analysts = 3"
   ]
  },
  {
   "cell_type": "code",
   "execution_count": 159,
   "id": "7c565b29",
   "metadata": {},
   "outputs": [],
   "source": [
    "topic = \"How can we use planetary movements to predict human emotions and behaviors?\""
   ]
  },
  {
   "cell_type": "code",
   "execution_count": 160,
   "id": "060a7abd",
   "metadata": {},
   "outputs": [],
   "source": [
    "thread = {\"configurable\": {\"thread_id\":\"1\"}}"
   ]
  },
  {
   "cell_type": "code",
   "execution_count": 161,
   "id": "ba9e4ae1",
   "metadata": {},
   "outputs": [
    {
     "name": "stderr",
     "output_type": "stream",
     "text": [
      "HTTP Request: POST https://api.openai.com/v1/chat/completions \"HTTP/1.1 200 OK\"\n"
     ]
    },
    {
     "name": "stdout",
     "output_type": "stream",
     "text": [
      "-*-*-*-*-*-*-*-*-*-*-*-*-*-*-*-*-*-*-*-*-*-*-*-*-*-*-*-*-*-*-*-*-*-*-*-*-*-*-*-*-*-*-*-*-*-*-*-*-*-*\n",
      "analysts=[Analyst(name='Dr. Celeste Orion', role='Astrologer and Psychologist', affiliation='Institute of Cosmic Psychology', description='Dr. Orion focuses on the intersection of astrology and psychology, exploring how planetary movements can influence human emotions and behaviors. She is particularly interested in the historical and cultural contexts of astrology and how these can be integrated with modern psychological theories to better understand human behavior.'), Analyst(name='Professor Leo Vega', role='Astrophysicist', affiliation='Department of Astronomy, Stellar University', description='Professor Vega is an astrophysicist who examines the scientific basis of planetary movements and their potential impacts on Earth. He is skeptical of traditional astrology but is open to exploring how gravitational forces and cosmic events might have subtle influences on human physiology and psychology. His work aims to bridge the gap between hard science and the more speculative aspects of astrology.'), Analyst(name='Dr. Mira Solis', role='Cultural Anthropologist', affiliation='Global Institute of Human Studies', description='Dr. Solis studies the cultural significance of astrology across different societies and how these beliefs shape human behavior and societal norms. She is interested in how planetary movements are interpreted in various cultures and the role these interpretations play in guiding personal and collective decision-making processes.')]\n",
      "-*-*-*-*-*-*-*-*-*-*-*-*-*-*-*-*-*-*-*-*-*-*-*-*-*-*-*-*-*-*-*-*-*-*-*-*-*-*-*-*-*-*-*-*-*-*-*-*-*-*\n",
      "name='Dr. Celeste Orion' role='Astrologer and Psychologist' affiliation='Institute of Cosmic Psychology' description='Dr. Orion focuses on the intersection of astrology and psychology, exploring how planetary movements can influence human emotions and behaviors. She is particularly interested in the historical and cultural contexts of astrology and how these can be integrated with modern psychological theories to better understand human behavior.'\n",
      "Name: Dr. Celeste Orion\n",
      "Affiliation: Institute of Cosmic Psychology\n",
      "Role: Astrologer and Psychologist\n",
      "Description: Dr. Orion focuses on the intersection of astrology and psychology, exploring how planetary movements can influence human emotions and behaviors. She is particularly interested in the historical and cultural contexts of astrology and how these can be integrated with modern psychological theories to better understand human behavior.\n",
      "--------------------------------------------------\n",
      "Name: Professor Leo Vega\n",
      "Affiliation: Department of Astronomy, Stellar University\n",
      "Role: Astrophysicist\n",
      "Description: Professor Vega is an astrophysicist who examines the scientific basis of planetary movements and their potential impacts on Earth. He is skeptical of traditional astrology but is open to exploring how gravitational forces and cosmic events might have subtle influences on human physiology and psychology. His work aims to bridge the gap between hard science and the more speculative aspects of astrology.\n",
      "--------------------------------------------------\n",
      "Name: Dr. Mira Solis\n",
      "Affiliation: Global Institute of Human Studies\n",
      "Role: Cultural Anthropologist\n",
      "Description: Dr. Solis studies the cultural significance of astrology across different societies and how these beliefs shape human behavior and societal norms. She is interested in how planetary movements are interpreted in various cultures and the role these interpretations play in guiding personal and collective decision-making processes.\n",
      "--------------------------------------------------\n"
     ]
    }
   ],
   "source": [
    "# Run the graph until the first interruption\n",
    "for event in graph.stream({\"topic\":topic,\"max_analysts\":max_analysts}, thread, stream_mode=\"values\"):\n",
    "    analysts = event.get('analysts', '')\n",
    "    if analysts:\n",
    "        for analyst in analysts:\n",
    "            print(f\"Name: {analyst.name}\")\n",
    "            print(f\"Affiliation: {analyst.affiliation}\")\n",
    "            print(f\"Role: {analyst.role}\")\n",
    "            print(f\"Description: {analyst.description}\")\n",
    "            print(\"-\" * 50) "
   ]
  },
  {
   "cell_type": "code",
   "execution_count": 162,
   "id": "3793deaf",
   "metadata": {},
   "outputs": [
    {
     "data": {
      "text/plain": [
       "{'configurable': {'thread_id': '1',\n",
       "  'checkpoint_ns': '',\n",
       "  'checkpoint_id': '1f0b021a-0ca3-69ee-8002-d3e4c83570d3'}}"
      ]
     },
     "execution_count": 162,
     "metadata": {},
     "output_type": "execute_result"
    }
   ],
   "source": [
    "graph.update_state(thread, {\"human_analyst_feedback\":\"along with it explain one planets effect on mind\"}, as_node=\"human_feedback\")"
   ]
  },
  {
   "cell_type": "code",
   "execution_count": 163,
   "id": "92e975d2",
   "metadata": {},
   "outputs": [
    {
     "name": "stdout",
     "output_type": "stream",
     "text": [
      "Name: Dr. Celeste Orion\n",
      "Affiliation: Institute of Cosmic Psychology\n",
      "Role: Astrologer and Psychologist\n",
      "Description: Dr. Orion focuses on the intersection of astrology and psychology, exploring how planetary movements can influence human emotions and behaviors. She is particularly interested in the historical and cultural contexts of astrology and how these can be integrated with modern psychological theories to better understand human behavior.\n",
      "--------------------------------------------------\n",
      "Name: Professor Leo Vega\n",
      "Affiliation: Department of Astronomy, Stellar University\n",
      "Role: Astrophysicist\n",
      "Description: Professor Vega is an astrophysicist who examines the scientific basis of planetary movements and their potential impacts on Earth. He is skeptical of traditional astrology but is open to exploring how gravitational forces and cosmic events might have subtle influences on human physiology and psychology. His work aims to bridge the gap between hard science and the more speculative aspects of astrology.\n",
      "--------------------------------------------------\n",
      "Name: Dr. Mira Solis\n",
      "Affiliation: Global Institute of Human Studies\n",
      "Role: Cultural Anthropologist\n",
      "Description: Dr. Solis studies the cultural significance of astrology across different societies and how these beliefs shape human behavior and societal norms. She is interested in how planetary movements are interpreted in various cultures and the role these interpretations play in guiding personal and collective decision-making processes.\n",
      "--------------------------------------------------\n"
     ]
    },
    {
     "name": "stderr",
     "output_type": "stream",
     "text": [
      "HTTP Request: POST https://api.openai.com/v1/chat/completions \"HTTP/1.1 200 OK\"\n"
     ]
    },
    {
     "name": "stdout",
     "output_type": "stream",
     "text": [
      "-*-*-*-*-*-*-*-*-*-*-*-*-*-*-*-*-*-*-*-*-*-*-*-*-*-*-*-*-*-*-*-*-*-*-*-*-*-*-*-*-*-*-*-*-*-*-*-*-*-*\n",
      "analysts=[Analyst(name='Dr. Celeste Harmon', role='Astrological Psychologist', affiliation='Institute of Cosmic Psychology', description='Dr. Harmon focuses on the psychological impacts of planetary movements, particularly how celestial events influence human emotions and mental states. She is interested in the correlation between planetary alignments and emotional well-being, exploring how these cosmic patterns can be used to predict and understand human behavior.'), Analyst(name='Professor Orion Vega', role='Behavioral Astrologer', affiliation='University of Astrological Sciences', description='Professor Vega studies the behavioral patterns associated with planetary movements. His research delves into how specific planetary transits can trigger changes in human behavior, such as increased aggression or heightened creativity. He aims to develop predictive models that link planetary cycles with behavioral trends.'), Analyst(name='Dr. Luna Solara', role='Planetary Influence Researcher', affiliation='Celestial Dynamics Institute', description=\"Dr. Solara investigates the broader effects of individual planets on the human mind, with a particular focus on Mercury. She examines how Mercury's retrograde periods are believed to affect communication and cognitive processes, and seeks to scientifically validate these claims through empirical research.\")]\n",
      "-*-*-*-*-*-*-*-*-*-*-*-*-*-*-*-*-*-*-*-*-*-*-*-*-*-*-*-*-*-*-*-*-*-*-*-*-*-*-*-*-*-*-*-*-*-*-*-*-*-*\n",
      "name='Dr. Celeste Harmon' role='Astrological Psychologist' affiliation='Institute of Cosmic Psychology' description='Dr. Harmon focuses on the psychological impacts of planetary movements, particularly how celestial events influence human emotions and mental states. She is interested in the correlation between planetary alignments and emotional well-being, exploring how these cosmic patterns can be used to predict and understand human behavior.'\n",
      "Name: Dr. Celeste Harmon\n",
      "Affiliation: Institute of Cosmic Psychology\n",
      "Role: Astrological Psychologist\n",
      "Description: Dr. Harmon focuses on the psychological impacts of planetary movements, particularly how celestial events influence human emotions and mental states. She is interested in the correlation between planetary alignments and emotional well-being, exploring how these cosmic patterns can be used to predict and understand human behavior.\n",
      "--------------------------------------------------\n",
      "Name: Professor Orion Vega\n",
      "Affiliation: University of Astrological Sciences\n",
      "Role: Behavioral Astrologer\n",
      "Description: Professor Vega studies the behavioral patterns associated with planetary movements. His research delves into how specific planetary transits can trigger changes in human behavior, such as increased aggression or heightened creativity. He aims to develop predictive models that link planetary cycles with behavioral trends.\n",
      "--------------------------------------------------\n",
      "Name: Dr. Luna Solara\n",
      "Affiliation: Celestial Dynamics Institute\n",
      "Role: Planetary Influence Researcher\n",
      "Description: Dr. Solara investigates the broader effects of individual planets on the human mind, with a particular focus on Mercury. She examines how Mercury's retrograde periods are believed to affect communication and cognitive processes, and seeks to scientifically validate these claims through empirical research.\n",
      "--------------------------------------------------\n"
     ]
    }
   ],
   "source": [
    "# Run the graph until the first interruption\n",
    "for event in graph.stream({\"topic\":topic,\"max_analysts\":max_analysts}, thread, stream_mode=\"values\"):\n",
    "    analysts = event.get('analysts', '')\n",
    "    if analysts:\n",
    "        for analyst in analysts:\n",
    "            print(f\"Name: {analyst.name}\")\n",
    "            print(f\"Affiliation: {analyst.affiliation}\")\n",
    "            print(f\"Role: {analyst.role}\")\n",
    "            print(f\"Description: {analyst.description}\")\n",
    "            print(\"-\" * 50)"
   ]
  },
  {
   "cell_type": "code",
   "execution_count": 164,
   "id": "664a92e4",
   "metadata": {},
   "outputs": [
    {
     "data": {
      "text/plain": [
       "{'configurable': {'thread_id': '1',\n",
       "  'checkpoint_ns': '',\n",
       "  'checkpoint_id': '1f0b021a-5f1e-6153-8006-0fb6aa97440c'}}"
      ]
     },
     "execution_count": 164,
     "metadata": {},
     "output_type": "execute_result"
    }
   ],
   "source": [
    "graph.update_state(thread, {\"human_analyst_feedback\":\"\"}, as_node=\"human_feedback\")"
   ]
  },
  {
   "cell_type": "code",
   "execution_count": 165,
   "id": "f054eacf",
   "metadata": {},
   "outputs": [
    {
     "data": {
      "text/plain": [
       "('conduct_interview', 'conduct_interview', 'conduct_interview')"
      ]
     },
     "execution_count": 165,
     "metadata": {},
     "output_type": "execute_result"
    }
   ],
   "source": [
    "graph.get_state(thread).next"
   ]
  },
  {
   "cell_type": "code",
   "execution_count": 166,
   "id": "22446def",
   "metadata": {},
   "outputs": [
    {
     "name": "stderr",
     "output_type": "stream",
     "text": [
      "HTTP Request: POST https://api.openai.com/v1/chat/completions \"HTTP/1.1 200 OK\"\n",
      "HTTP Request: POST https://api.openai.com/v1/chat/completions \"HTTP/1.1 200 OK\"\n",
      "HTTP Request: POST https://api.openai.com/v1/chat/completions \"HTTP/1.1 200 OK\"\n",
      "HTTP Request: POST https://api.openai.com/v1/chat/completions \"HTTP/1.1 200 OK\"\n"
     ]
    },
    {
     "name": "stdout",
     "output_type": "stream",
     "text": [
      "-serper*-serper*-serper*-serper*-serper*-serper*-serper*-serper*-serper*-serper*-serper*-serper*-serper*-serper*-serper*-serper*-serper*-serper*-serper*-serper*-serper*-serper*-serper*-serper*-serper*-serper*-serper*-serper*-serper*-serper*-serper*-serper*-serper*-serper*-serper*-serper*-serper*-serper*-serper*-serper*-serper*-serper*-serper*-serper*-serper*-serper*-serper*-serper*-serper*-serper*\n",
      "search_query='how planetary movements influence human emotions and behaviors'\n"
     ]
    },
    {
     "name": "stderr",
     "output_type": "stream",
     "text": [
      "HTTP Request: POST https://api.openai.com/v1/chat/completions \"HTTP/1.1 200 OK\"\n",
      "C:\\Users\\shank\\AppData\\Local\\Temp\\ipykernel_18324\\3150498081.py:9: DeprecationWarning: The 'Search.results' method is deprecated, use 'Client.results' instead\n",
      "  for result in search.results():\n",
      "Requesting page (first: True, try: 0): https://export.arxiv.org/api/query?search_query=Mercury+retrograde+effects+on+communication+and+cognitive+processes&id_list=&sortBy=relevance&sortOrder=descending&start=0&max_results=100\n",
      "HTTP Request: POST https://api.openai.com/v1/chat/completions \"HTTP/1.1 200 OK\"\n",
      "HTTP Request: POST https://api.openai.com/v1/chat/completions \"HTTP/1.1 200 OK\"\n",
      "HTTP Request: POST https://api.openai.com/v1/chat/completions \"HTTP/1.1 200 OK\"\n"
     ]
    },
    {
     "name": "stdout",
     "output_type": "stream",
     "text": [
      "-serper*-serper*-serper*-serper*-serper*-serper*-serper*-serper*-serper*-serper*-serper*-serper*-serper*-serper*-serper*-serper*-serper*-serper*-serper*-serper*-serper*-serper*-serper*-serper*-serper*-serper*-serper*-serper*-serper*-serper*-serper*-serper*-serper*-serper*-serper*-serper*-serper*-serper*-serper*-serper*-serper*-serper*-serper*-serper*-serper*-serper*-serper*-serper*-serper*-serper*\n",
      "search_query='examples of planetary transits affecting human behavior and emotions'\n"
     ]
    },
    {
     "name": "stderr",
     "output_type": "stream",
     "text": [
      "HTTP Request: POST https://api.openai.com/v1/chat/completions \"HTTP/1.1 200 OK\"\n"
     ]
    },
    {
     "name": "stdout",
     "output_type": "stream",
     "text": [
      "-serper*-serper*-serper*-serper*-serper*-serper*-serper*-serper*-serper*-serper*-serper*-serper*-serper*-serper*-serper*-serper*-serper*-serper*-serper*-serper*-serper*-serper*-serper*-serper*-serper*-serper*-serper*-serper*-serper*-serper*-serper*-serper*-serper*-serper*-serper*-serper*-serper*-serper*-serper*-serper*-serper*-serper*-serper*-serper*-serper*-serper*-serper*-serper*-serper*-serper*\n",
      "search_query='Mercury retrograde effects on communication and cognitive processes'\n"
     ]
    },
    {
     "name": "stderr",
     "output_type": "stream",
     "text": [
      "HTTP Request: POST https://api.openai.com/v1/chat/completions \"HTTP/1.1 200 OK\"\n",
      "HTTP Request: POST https://api.openai.com/v1/chat/completions \"HTTP/1.1 200 OK\"\n",
      "C:\\Users\\shank\\AppData\\Local\\Temp\\ipykernel_18324\\3150498081.py:9: DeprecationWarning: The 'Search.results' method is deprecated, use 'Client.results' instead\n",
      "  for result in search.results():\n",
      "HTTP Request: POST https://api.openai.com/v1/chat/completions \"HTTP/1.1 200 OK\"\n",
      "Requesting page (first: True, try: 0): https://export.arxiv.org/api/query?search_query=examples+of+planetary+transits+affecting+human+behavior+and+emotions&id_list=&sortBy=relevance&sortOrder=descending&start=0&max_results=100\n",
      "C:\\Users\\shank\\AppData\\Local\\Temp\\ipykernel_18324\\3150498081.py:9: DeprecationWarning: The 'Search.results' method is deprecated, use 'Client.results' instead\n",
      "  for result in search.results():\n",
      "Requesting page (first: True, try: 0): https://export.arxiv.org/api/query?search_query=how+planetary+movements+influence+human+emotions+and+behaviors&id_list=&sortBy=relevance&sortOrder=descending&start=0&max_results=100\n",
      "Got first page: 25 of 2797880 total results\n"
     ]
    },
    {
     "name": "stdout",
     "output_type": "stream",
     "text": [
      "-tavily*-tavily*-tavily*-tavily*-tavily*-tavily*-tavily*-tavily*-tavily*-tavily*-tavily*-tavily*-tavily*-tavily*-tavily*-tavily*-tavily*-tavily*-tavily*-tavily*-tavily*-tavily*-tavily*-tavily*-tavily*-tavily*-tavily*-tavily*-tavily*-tavily*-tavily*-tavily*-tavily*-tavily*-tavily*-tavily*-tavily*-tavily*-tavily*-tavily*-tavily*-tavily*-tavily*-tavily*-tavily*-tavily*-tavily*-tavily*-tavily*-tavily*"
     ]
    },
    {
     "name": "stderr",
     "output_type": "stream",
     "text": [
      "Got first page: 100 of 2838635 total results\n"
     ]
    },
    {
     "name": "stdout",
     "output_type": "stream",
     "text": [
      "\n"
     ]
    },
    {
     "name": "stderr",
     "output_type": "stream",
     "text": [
      "Got first page: 25 of 2862716 total results\n"
     ]
    },
    {
     "name": "stdout",
     "output_type": "stream",
     "text": [
      "-tavily*-tavily*-tavily*-tavily*-tavily*-tavily*-tavily*-tavily*-tavily*-tavily*-tavily*-tavily*-tavily*-tavily*-tavily*-tavily*-tavily*-tavily*-tavily*-tavily*-tavily*-tavily*-tavily*-tavily*-tavily*-tavily*-tavily*-tavily*-tavily*-tavily*-tavily*-tavily*-tavily*-tavily*-tavily*-tavily*-tavily*-tavily*-tavily*-tavily*-tavily*-tavily*-tavily*-tavily*-tavily*-tavily*-tavily*-tavily*-tavily*-tavily*\n",
      "-tavily*-tavily*-tavily*-tavily*-tavily*-tavily*-tavily*-tavily*-tavily*-tavily*-tavily*-tavily*-tavily*-tavily*-tavily*-tavily*-tavily*-tavily*-tavily*-tavily*-tavily*-tavily*-tavily*-tavily*-tavily*-tavily*-tavily*-tavily*-tavily*-tavily*-tavily*-tavily*-tavily*-tavily*-tavily*-tavily*-tavily*-tavily*-tavily*-tavily*-tavily*-tavily*-tavily*-tavily*-tavily*-tavily*-tavily*-tavily*-tavily*-tavily*\n"
     ]
    },
    {
     "name": "stderr",
     "output_type": "stream",
     "text": [
      "HTTP Request: POST https://api.openai.com/v1/chat/completions \"HTTP/1.1 200 OK\"\n",
      "HTTP Request: POST https://api.openai.com/v1/chat/completions \"HTTP/1.1 200 OK\"\n",
      "HTTP Request: POST https://api.openai.com/v1/chat/completions \"HTTP/1.1 200 OK\"\n",
      "C:\\Users\\shank\\AppData\\Local\\Temp\\ipykernel_18324\\3150498081.py:9: DeprecationWarning: The 'Search.results' method is deprecated, use 'Client.results' instead\n",
      "  for result in search.results():\n",
      "Requesting page (first: True, try: 0): https://export.arxiv.org/api/query?search_query=recent+celestial+events+influence+human+behavior+emotions&id_list=&sortBy=relevance&sortOrder=descending&start=0&max_results=100\n",
      "HTTP Request: POST https://api.openai.com/v1/chat/completions \"HTTP/1.1 200 OK\"\n"
     ]
    },
    {
     "name": "stdout",
     "output_type": "stream",
     "text": [
      "-serper*-serper*-serper*-serper*-serper*-serper*-serper*-serper*-serper*-serper*-serper*-serper*-serper*-serper*-serper*-serper*-serper*-serper*-serper*-serper*-serper*-serper*-serper*-serper*-serper*-serper*-serper*-serper*-serper*-serper*-serper*-serper*-serper*-serper*-serper*-serper*-serper*-serper*-serper*-serper*-serper*-serper*-serper*-serper*-serper*-serper*-serper*-serper*-serper*-serper*\n",
      "search_query='recent celestial events influence human behavior emotions'\n"
     ]
    },
    {
     "name": "stderr",
     "output_type": "stream",
     "text": [
      "HTTP Request: POST https://api.openai.com/v1/chat/completions \"HTTP/1.1 200 OK\"\n",
      "Got first page: 100 of 730870 total results\n",
      "HTTP Request: POST https://api.openai.com/v1/chat/completions \"HTTP/1.1 200 OK\"\n"
     ]
    },
    {
     "name": "stdout",
     "output_type": "stream",
     "text": [
      "-tavily*-tavily*-tavily*-tavily*-tavily*-tavily*-tavily*-tavily*-tavily*-tavily*-tavily*-tavily*-tavily*-tavily*-tavily*-tavily*-tavily*-tavily*-tavily*-tavily*-tavily*-tavily*-tavily*-tavily*-tavily*-tavily*-tavily*-tavily*-tavily*-tavily*-tavily*-tavily*-tavily*-tavily*-tavily*-tavily*-tavily*-tavily*-tavily*-tavily*-tavily*-tavily*-tavily*-tavily*-tavily*-tavily*-tavily*-tavily*-tavily*-tavily*\n"
     ]
    },
    {
     "name": "stderr",
     "output_type": "stream",
     "text": [
      "HTTP Request: POST https://api.openai.com/v1/chat/completions \"HTTP/1.1 200 OK\"\n",
      "HTTP Request: POST https://api.openai.com/v1/chat/completions \"HTTP/1.1 200 OK\"\n",
      "C:\\Users\\shank\\AppData\\Local\\Temp\\ipykernel_18324\\3150498081.py:9: DeprecationWarning: The 'Search.results' method is deprecated, use 'Client.results' instead\n",
      "  for result in search.results():\n",
      "Requesting page (first: True, try: 0): https://export.arxiv.org/api/query?search_query=predictive+models+using+planetary+cycles+for+forecasting+human+behavior+trends&id_list=&sortBy=relevance&sortOrder=descending&start=0&max_results=100\n",
      "HTTP Request: POST https://api.openai.com/v1/chat/completions \"HTTP/1.1 200 OK\"\n",
      "HTTP Request: POST https://api.openai.com/v1/chat/completions \"HTTP/1.1 200 OK\"\n"
     ]
    },
    {
     "name": "stdout",
     "output_type": "stream",
     "text": [
      "-serper*-serper*-serper*-serper*-serper*-serper*-serper*-serper*-serper*-serper*-serper*-serper*-serper*-serper*-serper*-serper*-serper*-serper*-serper*-serper*-serper*-serper*-serper*-serper*-serper*-serper*-serper*-serper*-serper*-serper*-serper*-serper*-serper*-serper*-serper*-serper*-serper*-serper*-serper*-serper*-serper*-serper*-serper*-serper*-serper*-serper*-serper*-serper*-serper*-serper*\n",
      "search_query='predictive models using planetary cycles for forecasting human behavior'\n"
     ]
    },
    {
     "name": "stderr",
     "output_type": "stream",
     "text": [
      "HTTP Request: POST https://api.openai.com/v1/chat/completions \"HTTP/1.1 200 OK\"\n",
      "HTTP Request: POST https://api.openai.com/v1/chat/completions \"HTTP/1.1 200 OK\"\n",
      "Got first page: 100 of 2620184 total results\n",
      "HTTP Request: POST https://api.openai.com/v1/chat/completions \"HTTP/1.1 200 OK\"\n"
     ]
    },
    {
     "name": "stdout",
     "output_type": "stream",
     "text": [
      "-serper*-serper*-serper*-serper*-serper*-serper*-serper*-serper*-serper*-serper*-serper*-serper*-serper*-serper*-serper*-serper*-serper*-serper*-serper*-serper*-serper*-serper*-serper*-serper*-serper*-serper*-serper*-serper*-serper*-serper*-serper*-serper*-serper*-serper*-serper*-serper*-serper*-serper*-serper*-serper*-serper*-serper*-serper*-serper*-serper*-serper*-serper*-serper*-serper*-serper*\n",
      "search_query='scientific studies on Mercury retrograde effects on communication and cognition'\n"
     ]
    },
    {
     "name": "stderr",
     "output_type": "stream",
     "text": [
      "HTTP Request: POST https://api.openai.com/v1/chat/completions \"HTTP/1.1 200 OK\"\n",
      "C:\\Users\\shank\\AppData\\Local\\Temp\\ipykernel_18324\\3150498081.py:9: DeprecationWarning: The 'Search.results' method is deprecated, use 'Client.results' instead\n",
      "  for result in search.results():\n",
      "Requesting page (first: True, try: 0): https://export.arxiv.org/api/query?search_query=scientific+studies+on+Mercury+retrograde+effects+on+communication+and+cognition&id_list=&sortBy=relevance&sortOrder=descending&start=0&max_results=100\n",
      "HTTP Request: POST https://api.openai.com/v1/chat/completions \"HTTP/1.1 200 OK\"\n",
      "Got first page: 25 of 2841340 total results\n"
     ]
    },
    {
     "name": "stdout",
     "output_type": "stream",
     "text": [
      "-tavily*-tavily*-tavily*-tavily*-tavily*-tavily*-tavily*-tavily*-tavily*-tavily*-tavily*-tavily*-tavily*-tavily*-tavily*-tavily*-tavily*-tavily*-tavily*-tavily*-tavily*-tavily*-tavily*-tavily*-tavily*-tavily*-tavily*-tavily*-tavily*-tavily*-tavily*-tavily*-tavily*-tavily*-tavily*-tavily*-tavily*-tavily*-tavily*-tavily*-tavily*-tavily*-tavily*-tavily*-tavily*-tavily*-tavily*-tavily*-tavily*-tavily*\n",
      "-tavily*-tavily*-tavily*-tavily*-tavily*-tavily*-tavily*-tavily*-tavily*-tavily*-tavily*-tavily*-tavily*-tavily*-tavily*-tavily*-tavily*-tavily*-tavily*-tavily*-tavily*-tavily*-tavily*-tavily*-tavily*-tavily*-tavily*-tavily*-tavily*-tavily*-tavily*-tavily*-tavily*-tavily*-tavily*-tavily*-tavily*-tavily*-tavily*-tavily*-tavily*-tavily*-tavily*-tavily*-tavily*-tavily*-tavily*-tavily*-tavily*-tavily*\n"
     ]
    },
    {
     "name": "stderr",
     "output_type": "stream",
     "text": [
      "HTTP Request: POST https://api.openai.com/v1/chat/completions \"HTTP/1.1 200 OK\"\n",
      "HTTP Request: POST https://api.openai.com/v1/chat/completions \"HTTP/1.1 200 OK\"\n",
      "HTTP Request: POST https://api.openai.com/v1/chat/completions \"HTTP/1.1 200 OK\"\n",
      "HTTP Request: POST https://api.openai.com/v1/chat/completions \"HTTP/1.1 429 Too Many Requests\"\n",
      "Retrying request to /chat/completions in 0.814000 seconds\n",
      "HTTP Request: POST https://api.openai.com/v1/chat/completions \"HTTP/1.1 200 OK\"\n",
      "HTTP Request: POST https://api.openai.com/v1/chat/completions \"HTTP/1.1 200 OK\"\n"
     ]
    },
    {
     "name": "stdout",
     "output_type": "stream",
     "text": [
      "--Node--\n",
      "conduct_interview\n",
      "--Node--\n",
      "conduct_interview\n"
     ]
    },
    {
     "name": "stderr",
     "output_type": "stream",
     "text": [
      "HTTP Request: POST https://api.openai.com/v1/chat/completions \"HTTP/1.1 200 OK\"\n"
     ]
    },
    {
     "name": "stdout",
     "output_type": "stream",
     "text": [
      "--Node--\n",
      "conduct_interview\n"
     ]
    },
    {
     "name": "stderr",
     "output_type": "stream",
     "text": [
      "HTTP Request: POST https://api.openai.com/v1/chat/completions \"HTTP/1.1 200 OK\"\n"
     ]
    },
    {
     "name": "stdout",
     "output_type": "stream",
     "text": [
      "--Node--\n",
      "write_conclusion\n"
     ]
    },
    {
     "name": "stderr",
     "output_type": "stream",
     "text": [
      "HTTP Request: POST https://api.openai.com/v1/chat/completions \"HTTP/1.1 200 OK\"\n"
     ]
    },
    {
     "name": "stdout",
     "output_type": "stream",
     "text": [
      "--Node--\n",
      "write_introduction\n"
     ]
    },
    {
     "name": "stderr",
     "output_type": "stream",
     "text": [
      "HTTP Request: POST https://api.openai.com/v1/chat/completions \"HTTP/1.1 200 OK\"\n"
     ]
    },
    {
     "name": "stdout",
     "output_type": "stream",
     "text": [
      "--Node--\n",
      "write_report\n",
      "--Node--\n",
      "finalize_report\n"
     ]
    }
   ],
   "source": [
    "# Continue\n",
    "for event in graph.stream(None, thread, stream_mode=\"updates\"):\n",
    "    print(\"--Node--\")\n",
    "    node_name = next(iter(event.keys()))\n",
    "    print(node_name)"
   ]
  },
  {
   "cell_type": "code",
   "execution_count": 167,
   "id": "e98d9d52",
   "metadata": {},
   "outputs": [],
   "source": [
    "from IPython.display import Markdown"
   ]
  },
  {
   "cell_type": "code",
   "execution_count": 168,
   "id": "d49d9f13",
   "metadata": {},
   "outputs": [],
   "source": [
    "final_state = graph.get_state(thread)"
   ]
  },
  {
   "cell_type": "code",
   "execution_count": 169,
   "id": "c91be8c7",
   "metadata": {},
   "outputs": [],
   "source": [
    "report = final_state.values.get('final_report')"
   ]
  },
  {
   "cell_type": "code",
   "execution_count": 170,
   "id": "f546be07",
   "metadata": {},
   "outputs": [
    {
     "data": {
      "text/markdown": [
       "# Celestial Influences: The Psychological Impact of Planetary Movements\n",
       "\n",
       "## Introduction\n",
       "\n",
       "The interplay between planetary movements and human emotions has captivated both ancient astrologers and modern scientists. This report delves into the psychological impacts of celestial events, exploring how planetary alignments and lunar phases might influence our mental states. Dr. Harmon examines the potential electromagnetic effects of these cosmic patterns on human brainwaves, while Professor Vega's research offers predictive models linking planetary cycles with behavioral trends. Additionally, the enigmatic influence of Mercury retrograde on communication and cognition is scrutinized, providing a comprehensive view of how celestial bodies might shape our emotional well-being and decision-making processes.\n",
       "\n",
       "---\n",
       "\n",
       "\n",
       "\n",
       "The exploration of planetary movements and their influence on human emotions and behaviors is a captivating intersection of ancient astrological beliefs and modern scientific inquiry. This field seeks to understand how celestial events, such as planetary alignments and lunar phases, can impact human mental states and decision-making processes.\n",
       "\n",
       "Recent studies suggest that planetary positions might exert subtle electromagnetic influences on Earth, potentially affecting human brainwave patterns and emotional states [1]. This is exemplified by the moon's phases, which have been associated with changes in human emotions and behaviors, such as increased energy and emotional intensity during a full moon [2]. Astrological alignments, like Sun-Saturn or Uranus-Saturn, are believed to influence human behavior by motivating hard work or causing restlessness, respectively [3]. These alignments provide a unique perspective for individuals to gain insight and guidance amidst the chaos of daily life.\n",
       "\n",
       "The research also highlights the role of emotional contagion in online social media, where emotions like anger and joy can spread rapidly, influenced by network structure and tie strength [5]. This phenomenon mirrors the way celestial events might influence collective human emotions, suggesting a broader context in which planetary movements could impact societal behaviors.\n",
       "\n",
       "Professor Vega's research delves into the behavioral patterns associated with planetary movements, aiming to uncover the underlying mechanisms that drive these changes. By observing the movements of planets, researchers can predict and interpret emotional changes, offering insights into how celestial cycles influence human behavior [3]. This approach combines traditional astrological beliefs with modern psychological insights, enhancing our understanding of cosmic influences.\n",
       "\n",
       "One surprising insight is the potential for planetary alignments to exert subtle electromagnetic influences on Earth, affecting human brainwave patterns and emotional states. For example, Mars may evoke feelings of fear and impulsiveness during challenging transits, while Venus and the Moon influence love and relationships [4][5]. Understanding individual differences in emotional expression is crucial, as these can lead to inconsistent emotional responses. By incorporating personality traits into predictive models, researchers can simulate emotion transitions in conversation, providing a more personalized approach to understanding cosmic influences [6].\n",
       "\n",
       "Mercury, particularly during its retrograde periods, is believed to disrupt communication, technology, and cognitive processes. These retrograde phases, occurring three to four times a year, are associated with mental fog, communication breakdowns, and technological mishaps [2][3]. Despite the lack of scientific evidence supporting these claims, the belief in Mercury's astrological influence persists. Interestingly, Mercury retrograde also presents opportunities for reflection and deeper understanding, offering valuable insights for decision-making and relationship management [4][5].\n",
       "\n",
       "In conclusion, the study of planetary movements and their influence on human emotions and behaviors is a rich field that combines ancient wisdom with modern scientific inquiry. By understanding these cosmic patterns, we can gain valuable insights into human behavior, emotional well-being, and decision-making processes.\n",
       "\n",
       "\n",
       "---\n",
       "\n",
       "## Conclusion\n",
       "\n",
       "The exploration of planetary movements and their influence on human emotions and behaviors bridges ancient astrological beliefs with modern scientific inquiry. Dr. Harmon's insights into the psychological impacts of celestial events reveal potential mechanisms, such as electromagnetic influences, that may affect human brainwave patterns and emotional states. Professor Vega's research further delves into how specific planetary transits can trigger behavioral changes, offering predictive models that link cosmic cycles with human behavior. The enigmatic influence of Mercury, particularly during its retrograde periods, highlights the dual nature of celestial impacts—both challenging and enlightening. Together, these studies underscore the profound and multifaceted ways in which planetary movements may shape our emotional well-being and decision-making processes, inviting continued exploration and understanding.\n",
       "\n",
       "## Sources\n",
       "[1] https://medium.com/exploring-the-cosmos/the-science-behind-astrology-unraveling-the-cosmos-influence-on-human-life-455ba7ab3433  \n",
       "[2] https://www.almanac.com/can-full-moon-affect-your-mood  \n",
       "[3] https://timesofindia.indiatimes.com/astrology/zodiacs-astrology/how-planetary-alignments-influence-human-behavior/articleshow/109557408.cms  \n",
       "[4] https://fullmoonbehavioral.com/your-mental-health-and-astrology-how-the-movement-of-planets-and-the-moon-influence-mood-and-emotions/  \n",
       "[5] http://arxiv.org/abs/1706.02676v1  \n",
       "[6] http://arxiv.org/abs/2106.15846v1  \n",
       "[7] http://arxiv.org/abs/2404.17523v1  \n",
       "[8] https://www.jpost.com/consumerism/article-867963  \n",
       "[9] https://astrovoice.ai/blogs/the-influence-of-mercury-retrograde-on-your-communication-and-relationships  \n",
       "[10] https://www.keen.com/articles/love/how-mercury-retrograde-affects-communication-understanding-in-your-love-life  \n",
       "[11] https://www.almanac.com/mercury-retrograde-and-zodiac-"
      ],
      "text/plain": [
       "<IPython.core.display.Markdown object>"
      ]
     },
     "execution_count": 170,
     "metadata": {},
     "output_type": "execute_result"
    }
   ],
   "source": [
    "Markdown(report)"
   ]
  },
  {
   "cell_type": "code",
   "execution_count": null,
   "id": "b629b159",
   "metadata": {},
   "outputs": [],
   "source": []
  }
 ],
 "metadata": {
  "kernelspec": {
   "display_name": "automatedresearchreportgeneration",
   "language": "python",
   "name": "python3"
  },
  "language_info": {
   "codemirror_mode": {
    "name": "ipython",
    "version": 3
   },
   "file_extension": ".py",
   "mimetype": "text/x-python",
   "name": "python",
   "nbconvert_exporter": "python",
   "pygments_lexer": "ipython3",
   "version": "3.11.13"
  }
 },
 "nbformat": 4,
 "nbformat_minor": 5
}
